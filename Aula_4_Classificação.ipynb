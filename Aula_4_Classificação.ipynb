{
  "nbformat": 4,
  "nbformat_minor": 0,
  "metadata": {
    "colab": {
      "provenance": [],
      "include_colab_link": true
    },
    "kernelspec": {
      "name": "python3",
      "display_name": "Python 3"
    },
    "language_info": {
      "name": "python"
    }
  },
  "cells": [
    {
      "cell_type": "markdown",
      "metadata": {
        "id": "view-in-github",
        "colab_type": "text"
      },
      "source": [
        "<a href=\"https://colab.research.google.com/github/yagomsv/aulas_ciencia_de_dados_UFBA/blob/main/Aula_4_Classifica%C3%A7%C3%A3o.ipynb\" target=\"_parent\"><img src=\"https://colab.research.google.com/assets/colab-badge.svg\" alt=\"Open In Colab\"/></a>"
      ]
    },
    {
      "cell_type": "markdown",
      "metadata": {
        "id": "81XdDOLXem8n"
      },
      "source": [
        "# Regressão Logística\n",
        "\n",
        "A Regressão Logística serve para classificar algo dentro de um conjunto de categorias. Como exemplo, utilizaremos um conjunto de dados de pacientes com doenças cardiovasculares. Precisamos classificar o paciente como possuindo ou não uma doença cardíaca. A Regressão Linear não é adequada aqui, uma vez que trabalha com valores contínuos.\n",
        "\n",
        "A Regressão Logística e modelos  é ideal nesse tipo de situação, de classificação, pois trabalha com probabilidades. No caso, após treinar o modelo conseguiríamos ver qual a probabilidade de um dado paciente possuir ou não algum problema no coração.\n",
        "\n",
        "Pense na imagem acima como se o eixo-x fosse a idade de um paciente e o eixo y a probabilidade dele ter uma doença cardíaca. \n",
        "\n",
        "Como você vê, precisamos mapear valores para dentro de um range $[0,1]$. Para isso, usamos a função sigmóide,\n",
        "\n",
        "$$\n",
        "sigmoid(z) = \\frac{1}{1 + e^{-z}}\n",
        "$$\n",
        "\n",
        "onde $z= b + w_1x_1 + w_2x_2 + \\dots + w_mx_m$ é o *output* da camada linear de um modelo de regressão logística. A curva **sigmoidal** irá mapear esse valor (qualquer) para o itnervalo entre 0 e 1.\n",
        "\n",
        "Assim como na Regressão Linear nós tínhamos o erro quadrático (*squared loss*), a *loss function* para a Regressão Logística é representada po\n",
        "\n",
        "$$\n",
        "\\text{Log Loss} = \\sum_{(x, y) \\in D} -y\\log(\\hat{y}) - (1 -y)\\log(1-\\hat{y})\n",
        "$$"
      ]
    },
    {
      "cell_type": "markdown",
      "metadata": {
        "id": "Y4dTtCeXKlaC"
      },
      "source": [
        "## Regressão Logística no `scikit-learn`\n",
        "\n",
        "O conjunto de dados original, que foi adapatado neste *notebook*, foi coletado da ***Cleveland Clinic Foundation*** e se encontra disponível no conhecido [Repositório UCI *Machine Learning*](https://archive.ics.uci.edu/ml/datasets/heart+Disease).\n",
        "\n",
        "Diferentemente do arquivo `csv` que foi disponibilizado no Módulo 3, [neste link](http://dl.dropboxusercontent.com/s/6d91j46mkcdj4qv/heart-disease-clean.csv?dl=0) você encontra o arquivo com os dados já tratado. Para nossa variável alvo (*target*) você encontra as seguintes categorias:\n",
        "\n",
        "* `num` - diagnóstico de doença cardíaca (diagnóstico angiográfico)\n",
        "  * 0: não há doença cardíaca ( < 50% de estreitamento do diâmetro)\n",
        "  * 1: há doença cardíaca ( > 50% de estreitamento do diâmetro)\n",
        "\n"
      ]
    },
    {
      "cell_type": "code",
      "metadata": {
        "id": "YEDrcpEJen6R",
        "colab": {
          "base_uri": "https://localhost:8080/",
          "height": 241
        },
        "outputId": "103a4534-0394-477d-d0bc-c9c36dc1244c"
      },
      "source": [
        "# importar os pacotes necessários\n",
        "import pandas as pd\n",
        "import matplotlib.pyplot as plt\n",
        "import seaborn as sns\n",
        "\n",
        "# configurar o notebook\n",
        "#sns.set_style()\n",
        "\n",
        "# importar o arquivo\n",
        "df = pd.read_csv(\"http://dl.dropboxusercontent.com/s/6d91j46mkcdj4qv/heart-disease-clean.csv?dl=1\")\n",
        "\n",
        "# ver as primeiras entradas\n",
        "print(\"Tamanho do DataFrame: {}\\n\".format(df.shape))\n",
        "\n",
        "df.head()"
      ],
      "execution_count": 1,
      "outputs": [
        {
          "output_type": "stream",
          "name": "stdout",
          "text": [
            "Tamanho do DataFrame: (303, 14)\n",
            "\n"
          ]
        },
        {
          "output_type": "execute_result",
          "data": {
            "text/plain": [
              "    age  sex   cp  trestbps   chol  fbs  restecg  thalach  exang  oldpeak  \\\n",
              "0  63.0  1.0  1.0     145.0  233.0  1.0      2.0    150.0    0.0      2.3   \n",
              "1  67.0  1.0  4.0     160.0  286.0  0.0      2.0    108.0    1.0      1.5   \n",
              "2  67.0  1.0  4.0     120.0  229.0  0.0      2.0    129.0    1.0      2.6   \n",
              "3  37.0  1.0  3.0     130.0  250.0  0.0      0.0    187.0    0.0      3.5   \n",
              "4  41.0  0.0  2.0     130.0  204.0  0.0      2.0    172.0    0.0      1.4   \n",
              "\n",
              "   slope   ca  thal  num  \n",
              "0    3.0  0.0   6.0    0  \n",
              "1    2.0  3.0   3.0    1  \n",
              "2    2.0  2.0   7.0    1  \n",
              "3    3.0  0.0   3.0    0  \n",
              "4    1.0  0.0   3.0    0  "
            ],
            "text/html": [
              "\n",
              "  <div id=\"df-00a1a331-cd3b-4959-993f-ba07260893de\">\n",
              "    <div class=\"colab-df-container\">\n",
              "      <div>\n",
              "<style scoped>\n",
              "    .dataframe tbody tr th:only-of-type {\n",
              "        vertical-align: middle;\n",
              "    }\n",
              "\n",
              "    .dataframe tbody tr th {\n",
              "        vertical-align: top;\n",
              "    }\n",
              "\n",
              "    .dataframe thead th {\n",
              "        text-align: right;\n",
              "    }\n",
              "</style>\n",
              "<table border=\"1\" class=\"dataframe\">\n",
              "  <thead>\n",
              "    <tr style=\"text-align: right;\">\n",
              "      <th></th>\n",
              "      <th>age</th>\n",
              "      <th>sex</th>\n",
              "      <th>cp</th>\n",
              "      <th>trestbps</th>\n",
              "      <th>chol</th>\n",
              "      <th>fbs</th>\n",
              "      <th>restecg</th>\n",
              "      <th>thalach</th>\n",
              "      <th>exang</th>\n",
              "      <th>oldpeak</th>\n",
              "      <th>slope</th>\n",
              "      <th>ca</th>\n",
              "      <th>thal</th>\n",
              "      <th>num</th>\n",
              "    </tr>\n",
              "  </thead>\n",
              "  <tbody>\n",
              "    <tr>\n",
              "      <th>0</th>\n",
              "      <td>63.0</td>\n",
              "      <td>1.0</td>\n",
              "      <td>1.0</td>\n",
              "      <td>145.0</td>\n",
              "      <td>233.0</td>\n",
              "      <td>1.0</td>\n",
              "      <td>2.0</td>\n",
              "      <td>150.0</td>\n",
              "      <td>0.0</td>\n",
              "      <td>2.3</td>\n",
              "      <td>3.0</td>\n",
              "      <td>0.0</td>\n",
              "      <td>6.0</td>\n",
              "      <td>0</td>\n",
              "    </tr>\n",
              "    <tr>\n",
              "      <th>1</th>\n",
              "      <td>67.0</td>\n",
              "      <td>1.0</td>\n",
              "      <td>4.0</td>\n",
              "      <td>160.0</td>\n",
              "      <td>286.0</td>\n",
              "      <td>0.0</td>\n",
              "      <td>2.0</td>\n",
              "      <td>108.0</td>\n",
              "      <td>1.0</td>\n",
              "      <td>1.5</td>\n",
              "      <td>2.0</td>\n",
              "      <td>3.0</td>\n",
              "      <td>3.0</td>\n",
              "      <td>1</td>\n",
              "    </tr>\n",
              "    <tr>\n",
              "      <th>2</th>\n",
              "      <td>67.0</td>\n",
              "      <td>1.0</td>\n",
              "      <td>4.0</td>\n",
              "      <td>120.0</td>\n",
              "      <td>229.0</td>\n",
              "      <td>0.0</td>\n",
              "      <td>2.0</td>\n",
              "      <td>129.0</td>\n",
              "      <td>1.0</td>\n",
              "      <td>2.6</td>\n",
              "      <td>2.0</td>\n",
              "      <td>2.0</td>\n",
              "      <td>7.0</td>\n",
              "      <td>1</td>\n",
              "    </tr>\n",
              "    <tr>\n",
              "      <th>3</th>\n",
              "      <td>37.0</td>\n",
              "      <td>1.0</td>\n",
              "      <td>3.0</td>\n",
              "      <td>130.0</td>\n",
              "      <td>250.0</td>\n",
              "      <td>0.0</td>\n",
              "      <td>0.0</td>\n",
              "      <td>187.0</td>\n",
              "      <td>0.0</td>\n",
              "      <td>3.5</td>\n",
              "      <td>3.0</td>\n",
              "      <td>0.0</td>\n",
              "      <td>3.0</td>\n",
              "      <td>0</td>\n",
              "    </tr>\n",
              "    <tr>\n",
              "      <th>4</th>\n",
              "      <td>41.0</td>\n",
              "      <td>0.0</td>\n",
              "      <td>2.0</td>\n",
              "      <td>130.0</td>\n",
              "      <td>204.0</td>\n",
              "      <td>0.0</td>\n",
              "      <td>2.0</td>\n",
              "      <td>172.0</td>\n",
              "      <td>0.0</td>\n",
              "      <td>1.4</td>\n",
              "      <td>1.0</td>\n",
              "      <td>0.0</td>\n",
              "      <td>3.0</td>\n",
              "      <td>0</td>\n",
              "    </tr>\n",
              "  </tbody>\n",
              "</table>\n",
              "</div>\n",
              "      <button class=\"colab-df-convert\" onclick=\"convertToInteractive('df-00a1a331-cd3b-4959-993f-ba07260893de')\"\n",
              "              title=\"Convert this dataframe to an interactive table.\"\n",
              "              style=\"display:none;\">\n",
              "        \n",
              "  <svg xmlns=\"http://www.w3.org/2000/svg\" height=\"24px\"viewBox=\"0 0 24 24\"\n",
              "       width=\"24px\">\n",
              "    <path d=\"M0 0h24v24H0V0z\" fill=\"none\"/>\n",
              "    <path d=\"M18.56 5.44l.94 2.06.94-2.06 2.06-.94-2.06-.94-.94-2.06-.94 2.06-2.06.94zm-11 1L8.5 8.5l.94-2.06 2.06-.94-2.06-.94L8.5 2.5l-.94 2.06-2.06.94zm10 10l.94 2.06.94-2.06 2.06-.94-2.06-.94-.94-2.06-.94 2.06-2.06.94z\"/><path d=\"M17.41 7.96l-1.37-1.37c-.4-.4-.92-.59-1.43-.59-.52 0-1.04.2-1.43.59L10.3 9.45l-7.72 7.72c-.78.78-.78 2.05 0 2.83L4 21.41c.39.39.9.59 1.41.59.51 0 1.02-.2 1.41-.59l7.78-7.78 2.81-2.81c.8-.78.8-2.07 0-2.86zM5.41 20L4 18.59l7.72-7.72 1.47 1.35L5.41 20z\"/>\n",
              "  </svg>\n",
              "      </button>\n",
              "      \n",
              "  <style>\n",
              "    .colab-df-container {\n",
              "      display:flex;\n",
              "      flex-wrap:wrap;\n",
              "      gap: 12px;\n",
              "    }\n",
              "\n",
              "    .colab-df-convert {\n",
              "      background-color: #E8F0FE;\n",
              "      border: none;\n",
              "      border-radius: 50%;\n",
              "      cursor: pointer;\n",
              "      display: none;\n",
              "      fill: #1967D2;\n",
              "      height: 32px;\n",
              "      padding: 0 0 0 0;\n",
              "      width: 32px;\n",
              "    }\n",
              "\n",
              "    .colab-df-convert:hover {\n",
              "      background-color: #E2EBFA;\n",
              "      box-shadow: 0px 1px 2px rgba(60, 64, 67, 0.3), 0px 1px 3px 1px rgba(60, 64, 67, 0.15);\n",
              "      fill: #174EA6;\n",
              "    }\n",
              "\n",
              "    [theme=dark] .colab-df-convert {\n",
              "      background-color: #3B4455;\n",
              "      fill: #D2E3FC;\n",
              "    }\n",
              "\n",
              "    [theme=dark] .colab-df-convert:hover {\n",
              "      background-color: #434B5C;\n",
              "      box-shadow: 0px 1px 3px 1px rgba(0, 0, 0, 0.15);\n",
              "      filter: drop-shadow(0px 1px 2px rgba(0, 0, 0, 0.3));\n",
              "      fill: #FFFFFF;\n",
              "    }\n",
              "  </style>\n",
              "\n",
              "      <script>\n",
              "        const buttonEl =\n",
              "          document.querySelector('#df-00a1a331-cd3b-4959-993f-ba07260893de button.colab-df-convert');\n",
              "        buttonEl.style.display =\n",
              "          google.colab.kernel.accessAllowed ? 'block' : 'none';\n",
              "\n",
              "        async function convertToInteractive(key) {\n",
              "          const element = document.querySelector('#df-00a1a331-cd3b-4959-993f-ba07260893de');\n",
              "          const dataTable =\n",
              "            await google.colab.kernel.invokeFunction('convertToInteractive',\n",
              "                                                     [key], {});\n",
              "          if (!dataTable) return;\n",
              "\n",
              "          const docLinkHtml = 'Like what you see? Visit the ' +\n",
              "            '<a target=\"_blank\" href=https://colab.research.google.com/notebooks/data_table.ipynb>data table notebook</a>'\n",
              "            + ' to learn more about interactive tables.';\n",
              "          element.innerHTML = '';\n",
              "          dataTable['output_type'] = 'display_data';\n",
              "          await google.colab.output.renderOutput(dataTable, element);\n",
              "          const docLink = document.createElement('div');\n",
              "          docLink.innerHTML = docLinkHtml;\n",
              "          element.appendChild(docLink);\n",
              "        }\n",
              "      </script>\n",
              "    </div>\n",
              "  </div>\n",
              "  "
            ]
          },
          "metadata": {},
          "execution_count": 1
        }
      ]
    },
    {
      "cell_type": "code",
      "source": [
        "df['num'].value_counts()"
      ],
      "metadata": {
        "id": "qFQSXHmZOJyZ",
        "outputId": "53eedb7e-6354-4dc5-d690-8cf85e68486b",
        "colab": {
          "base_uri": "https://localhost:8080/"
        }
      },
      "execution_count": 2,
      "outputs": [
        {
          "output_type": "execute_result",
          "data": {
            "text/plain": [
              "0    164\n",
              "1    139\n",
              "Name: num, dtype: int64"
            ]
          },
          "metadata": {},
          "execution_count": 2
        }
      ]
    },
    {
      "cell_type": "markdown",
      "metadata": {
        "id": "I2qTumIDWkUY"
      },
      "source": [
        "Repare em tudo que estamos importando na célula abaixo. Além de `LogisticRegression` estamos importando métricas totalmente diferentes daquelas que usamos para avaliar modelos de Regressão Linear, o que faz todo sentido.\n"
      ]
    },
    {
      "cell_type": "code",
      "metadata": {
        "id": "ALwopto2jzIy"
      },
      "source": [
        "# importar scikit-learn para criar o modelo\n",
        "from sklearn.model_selection import train_test_split\n",
        "from sklearn.preprocessing import StandardScaler\n",
        "from sklearn.metrics import classification_report\n",
        "from sklearn.metrics import confusion_matrix"
      ],
      "execution_count": 3,
      "outputs": []
    },
    {
      "cell_type": "markdown",
      "metadata": {
        "id": "gfDvG_h4XD8y"
      },
      "source": [
        "Nesta etapa, vamos dividir o *dataset* entre treino e teste, da mesma maneira que fizemos e sempre vamos fazer para outros modelos."
      ]
    },
    {
      "cell_type": "code",
      "metadata": {
        "id": "GC4kMvoCkOV2"
      },
      "source": [
        "# 1. escolher e importar um modelo\n",
        "from sklearn.linear_model import LogisticRegression\n",
        "\n",
        "# 2. Instanciar e escolher os hyperparameters\n",
        "model = LogisticRegression()\n",
        "\n",
        "# 3. Separar os dados entre feature matrix e target vector \n",
        "X = df.drop('num', axis=1)\n",
        "y = df['num']\n",
        "\n",
        "# 3.1 Dividir o dataset entre treino e teste\n",
        "X_train, X_test, y_train, y_test = train_test_split(X, y, test_size = 0.20, random_state = 42)\n",
        "\n",
        "# 3.2 Padronizar os dados de treino\n",
        "scaler = StandardScaler().fit(X_train)\n",
        "X_train = scaler.transform(X_train)\n",
        "\n",
        "# 4. Fit do modelo (treinar)\n",
        "model.fit(X_train, y_train)\n",
        "\n",
        "# 5. Fazer previsões em cima de novos dados\n",
        "X_test = scaler.transform(X_test)  # padronizar os dados de teste\n",
        "y_pred = model.predict(X_test)"
      ],
      "execution_count": 4,
      "outputs": []
    },
    {
      "cell_type": "markdown",
      "metadata": {
        "id": "EYJlsX5lZtpo"
      },
      "source": [
        "Antes de olhar as métricas de avaliação do modelo, vamos relembrar os conceitos:\n",
        "\n",
        "* **Verdadeiro positivo (*true positive* — TP):** Por exemplo, quando o paciente tem doença cardiovascular e o modelo classifica como tendo doença vascular.\n",
        "\n",
        "* **Falso positivo (*false positive* — FP):** Por exemplo, quando o paciente não tem doença cardiovascular e o modelo classifica como tendo doença vascular.\n",
        "\n",
        "* **Falso negativo (*false negative* — TN)**: Por exemplo, quando o paciente tem doença cardiovascular e o modelo classifica como não tendo doença vascular.\n",
        "\n",
        "* **Verdadeiro negativo (*true negative* — FN):** Por exemplo, quando o paciente não tem doença cardiovascular e o modelo classifica como não tendo doença vascular."
      ]
    },
    {
      "cell_type": "code",
      "metadata": {
        "id": "HzUWh_RVY0_6",
        "colab": {
          "base_uri": "https://localhost:8080/"
        },
        "outputId": "50fb77fa-2c0c-4702-a41c-ac5fce0ac0af"
      },
      "source": [
        "# imprimir relatório de classificação\n",
        "print(classification_report(y_test, y_pred))"
      ],
      "execution_count": 5,
      "outputs": [
        {
          "output_type": "stream",
          "name": "stdout",
          "text": [
            "              precision    recall  f1-score   support\n",
            "\n",
            "           0       0.89      0.86      0.88        29\n",
            "           1       0.88      0.91      0.89        32\n",
            "\n",
            "    accuracy                           0.89        61\n",
            "   macro avg       0.89      0.88      0.88        61\n",
            "weighted avg       0.89      0.89      0.89        61\n",
            "\n"
          ]
        }
      ]
    },
    {
      "cell_type": "markdown",
      "source": [
        "Mais sobre matriz de confusão [Aqui](https://blog.exsilio.com/all/accuracy-precision-recall-f1-score-interpretation-of-performance-measures/#:~:text=F1%20score%20%2D%20F1%20Score%20is,have%20an%20uneven%20class%20distribution.) <p>\n",
        "\n",
        "**Precision** --> pode ser usada em uma situação em que os Falsos Positivos são considerados mais prejudiciais que os Falsos Negativos. Por exemplo, ao classificar uma ação como um bom investimento, é necessário que o modelo esteja correto, mesmo que acabe classificando bons investimentos como maus investimentos no processo. <p>\n",
        "\n",
        "**Recall** --> pode ser usada em uma situação em que os Falsos Negativos são considerados mais prejudiciais que os Falsos Positivos. Por exemplo, o modelo deve de qualquer maneira encontrar todos os pacientes doentes, mesmo que classifique alguns saudáveis como doentes no processo.\n",
        "\n",
        "**F1 score** --> é simplesmente uma maneira de observar somente 1 métrica ao invés de duas (precisão e recall) em alguma situação. É uma média harmônica entre as duas, que está muito mais próxima dos menores valores do que uma média aritmética simples."
      ],
      "metadata": {
        "id": "jZ6e4gVcpZmo"
      }
    },
    {
      "cell_type": "markdown",
      "metadata": {
        "id": "5imFWjv50p4W"
      },
      "source": [
        "Por fim, vamos plotar a matriz de confusão para ter, pictorialmente, uma visão do desempenho por classes."
      ]
    },
    {
      "cell_type": "code",
      "metadata": {
        "id": "ucNN3JQrESF3",
        "colab": {
          "base_uri": "https://localhost:8080/",
          "height": 295
        },
        "outputId": "af69c2cb-9196-45f6-efde-17023ec2836b"
      },
      "source": [
        "#gráfico da matriz de confusão\n",
        "fig, ax = plt.subplots()\n",
        "sns.heatmap(confusion_matrix(y_test, y_pred), annot=True, ax=ax)\n",
        "\n",
        "ax.set_title(\"Matriz de Confusão\")\n",
        "ax.set_ylabel(\"Verdadeiro\")\n",
        "ax.set_xlabel(\"Previsto\")\n",
        "\n",
        "plt.show()"
      ],
      "execution_count": 6,
      "outputs": [
        {
          "output_type": "display_data",
          "data": {
            "text/plain": [
              "<Figure size 432x288 with 2 Axes>"
            ],
            "image/png": "[encoded data removed]"
          },
          "metadata": {
            "needs_background": "light"
          }
        }
      ]
    },
    {
      "cell_type": "code",
      "source": [
        "#Salvando a acurácia do modelo para comparar no final\n",
        "from sklearn.metrics import accuracy_score\n",
        "\n",
        "Acuracia = pd.DataFrame(columns=[\"type\", \"accuracy\"])\n",
        "\n",
        "score1_1 = accuracy_score(y_test, y_pred)\n",
        "print(\"Acurácia do modelo:\", score1_1)\n",
        "Acuracia = Acuracia.append({\"type\": \"Logistic Regression\", \"accuracy\": score1_1}, ignore_index=True)"
      ],
      "metadata": {
        "colab": {
          "base_uri": "https://localhost:8080/"
        },
        "id": "Y7I4EiZNmdoC",
        "outputId": "4cbc150c-95aa-46b4-ff2f-e99154aba80f"
      },
      "execution_count": 7,
      "outputs": [
        {
          "output_type": "stream",
          "name": "stdout",
          "text": [
            "Acurácia do modelo: 0.8852459016393442\n"
          ]
        }
      ]
    },
    {
      "cell_type": "markdown",
      "metadata": {
        "id": "jWdZBkIa6PPt"
      },
      "source": [
        "Caso você queira ver as probabilidades associadas a cada previsão, pode utilizar o método `predict_proba` da seguinte maneira."
      ]
    },
    {
      "cell_type": "code",
      "metadata": {
        "id": "qHild9NxZc_R",
        "colab": {
          "base_uri": "https://localhost:8080/"
        },
        "outputId": "14e118c7-85ac-4395-f359-6aeca33ac4ad"
      },
      "source": [
        "# probabilidades em cima do dataset de teste\n",
        "y_prob = model.predict_proba(X_test)\n",
        "\n",
        "print(\"y_pred: \\n\", y_pred[0:5])\n",
        "print(\"\\ny_proba: \\n\", y_prob[0:5])"
      ],
      "execution_count": 8,
      "outputs": [
        {
          "output_type": "stream",
          "name": "stdout",
          "text": [
            "y_pred: \n",
            " [1 1 1 1 1]\n",
            "\n",
            "y_proba: \n",
            " [[0.27702241 0.72297759]\n",
            " [0.18827775 0.81172225]\n",
            " [0.22774853 0.77225147]\n",
            " [0.48942582 0.51057418]\n",
            " [0.37284695 0.62715305]]\n"
          ]
        }
      ]
    },
    {
      "cell_type": "markdown",
      "source": [
        "## Análise discrimitante linear "
      ],
      "metadata": {
        "id": "LoP3Am3ZXnsq"
      }
    },
    {
      "cell_type": "markdown",
      "source": [
        "É um método utilizado para classificação, redução de dimensão e visualização de dados.\n",
        "\n",
        "Essa técnica compara as diferenças (separação) entre os\n",
        "grupos e classifica o novo objeto como pertencente ao grupo\n",
        "com perfil mais semelhante."
      ],
      "metadata": {
        "id": "cVVJWvBfkacy"
      }
    },
    {
      "cell_type": "code",
      "source": [
        "#importando bibliotecas\n",
        "import numpy as np\n",
        "from sklearn.discriminant_analysis import LinearDiscriminantAnalysis, QuadraticDiscriminantAnalysis\n",
        "from sklearn.metrics import confusion_matrix, classification_report, precision_score"
      ],
      "metadata": {
        "id": "t6x9acfKlMQQ"
      },
      "execution_count": 9,
      "outputs": []
    },
    {
      "cell_type": "code",
      "source": [
        "#Criando o modelo e fazendo a predição\n",
        "lda = LinearDiscriminantAnalysis()\n",
        "model1 = lda.fit(X_train, y_train)\n",
        "\n",
        "print(model1.priors_)"
      ],
      "metadata": {
        "colab": {
          "base_uri": "https://localhost:8080/"
        },
        "id": "JgWQ4dV-W76V",
        "outputId": "45e70659-e5cb-4ec7-c9d0-ad3735f596ce"
      },
      "execution_count": 10,
      "outputs": [
        {
          "output_type": "stream",
          "name": "stdout",
          "text": [
            "[0.55785124 0.44214876]\n"
          ]
        }
      ]
    },
    {
      "cell_type": "code",
      "source": [
        "#Analisando as médias do modelo para cada classificação 0 e 1\n",
        "print(model1.means_)"
      ],
      "metadata": {
        "colab": {
          "base_uri": "https://localhost:8080/"
        },
        "id": "gjkcl9SvXJpX",
        "outputId": "afcb53ea-e0f0-432c-c33e-5bf6e32655df"
      },
      "execution_count": 11,
      "outputs": [
        {
          "output_type": "stream",
          "name": "stdout",
          "text": [
            "[[-0.22958858 -0.24496155 -0.33958975 -0.14799444 -0.12083581 -0.00883022\n",
            "  -0.15534709  0.32656472 -0.37159079 -0.37928938 -0.29180481 -0.4261\n",
            "  -0.43059821]\n",
            " [ 0.28966784  0.30906363  0.42845435  0.18672196  0.1524564   0.01114093\n",
            "   0.19599866 -0.41202091  0.4688295   0.47854267  0.36816495  0.5376028\n",
            "   0.54327812]]\n"
          ]
        }
      ]
    },
    {
      "cell_type": "code",
      "source": [
        "#Analisando os coeficientes do modelo\n",
        "print(model1.coef_)"
      ],
      "metadata": {
        "colab": {
          "base_uri": "https://localhost:8080/"
        },
        "id": "2wzqlHHPXM80",
        "outputId": "784d6aae-e256-41a5-96ce-b0e1af58e32b"
      },
      "execution_count": 12,
      "outputs": [
        {
          "output_type": "stream",
          "name": "stdout",
          "text": [
            "[[ 0.0459499   0.7091234   0.65974234  0.25300314  0.34815717 -0.22087288\n",
            "   0.14973453 -0.31711759  0.52167876  0.37772506  0.42384431  1.15874775\n",
            "   0.77250134]]\n"
          ]
        }
      ]
    },
    {
      "cell_type": "code",
      "source": [
        "#Fazendo o teste do modelo\n",
        "pred=model1.predict(X_test)\n",
        "print(np.unique(pred, return_counts=True))"
      ],
      "metadata": {
        "colab": {
          "base_uri": "https://localhost:8080/"
        },
        "id": "fg_xCf_YXPcT",
        "outputId": "faba0526-d05f-4a39-8a18-82301638bf51"
      },
      "execution_count": 13,
      "outputs": [
        {
          "output_type": "stream",
          "name": "stdout",
          "text": [
            "(array([0, 1]), array([28, 33]))\n"
          ]
        }
      ]
    },
    {
      "cell_type": "code",
      "source": [
        "#Analisando a matriz de confusão\n",
        "print(confusion_matrix(pred, y_test))\n",
        "print(classification_report(y_test, pred, digits=3))"
      ],
      "metadata": {
        "colab": {
          "base_uri": "https://localhost:8080/"
        },
        "id": "pVhruQbIXUX5",
        "outputId": "5f698338-2603-4939-bf0c-1401ebca1e38"
      },
      "execution_count": 14,
      "outputs": [
        {
          "output_type": "stream",
          "name": "stdout",
          "text": [
            "[[25  3]\n",
            " [ 4 29]]\n",
            "              precision    recall  f1-score   support\n",
            "\n",
            "           0      0.893     0.862     0.877        29\n",
            "           1      0.879     0.906     0.892        32\n",
            "\n",
            "    accuracy                          0.885        61\n",
            "   macro avg      0.886     0.884     0.885        61\n",
            "weighted avg      0.885     0.885     0.885        61\n",
            "\n"
          ]
        }
      ]
    },
    {
      "cell_type": "code",
      "source": [
        "#Gráfico da matriz de confusão\n",
        "fig, ax = plt.subplots()\n",
        "sns.heatmap(confusion_matrix(pred, y_test), annot=True, ax=ax)\n",
        "\n",
        "ax.set_title(\"Matriz de Confusão\")\n",
        "ax.set_ylabel(\"Verdadeiro\")\n",
        "ax.set_xlabel(\"Previsto\")\n",
        "\n",
        "plt.show()"
      ],
      "metadata": {
        "colab": {
          "base_uri": "https://localhost:8080/",
          "height": 295
        },
        "id": "a0A7RcmMXYxi",
        "outputId": "e38a0bde-7c8b-4dc6-f919-ca32d97cedab"
      },
      "execution_count": 15,
      "outputs": [
        {
          "output_type": "display_data",
          "data": {
            "text/plain": [
              "<Figure size 432x288 with 2 Axes>"
            ],
            "image/png": "[encoded data removed]"
          },
          "metadata": {
            "needs_background": "light"
          }
        }
      ]
    },
    {
      "cell_type": "code",
      "source": [
        "#Salvando a acurácia do modelo para comparar no final\n",
        "score1_2 = accuracy_score(y_test, pred)\n",
        "print(\"Acurácia do modelo:\", score1_2)\n",
        "Acuracia = Acuracia.append({\"type\": \"Linear\", \"accuracy\": score1_2}, ignore_index=True)"
      ],
      "metadata": {
        "colab": {
          "base_uri": "https://localhost:8080/"
        },
        "id": "anTKYVYem9dY",
        "outputId": "b894341d-4baf-4f72-cfb3-69c3b996a559"
      },
      "execution_count": 16,
      "outputs": [
        {
          "output_type": "stream",
          "name": "stdout",
          "text": [
            "Acurácia do modelo: 0.8852459016393442\n"
          ]
        }
      ]
    },
    {
      "cell_type": "markdown",
      "source": [
        "### Análise discriminante quadrática"
      ],
      "metadata": {
        "id": "mVG3fp2RXvvG"
      }
    },
    {
      "cell_type": "code",
      "source": [
        "#Criando o novo modelo e analizando as informações úteis\n",
        "qda = QuadraticDiscriminantAnalysis()\n",
        "model2 = qda.fit(X_train, y_train)\n",
        "print(model2.priors_)\n",
        "print(model2.means_)"
      ],
      "metadata": {
        "colab": {
          "base_uri": "https://localhost:8080/"
        },
        "id": "V-V8kHxfX1K4",
        "outputId": "49237e6c-082c-4803-8206-29195c898791"
      },
      "execution_count": 17,
      "outputs": [
        {
          "output_type": "stream",
          "name": "stdout",
          "text": [
            "[0.55785124 0.44214876]\n",
            "[[-0.22958858 -0.24496155 -0.33958975 -0.14799444 -0.12083581 -0.00883022\n",
            "  -0.15534709  0.32656472 -0.37159079 -0.37928938 -0.29180481 -0.4261\n",
            "  -0.43059821]\n",
            " [ 0.28966784  0.30906363  0.42845435  0.18672196  0.1524564   0.01114093\n",
            "   0.19599866 -0.41202091  0.4688295   0.47854267  0.36816495  0.5376028\n",
            "   0.54327812]]\n"
          ]
        }
      ]
    },
    {
      "cell_type": "code",
      "source": [
        "#Fazendo o teste do modelo e analisando a matriz de confusão\n",
        "pred2=model2.predict(X_test)\n",
        "print(np.unique(pred2, return_counts=True))\n",
        "print(confusion_matrix(pred2, y_test))\n",
        "print(classification_report(y_test, pred2, digits=3))"
      ],
      "metadata": {
        "colab": {
          "base_uri": "https://localhost:8080/"
        },
        "id": "5XUsnoQwX4IW",
        "outputId": "b4aca977-43ca-4a99-b32c-690673607a2b"
      },
      "execution_count": 18,
      "outputs": [
        {
          "output_type": "stream",
          "name": "stdout",
          "text": [
            "(array([0, 1]), array([31, 30]))\n",
            "[[26  5]\n",
            " [ 3 27]]\n",
            "              precision    recall  f1-score   support\n",
            "\n",
            "           0      0.839     0.897     0.867        29\n",
            "           1      0.900     0.844     0.871        32\n",
            "\n",
            "    accuracy                          0.869        61\n",
            "   macro avg      0.869     0.870     0.869        61\n",
            "weighted avg      0.871     0.869     0.869        61\n",
            "\n"
          ]
        }
      ]
    },
    {
      "cell_type": "code",
      "source": [
        "#Gráfico da matriz de confusão\n",
        "fig, ax = plt.subplots()\n",
        "sns.heatmap(confusion_matrix(pred2, y_test), annot=True, ax=ax)\n",
        "\n",
        "ax.set_title(\"Matriz de Confusão\")\n",
        "ax.set_ylabel(\"Verdadeiro\")\n",
        "ax.set_xlabel(\"Previsto\")\n",
        "\n",
        "plt.show()"
      ],
      "metadata": {
        "colab": {
          "base_uri": "https://localhost:8080/",
          "height": 295
        },
        "id": "8_ehSdsFX7So",
        "outputId": "fc277314-5b42-45f3-f5c6-20e164759256"
      },
      "execution_count": 19,
      "outputs": [
        {
          "output_type": "display_data",
          "data": {
            "text/plain": [
              "<Figure size 432x288 with 2 Axes>"
            ],
            "image/png": "[encoded data removed]"
          },
          "metadata": {
            "needs_background": "light"
          }
        }
      ]
    },
    {
      "cell_type": "code",
      "source": [
        "#Salvando a acurácia do modelo para comparar no final\n",
        "score1_3 = accuracy_score(y_test, pred2)\n",
        "print(\"Acurácia do modelo:\", score1_3)\n",
        "Acuracia = Acuracia.append({\"type\": \"Quadratic\", \"accuracy\": score1_3}, ignore_index=True)"
      ],
      "metadata": {
        "colab": {
          "base_uri": "https://localhost:8080/"
        },
        "id": "-3tuDK9CnXgQ",
        "outputId": "9b8893ab-eafc-4b0a-a0c4-650c77ba11b7"
      },
      "execution_count": 20,
      "outputs": [
        {
          "output_type": "stream",
          "name": "stdout",
          "text": [
            "Acurácia do modelo: 0.8688524590163934\n"
          ]
        }
      ]
    },
    {
      "cell_type": "markdown",
      "source": [
        "### K-Nearest Neighbors (KNN)"
      ],
      "metadata": {
        "id": "WI477xK5Y_pF"
      }
    },
    {
      "cell_type": "markdown",
      "source": [
        "1- calcula a distância entre uma nova amostra e as demais amostras do dataset (imagine algo como a distância entre dois pontos no plano cartesiano, mas logo a seguir comento sobre isso); \n",
        "\n",
        "2- identifica as K amostras mais próximas ou com características mais similares (depois que você tem o valor da distância, é só escolher as K distâncias com os menores valores); \n",
        "\n",
        "3- a partir das K amostras mais próximas, verificamos qual o rótulo que mais aparece e esse rótulo será usado na nova amostra.\n",
        "\n",
        "**K** --> é a quantidade de vizinhos que consideramos para cada amostra"
      ],
      "metadata": {
        "id": "jtIZyhPmr2Sz"
      }
    },
    {
      "cell_type": "code",
      "source": [
        "#Criando um novo modelo KNN com K = 1\n",
        "from sklearn import neighbors\n",
        "\n",
        "knn = neighbors.KNeighborsClassifier(n_neighbors = 1)\n",
        "\n",
        "#Fazendo o teste do modelo\n",
        "pred3 = knn.fit(X_train, y_train).predict(X_test)"
      ],
      "metadata": {
        "id": "46P7pBqDY_af"
      },
      "execution_count": 21,
      "outputs": []
    },
    {
      "cell_type": "code",
      "source": [
        "#Analisando a matriz de confusão\n",
        "print(confusion_matrix(y_test, pred3).T)\n",
        "print(classification_report(y_test, pred3, digits=3))"
      ],
      "metadata": {
        "colab": {
          "base_uri": "https://localhost:8080/"
        },
        "id": "a6WKFb8Wap8K",
        "outputId": "a0b1db63-aa99-4a38-f638-e18a1314bad1"
      },
      "execution_count": 22,
      "outputs": [
        {
          "output_type": "stream",
          "name": "stdout",
          "text": [
            "[[27  5]\n",
            " [ 2 27]]\n",
            "              precision    recall  f1-score   support\n",
            "\n",
            "           0      0.844     0.931     0.885        29\n",
            "           1      0.931     0.844     0.885        32\n",
            "\n",
            "    accuracy                          0.885        61\n",
            "   macro avg      0.887     0.887     0.885        61\n",
            "weighted avg      0.890     0.885     0.885        61\n",
            "\n"
          ]
        }
      ]
    },
    {
      "cell_type": "code",
      "source": [
        "#Gráfico da matriz\n",
        "fig, ax = plt.subplots()\n",
        "sns.heatmap(confusion_matrix(y_test, pred3).T, annot=True, ax=ax)\n",
        "\n",
        "ax.set_title(\"Matriz de Confusão\")\n",
        "ax.set_ylabel(\"Verdadeiro\")\n",
        "ax.set_xlabel(\"Previsto\")\n",
        "\n",
        "plt.show()"
      ],
      "metadata": {
        "colab": {
          "base_uri": "https://localhost:8080/",
          "height": 295
        },
        "id": "f_RYv_DCa0gd",
        "outputId": "d96cbafd-2f3e-42e0-a49e-9cee14334141"
      },
      "execution_count": 23,
      "outputs": [
        {
          "output_type": "display_data",
          "data": {
            "text/plain": [
              "<Figure size 432x288 with 2 Axes>"
            ],
            "image/png": "[encoded data removed]"
          },
          "metadata": {
            "needs_background": "light"
          }
        }
      ]
    },
    {
      "cell_type": "code",
      "source": [
        "#Salvando a acurácia do modelo para comparar no final\n",
        "score1_4 = accuracy_score(y_test, pred3)\n",
        "print(\"Acurácia do modelo:\", score1_4)\n",
        "Acuracia = Acuracia.append({\"type\": \"KNN - 1\", \"accuracy\": score1_4}, ignore_index=True)"
      ],
      "metadata": {
        "colab": {
          "base_uri": "https://localhost:8080/"
        },
        "id": "-IC_CZtVnduX",
        "outputId": "bde8dda4-e086-49bb-fa12-9f7a4ce16377"
      },
      "execution_count": 24,
      "outputs": [
        {
          "output_type": "stream",
          "name": "stdout",
          "text": [
            "Acurácia do modelo: 0.8852459016393442\n"
          ]
        }
      ]
    },
    {
      "cell_type": "markdown",
      "source": [
        "### KNN com K = 2"
      ],
      "metadata": {
        "id": "-wVUd0P6Wbmu"
      }
    },
    {
      "cell_type": "code",
      "source": [
        "#Um novo modelo com K = 3\n",
        "knn1 = neighbors.KNeighborsClassifier(n_neighbors=2)\n",
        "\n",
        "#Fazendo o teste do modelo\n",
        "pred4 = knn1.fit(X_train, y_train).predict(X_test)\n",
        "\n",
        "print(confusion_matrix(y_test, pred4).T)\n",
        "print(classification_report(y_test, pred4, digits=3))"
      ],
      "metadata": {
        "colab": {
          "base_uri": "https://localhost:8080/"
        },
        "outputId": "ae37dbf1-3a20-4e27-c5fe-70a9aa046e62",
        "id": "r3lcsr6rWbnB"
      },
      "execution_count": 25,
      "outputs": [
        {
          "output_type": "stream",
          "name": "stdout",
          "text": [
            "[[28 11]\n",
            " [ 1 21]]\n",
            "              precision    recall  f1-score   support\n",
            "\n",
            "           0      0.718     0.966     0.824        29\n",
            "           1      0.955     0.656     0.778        32\n",
            "\n",
            "    accuracy                          0.803        61\n",
            "   macro avg      0.836     0.811     0.801        61\n",
            "weighted avg      0.842     0.803     0.800        61\n",
            "\n"
          ]
        }
      ]
    },
    {
      "cell_type": "code",
      "source": [
        "#Gráfico da matriz\n",
        "fig, ax = plt.subplots()\n",
        "sns.heatmap(confusion_matrix(y_test, pred4).T, annot=True, ax=ax)\n",
        "\n",
        "ax.set_title(\"Matriz de Confusão\")\n",
        "ax.set_ylabel(\"Verdadeiro\")\n",
        "ax.set_xlabel(\"Previsto\")\n",
        "\n",
        "plt.show()"
      ],
      "metadata": {
        "colab": {
          "base_uri": "https://localhost:8080/",
          "height": 0
        },
        "outputId": "c4aa2658-8b67-42bc-e319-b3b4ba4d8556",
        "id": "3uAJ9EEsWbnC"
      },
      "execution_count": 26,
      "outputs": [
        {
          "output_type": "display_data",
          "data": {
            "text/plain": [
              "<Figure size 432x288 with 2 Axes>"
            ],
            "image/png": "[encoded data removed]"
          },
          "metadata": {
            "needs_background": "light"
          }
        }
      ]
    },
    {
      "cell_type": "code",
      "source": [
        "#Salvando a acurácia do modelo para comparar no final\n",
        "score1_5 = accuracy_score(y_test, pred4)\n",
        "print(\"Acurácia do modelo:\", score1_5)\n",
        "Acuracia = Acuracia.append({\"type\": \"KNN - 2\", \"accuracy\": score1_5}, ignore_index=True)"
      ],
      "metadata": {
        "colab": {
          "base_uri": "https://localhost:8080/"
        },
        "outputId": "b769dff6-3b00-4f12-d77d-0c3498a79407",
        "id": "vwU5jqDkWbnC"
      },
      "execution_count": 27,
      "outputs": [
        {
          "output_type": "stream",
          "name": "stdout",
          "text": [
            "Acurácia do modelo: 0.8032786885245902\n"
          ]
        }
      ]
    },
    {
      "cell_type": "markdown",
      "source": [
        "### KNN com K = 3"
      ],
      "metadata": {
        "id": "215to96do8DQ"
      }
    },
    {
      "cell_type": "code",
      "source": [
        "#Um novo modelo com K = 3\n",
        "knn1 = neighbors.KNeighborsClassifier(n_neighbors=3)\n",
        "\n",
        "#Fazendo o teste do modelo\n",
        "pred4 = knn1.fit(X_train, y_train).predict(X_test)\n",
        "\n",
        "print(confusion_matrix(y_test, pred4).T)\n",
        "print(classification_report(y_test, pred4, digits=3))"
      ],
      "metadata": {
        "colab": {
          "base_uri": "https://localhost:8080/"
        },
        "id": "wT5TzbjoaxKR",
        "outputId": "2214faf2-fc9e-48a1-a260-f9f63fc2a352"
      },
      "execution_count": 28,
      "outputs": [
        {
          "output_type": "stream",
          "name": "stdout",
          "text": [
            "[[28  3]\n",
            " [ 1 29]]\n",
            "              precision    recall  f1-score   support\n",
            "\n",
            "           0      0.903     0.966     0.933        29\n",
            "           1      0.967     0.906     0.935        32\n",
            "\n",
            "    accuracy                          0.934        61\n",
            "   macro avg      0.935     0.936     0.934        61\n",
            "weighted avg      0.937     0.934     0.934        61\n",
            "\n"
          ]
        }
      ]
    },
    {
      "cell_type": "code",
      "source": [
        "#Gráfico da matriz\n",
        "fig, ax = plt.subplots()\n",
        "sns.heatmap(confusion_matrix(y_test, pred4).T, annot=True, ax=ax)\n",
        "\n",
        "ax.set_title(\"Matriz de Confusão\")\n",
        "ax.set_ylabel(\"Verdadeiro\")\n",
        "ax.set_xlabel(\"Previsto\")\n",
        "\n",
        "plt.show()"
      ],
      "metadata": {
        "colab": {
          "base_uri": "https://localhost:8080/",
          "height": 0
        },
        "id": "bLtk5GWgdBpB",
        "outputId": "694706c8-1829-4eda-9e11-98b36e00be98"
      },
      "execution_count": 29,
      "outputs": [
        {
          "output_type": "display_data",
          "data": {
            "text/plain": [
              "<Figure size 432x288 with 2 Axes>"
            ],
            "image/png": "[encoded data removed]"
          },
          "metadata": {
            "needs_background": "light"
          }
        }
      ]
    },
    {
      "cell_type": "code",
      "source": [
        "#Salvando a acurácia do modelo para comparar no final\n",
        "score1_5 = accuracy_score(y_test, pred4)\n",
        "print(\"Acurácia do modelo:\", score1_5)\n",
        "Acuracia = Acuracia.append({\"type\": \"KNN - 3\", \"accuracy\": score1_5}, ignore_index=True)"
      ],
      "metadata": {
        "colab": {
          "base_uri": "https://localhost:8080/"
        },
        "id": "qJ5_rb6pnuff",
        "outputId": "3e0f9ceb-773a-4217-b0c2-86073e66c066"
      },
      "execution_count": 30,
      "outputs": [
        {
          "output_type": "stream",
          "name": "stdout",
          "text": [
            "Acurácia do modelo: 0.9344262295081968\n"
          ]
        }
      ]
    },
    {
      "cell_type": "markdown",
      "source": [
        "### KNN com K = 4"
      ],
      "metadata": {
        "id": "2vdFsOL_Vzfz"
      }
    },
    {
      "cell_type": "code",
      "source": [
        "#Um novo modelo com K = 3\n",
        "knn1 = neighbors.KNeighborsClassifier(n_neighbors=4)\n",
        "\n",
        "#Fazendo o teste do modelo\n",
        "pred5 = knn1.fit(X_train, y_train).predict(X_test)\n",
        "\n",
        "print(confusion_matrix(y_test, pred5).T)\n",
        "print(classification_report(y_test, pred5, digits=3))"
      ],
      "metadata": {
        "colab": {
          "base_uri": "https://localhost:8080/"
        },
        "outputId": "c6b2138d-d63c-4d1a-ab51-30055b97059c",
        "id": "Z5Vn1plTVzf0"
      },
      "execution_count": 31,
      "outputs": [
        {
          "output_type": "stream",
          "name": "stdout",
          "text": [
            "[[28  5]\n",
            " [ 1 27]]\n",
            "              precision    recall  f1-score   support\n",
            "\n",
            "           0      0.848     0.966     0.903        29\n",
            "           1      0.964     0.844     0.900        32\n",
            "\n",
            "    accuracy                          0.902        61\n",
            "   macro avg      0.906     0.905     0.902        61\n",
            "weighted avg      0.909     0.902     0.902        61\n",
            "\n"
          ]
        }
      ]
    },
    {
      "cell_type": "code",
      "source": [
        "#Gráfico da matriz\n",
        "fig, ax = plt.subplots()\n",
        "sns.heatmap(confusion_matrix(y_test, pred5).T, annot=True, ax=ax)\n",
        "\n",
        "ax.set_title(\"Matriz de Confusão\")\n",
        "ax.set_ylabel(\"Verdadeiro\")\n",
        "ax.set_xlabel(\"Previsto\")\n",
        "\n",
        "plt.show()"
      ],
      "metadata": {
        "colab": {
          "base_uri": "https://localhost:8080/",
          "height": 0
        },
        "outputId": "d6e2ab13-40f0-4fd0-da69-d63082d44597",
        "id": "HZmH3VI-Vzf2"
      },
      "execution_count": 32,
      "outputs": [
        {
          "output_type": "display_data",
          "data": {
            "text/plain": [
              "<Figure size 432x288 with 2 Axes>"
            ],
            "image/png": "[encoded data removed]"
          },
          "metadata": {
            "needs_background": "light"
          }
        }
      ]
    },
    {
      "cell_type": "code",
      "source": [
        "#Salvando a acurácia do modelo para comparar no final\n",
        "score1_5 = accuracy_score(y_test, pred5)\n",
        "print(\"Acurácia do modelo:\", score1_5)\n",
        "Acuracia = Acuracia.append({\"type\": \"KNN - 4\", \"accuracy\": score1_5}, ignore_index=True)"
      ],
      "metadata": {
        "colab": {
          "base_uri": "https://localhost:8080/"
        },
        "outputId": "3c692aaf-0ee5-4d2a-c376-7980d4d6a412",
        "id": "Erv3nc4kVzf3"
      },
      "execution_count": 33,
      "outputs": [
        {
          "output_type": "stream",
          "name": "stdout",
          "text": [
            "Acurácia do modelo: 0.9016393442622951\n"
          ]
        }
      ]
    },
    {
      "cell_type": "markdown",
      "source": [
        "## Analisando a acurácia de cada modelo"
      ],
      "metadata": {
        "id": "leqBcQEVpKC4"
      }
    },
    {
      "cell_type": "code",
      "source": [
        "Acuracia"
      ],
      "metadata": {
        "colab": {
          "base_uri": "https://localhost:8080/",
          "height": 269
        },
        "id": "S7bPpsTOnyNX",
        "outputId": "5e415b12-1626-4bda-83f4-fa86cceafc24"
      },
      "execution_count": 34,
      "outputs": [
        {
          "output_type": "execute_result",
          "data": {
            "text/plain": [
              "                  type  accuracy\n",
              "0  Logistic Regression  0.885246\n",
              "1               Linear  0.885246\n",
              "2            Quadratic  0.868852\n",
              "3              KNN - 1  0.885246\n",
              "4              KNN - 2  0.803279\n",
              "5              KNN - 3  0.934426\n",
              "6              KNN - 4  0.901639"
            ],
            "text/html": [
              "\n",
              "  <div id=\"df-e0b55592-8f26-43d3-b267-106cf80cc7a3\">\n",
              "    <div class=\"colab-df-container\">\n",
              "      <div>\n",
              "<style scoped>\n",
              "    .dataframe tbody tr th:only-of-type {\n",
              "        vertical-align: middle;\n",
              "    }\n",
              "\n",
              "    .dataframe tbody tr th {\n",
              "        vertical-align: top;\n",
              "    }\n",
              "\n",
              "    .dataframe thead th {\n",
              "        text-align: right;\n",
              "    }\n",
              "</style>\n",
              "<table border=\"1\" class=\"dataframe\">\n",
              "  <thead>\n",
              "    <tr style=\"text-align: right;\">\n",
              "      <th></th>\n",
              "      <th>type</th>\n",
              "      <th>accuracy</th>\n",
              "    </tr>\n",
              "  </thead>\n",
              "  <tbody>\n",
              "    <tr>\n",
              "      <th>0</th>\n",
              "      <td>Logistic Regression</td>\n",
              "      <td>0.885246</td>\n",
              "    </tr>\n",
              "    <tr>\n",
              "      <th>1</th>\n",
              "      <td>Linear</td>\n",
              "      <td>0.885246</td>\n",
              "    </tr>\n",
              "    <tr>\n",
              "      <th>2</th>\n",
              "      <td>Quadratic</td>\n",
              "      <td>0.868852</td>\n",
              "    </tr>\n",
              "    <tr>\n",
              "      <th>3</th>\n",
              "      <td>KNN - 1</td>\n",
              "      <td>0.885246</td>\n",
              "    </tr>\n",
              "    <tr>\n",
              "      <th>4</th>\n",
              "      <td>KNN - 2</td>\n",
              "      <td>0.803279</td>\n",
              "    </tr>\n",
              "    <tr>\n",
              "      <th>5</th>\n",
              "      <td>KNN - 3</td>\n",
              "      <td>0.934426</td>\n",
              "    </tr>\n",
              "    <tr>\n",
              "      <th>6</th>\n",
              "      <td>KNN - 4</td>\n",
              "      <td>0.901639</td>\n",
              "    </tr>\n",
              "  </tbody>\n",
              "</table>\n",
              "</div>\n",
              "      <button class=\"colab-df-convert\" onclick=\"convertToInteractive('df-e0b55592-8f26-43d3-b267-106cf80cc7a3')\"\n",
              "              title=\"Convert this dataframe to an interactive table.\"\n",
              "              style=\"display:none;\">\n",
              "        \n",
              "  <svg xmlns=\"http://www.w3.org/2000/svg\" height=\"24px\"viewBox=\"0 0 24 24\"\n",
              "       width=\"24px\">\n",
              "    <path d=\"M0 0h24v24H0V0z\" fill=\"none\"/>\n",
              "    <path d=\"M18.56 5.44l.94 2.06.94-2.06 2.06-.94-2.06-.94-.94-2.06-.94 2.06-2.06.94zm-11 1L8.5 8.5l.94-2.06 2.06-.94-2.06-.94L8.5 2.5l-.94 2.06-2.06.94zm10 10l.94 2.06.94-2.06 2.06-.94-2.06-.94-.94-2.06-.94 2.06-2.06.94z\"/><path d=\"M17.41 7.96l-1.37-1.37c-.4-.4-.92-.59-1.43-.59-.52 0-1.04.2-1.43.59L10.3 9.45l-7.72 7.72c-.78.78-.78 2.05 0 2.83L4 21.41c.39.39.9.59 1.41.59.51 0 1.02-.2 1.41-.59l7.78-7.78 2.81-2.81c.8-.78.8-2.07 0-2.86zM5.41 20L4 18.59l7.72-7.72 1.47 1.35L5.41 20z\"/>\n",
              "  </svg>\n",
              "      </button>\n",
              "      \n",
              "  <style>\n",
              "    .colab-df-container {\n",
              "      display:flex;\n",
              "      flex-wrap:wrap;\n",
              "      gap: 12px;\n",
              "    }\n",
              "\n",
              "    .colab-df-convert {\n",
              "      background-color: #E8F0FE;\n",
              "      border: none;\n",
              "      border-radius: 50%;\n",
              "      cursor: pointer;\n",
              "      display: none;\n",
              "      fill: #1967D2;\n",
              "      height: 32px;\n",
              "      padding: 0 0 0 0;\n",
              "      width: 32px;\n",
              "    }\n",
              "\n",
              "    .colab-df-convert:hover {\n",
              "      background-color: #E2EBFA;\n",
              "      box-shadow: 0px 1px 2px rgba(60, 64, 67, 0.3), 0px 1px 3px 1px rgba(60, 64, 67, 0.15);\n",
              "      fill: #174EA6;\n",
              "    }\n",
              "\n",
              "    [theme=dark] .colab-df-convert {\n",
              "      background-color: #3B4455;\n",
              "      fill: #D2E3FC;\n",
              "    }\n",
              "\n",
              "    [theme=dark] .colab-df-convert:hover {\n",
              "      background-color: #434B5C;\n",
              "      box-shadow: 0px 1px 3px 1px rgba(0, 0, 0, 0.15);\n",
              "      filter: drop-shadow(0px 1px 2px rgba(0, 0, 0, 0.3));\n",
              "      fill: #FFFFFF;\n",
              "    }\n",
              "  </style>\n",
              "\n",
              "      <script>\n",
              "        const buttonEl =\n",
              "          document.querySelector('#df-e0b55592-8f26-43d3-b267-106cf80cc7a3 button.colab-df-convert');\n",
              "        buttonEl.style.display =\n",
              "          google.colab.kernel.accessAllowed ? 'block' : 'none';\n",
              "\n",
              "        async function convertToInteractive(key) {\n",
              "          const element = document.querySelector('#df-e0b55592-8f26-43d3-b267-106cf80cc7a3');\n",
              "          const dataTable =\n",
              "            await google.colab.kernel.invokeFunction('convertToInteractive',\n",
              "                                                     [key], {});\n",
              "          if (!dataTable) return;\n",
              "\n",
              "          const docLinkHtml = 'Like what you see? Visit the ' +\n",
              "            '<a target=\"_blank\" href=https://colab.research.google.com/notebooks/data_table.ipynb>data table notebook</a>'\n",
              "            + ' to learn more about interactive tables.';\n",
              "          element.innerHTML = '';\n",
              "          dataTable['output_type'] = 'display_data';\n",
              "          await google.colab.output.renderOutput(dataTable, element);\n",
              "          const docLink = document.createElement('div');\n",
              "          docLink.innerHTML = docLinkHtml;\n",
              "          element.appendChild(docLink);\n",
              "        }\n",
              "      </script>\n",
              "    </div>\n",
              "  </div>\n",
              "  "
            ]
          },
          "metadata": {},
          "execution_count": 34
        }
      ]
    }
  ]
}