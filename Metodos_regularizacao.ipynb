{
  "nbformat": 4,
  "nbformat_minor": 0,
  "metadata": {
    "colab": {
      "name": "class_regularization.ipynb",
      "provenance": [],
      "collapsed_sections": [
        "d08j4CUELGQQ",
        "NdntqyE19n5T",
        "ppahfgO895sl"
      ],
      "include_colab_link": true
    },
    "kernelspec": {
      "name": "python3",
      "display_name": "Python 3"
    },
    "language_info": {
      "name": "python"
    }
  },
  "cells": [
    {
      "cell_type": "markdown",
      "metadata": {
        "id": "view-in-github",
        "colab_type": "text"
      },
      "source": [
        "<a href=\"https://colab.research.google.com/github/yagomsv/aulas_ciencia_de_dados_UFBA/blob/main/Metodos_regularizacao.ipynb\" target=\"_parent\"><img src=\"https://colab.research.google.com/assets/colab-badge.svg\" alt=\"Open In Colab\"/></a>"
      ]
    },
    {
      "cell_type": "markdown",
      "metadata": {
        "id": "d08j4CUELGQQ"
      },
      "source": [
        "# ENGF21\n",
        "\n",
        "## Regularização\n",
        "\n",
        "O procedimento de regularização (regularization) visa evitar que o modelo sobreajuste os dados e portanto lida com os problemas de alta variância. A tabela a seguir resume os diferentes tipos de técnicas de regularização comumente utilizadas:\n",
        "\n",
        "### LASSO\n",
        "\n",
        "- Diminui coeficientes para $0$\n",
        "- Bom para seleção de variáveis\n",
        "\n",
        "### Ridge \n",
        "\n",
        "- Faz o coeficiente menor\n",
        "\n",
        "### Elastic Net \n",
        "\n",
        "- Balanço entre seleção de variáveis e coeficientes pequenos\n",
        "\n",
        "https://stanford.edu/~shervine/teaching/cs-229/cheatsheet-machine-learning-tips-and-tricks   "
      ]
    },
    {
      "cell_type": "markdown",
      "metadata": {
        "id": "et86ySrr7Xq3"
      },
      "source": [
        "Quais são as principais questões enfrentadas ao trabalhar com inferência de parâmetros de modelos?\n",
        "\n",
        "- Underfitting\t\n",
        "- Just right\t\n",
        "- Overfitting"
      ]
    },
    {
      "cell_type": "markdown",
      "metadata": {
        "id": "m6ErdPQ_QasS"
      },
      "source": [
        "Esta ideia pode ser melhor explorada se começarmos com  dados aletórios de modelo linear com a seguinte estrutura \n",
        "\n",
        "$Y = f(x) + \\epsilon$\n",
        "\n",
        "onde\n",
        "\n",
        " - $Y$ é uma variável aleatória, \n",
        "\n",
        " - $x$ uma  variável preditora e \n",
        "\n",
        " - $\\epsilon$ o erro aleatório.\n",
        "\n",
        " Enquanto $f(x)$ é a estrutura do modelo, que aqui adotaremos como linear\n",
        "\n",
        " $f(x) = \\beta_0 + \\beta_1 x$, portanto neste neste problema temos dois parâmetros a ser estimado: \n",
        "\n",
        "$\\beta_0$ e $\\beta_1$. \n",
        "\n",
        "Para uma boa compreensão desse problema é necessário que pensamos no seguinte aspecto, para a estimativa desses parâmetros de um modelo linear pelo método clássico dos mínimos quadrados é definido pela equação \n",
        "\n",
        "$\\min L(\\beta_0,\\beta_1) = \\min \\sum_{i=1}^{n} (y_i-f(x_i))^2$\n",
        "\n",
        "\n",
        "conhecida a solução analítica: \n",
        "\n",
        "$\\hat{\\beta_1} = \\frac{\\sum_{i=1}^{n} y_i (x_i-\\bar{x})}{\\sum_{i=1}^{n}(x_i-\\bar{x})^2}$ \n",
        "\n",
        "$\\hat{\\beta_0} = \\bar{y}-\\hat{\\beta_1}\\bar{x} $\n",
        "\n",
        "onde $\\bar{x}$ e $\\bar{y}$ são:\n",
        "\n",
        "$\\bar{x} = \\frac{\\sum_{i=1}^{n}x_i}{n}$\n",
        "\n",
        "\n",
        "e\n",
        "\n",
        "$\\bar{y} = \\frac{\\sum_{i=1}^{n}y_i}{n}$"
      ]
    },
    {
      "cell_type": "markdown",
      "metadata": {
        "id": "s4ekmyGh91T2"
      },
      "source": []
    },
    {
      "cell_type": "markdown",
      "metadata": {
        "id": "IzONE7cJLuyA"
      },
      "source": [
        "# Contexto histórico \"Ridge Regression\" \n",
        "[Ridge Regression: A Historical Context](https://www.tandfonline.com/doi/full/10.1080/00401706.2020.1742207)\n",
        "\n"
      ]
    },
    {
      "cell_type": "markdown",
      "metadata": {
        "id": "e4uS-xBv9Nt9"
      },
      "source": [
        "# Aplicação ao campo da quimiometria\n",
        "\n",
        "[Link para os dados e códigos do artigo](https://data.mendeley.com/datasets/gzh2z38pyh/2)\n",
        "\n"
      ]
    },
    {
      "cell_type": "markdown",
      "metadata": {
        "id": "26Z1zHPVuDfM"
      },
      "source": [
        "[Vídeo sobre motores de octanagem](https://www.intertek-br.com/petroleo-gas/teste-octanagem/)"
      ]
    },
    {
      "cell_type": "markdown",
      "metadata": {
        "id": "NdntqyE19n5T"
      },
      "source": [
        "# Importanto pacotes de visualização e regressão"
      ]
    },
    {
      "cell_type": "code",
      "metadata": {
        "id": "ZvSAGCQHsVlU"
      },
      "source": [
        "# Importando os pacotes necessarios\n",
        "\n",
        "import pandas as pd\n",
        "import numpy as np\n",
        "import matplotlib.pyplot as plt\n",
        "from sklearn import datasets\n",
        "from sklearn.model_selection import train_test_split\n",
        "from sklearn.linear_model import LinearRegression \n",
        "from sklearn.metrics import r2_score\n"
      ],
      "execution_count": 1,
      "outputs": []
    },
    {
      "cell_type": "markdown",
      "metadata": {
        "id": "dBwsOi_vbeT3"
      },
      "source": [
        "\n",
        "\n",
        "```\n",
        "# Isto está formatado como código\n",
        "```\n",
        "# Carregamento de dados a partir do github"
      ]
    },
    {
      "cell_type": "code",
      "metadata": {
        "id": "SLrlQUMIuouu",
        "colab": {
          "base_uri": "https://localhost:8080/"
        },
        "outputId": "3dfd70ec-2a8d-4eb0-89ab-7772ea58a685"
      },
      "source": [
        "# Carregamento de dados do github\n",
        "!git clone https://github.com/rpessoa1983/regularization.git \n",
        "\n"
      ],
      "execution_count": 2,
      "outputs": [
        {
          "output_type": "stream",
          "name": "stdout",
          "text": [
            "Cloning into 'regularization'...\n",
            "remote: Enumerating objects: 62, done.\u001b[K\n",
            "remote: Total 62 (delta 0), reused 0 (delta 0), pack-reused 62\u001b[K\n",
            "Unpacking objects: 100% (62/62), done.\n"
          ]
        }
      ]
    },
    {
      "cell_type": "markdown",
      "metadata": {
        "id": "oNtt4QQVbuut"
      },
      "source": [
        "# Leitura do banco de dados do banco local"
      ]
    },
    {
      "cell_type": "code",
      "metadata": {
        "id": "EQLlKQ38hmpB",
        "colab": {
          "base_uri": "https://localhost:8080/"
        },
        "outputId": "d3fb2e61-dace-4ad1-80fe-698c5dc65ed8"
      },
      "source": [
        "# O espectro esta na faixa de 900-1700\n",
        "spectra = pd.read_csv('regularization/spectro.csv', header=None)\n",
        "\n",
        "range(900,1700)\n",
        "# O total de amostras sao 60\n",
        "octane = pd.read_csv('regularization/octane.csv', header=None)\n",
        "\n",
        "#print(octane)\n",
        "octane.dtypes\n",
        "\n"
      ],
      "execution_count": 3,
      "outputs": [
        {
          "output_type": "execute_result",
          "data": {
            "text/plain": [
              "0    float64\n",
              "dtype: object"
            ]
          },
          "metadata": {},
          "execution_count": 3
        }
      ]
    },
    {
      "cell_type": "markdown",
      "metadata": {
        "id": "mQ7OcrvGb9Fo"
      },
      "source": [
        "# Função para criar sequência de números inteiros com passo definido"
      ]
    },
    {
      "cell_type": "code",
      "metadata": {
        "id": "ddT9SRO3uLE8"
      },
      "source": [
        "# Solucao em https://stackoverflow.com/questions/18265935/python-create-list-with-numbers-between-2-values?rq=1 \n",
        "\n",
        "def frange(start, stop, step=1.0):\n",
        "    ''' \"range()\" like function which accept float type''' \n",
        "    i = start\n",
        "    while i < stop:\n",
        "        yield i\n",
        "        i += step"
      ],
      "execution_count": 4,
      "outputs": []
    },
    {
      "cell_type": "markdown",
      "metadata": {
        "id": "2jKlnpqwcPMK"
      },
      "source": [
        "# Mudança de nomes das variáveis"
      ]
    },
    {
      "cell_type": "code",
      "metadata": {
        "id": "saxLcs3Yuv1Q",
        "colab": {
          "base_uri": "https://localhost:8080/"
        },
        "outputId": "2a7078dc-e351-47b3-9fba-974e8f2d3eeb"
      },
      "source": [
        "#Mudar os labels de spectra\n",
        "label_spectra = list(frange(900,1701,2))\n",
        "#print(label_spectra)\n",
        "spectra.columns = label_spectra\n",
        "preditoras = spectra.add_prefix('V_')\n",
        "\n",
        "# Mudar o label de octane\n",
        "octane.columns= list(['RON'])\n",
        "\n",
        "#print(preditoras)\n",
        "#preditoras.head()\n",
        "\n",
        "# Exemplo de absorvancias para o comprimento de onda \n",
        "preditoras.loc[2:3,'V_1000']\n",
        "\n",
        "\n",
        "#print(octane)\n",
        "\n",
        "#octane.head()"
      ],
      "execution_count": 5,
      "outputs": [
        {
          "output_type": "execute_result",
          "data": {
            "text/plain": [
              "2   -0.056419\n",
              "3   -0.058185\n",
              "Name: V_1000, dtype: float64"
            ]
          },
          "metadata": {},
          "execution_count": 5
        }
      ]
    },
    {
      "cell_type": "markdown",
      "metadata": {
        "id": "qfqZLYA9cpQz"
      },
      "source": [
        "# Carregamento de funções utilizadas na aula de visualização de dados"
      ]
    },
    {
      "cell_type": "code",
      "metadata": {
        "id": "Xjqkk7jv7hYJ",
        "colab": {
          "base_uri": "https://localhost:8080/"
        },
        "outputId": "51a02b41-423f-4f76-f12a-3bb531542914"
      },
      "source": [
        "# Visualização gráfica\n",
        "import matplotlib as mpl\n",
        "import matplotlib.pyplot as plt\n",
        "import seaborn as sns\n",
        "from matplotlib.colors import ListedColormap\n",
        "from matplotlib import cm\n",
        "from wordcloud import WordCloud\n",
        "import plotly.graph_objects as go\n",
        "! pip install upsetplot\n",
        "from upsetplot import UpSet"
      ],
      "execution_count": 6,
      "outputs": [
        {
          "output_type": "stream",
          "name": "stdout",
          "text": [
            "Looking in indexes: https://pypi.org/simple, https://us-python.pkg.dev/colab-wheels/public/simple/\n",
            "Collecting upsetplot\n",
            "  Downloading UpSetPlot-0.6.1.tar.gz (18 kB)\n",
            "Requirement already satisfied: pandas>=0.23 in /usr/local/lib/python3.7/dist-packages (from upsetplot) (1.3.5)\n",
            "Requirement already satisfied: matplotlib>=2.0 in /usr/local/lib/python3.7/dist-packages (from upsetplot) (3.2.2)\n",
            "Requirement already satisfied: numpy>=1.11 in /usr/local/lib/python3.7/dist-packages (from matplotlib>=2.0->upsetplot) (1.21.6)\n",
            "Requirement already satisfied: kiwisolver>=1.0.1 in /usr/local/lib/python3.7/dist-packages (from matplotlib>=2.0->upsetplot) (1.4.4)\n",
            "Requirement already satisfied: python-dateutil>=2.1 in /usr/local/lib/python3.7/dist-packages (from matplotlib>=2.0->upsetplot) (2.8.2)\n",
            "Requirement already satisfied: cycler>=0.10 in /usr/local/lib/python3.7/dist-packages (from matplotlib>=2.0->upsetplot) (0.11.0)\n",
            "Requirement already satisfied: pyparsing!=2.0.4,!=2.1.2,!=2.1.6,>=2.0.1 in /usr/local/lib/python3.7/dist-packages (from matplotlib>=2.0->upsetplot) (3.0.9)\n",
            "Requirement already satisfied: typing-extensions in /usr/local/lib/python3.7/dist-packages (from kiwisolver>=1.0.1->matplotlib>=2.0->upsetplot) (4.1.1)\n",
            "Requirement already satisfied: pytz>=2017.3 in /usr/local/lib/python3.7/dist-packages (from pandas>=0.23->upsetplot) (2022.5)\n",
            "Requirement already satisfied: six>=1.5 in /usr/local/lib/python3.7/dist-packages (from python-dateutil>=2.1->matplotlib>=2.0->upsetplot) (1.15.0)\n",
            "Building wheels for collected packages: upsetplot\n",
            "  Building wheel for upsetplot (setup.py) ... \u001b[?25l\u001b[?25hdone\n",
            "  Created wheel for upsetplot: filename=UpSetPlot-0.6.1-py3-none-any.whl size=19089 sha256=2e4cea70eb4dbb23bf06cdc343905551b5bb02b4597400bc7a99f155bcc3c55f\n",
            "  Stored in directory: /root/.cache/pip/wheels/c5/b1/5a/7ba78fe55ccd48c7915805134ba69f152acae94cca3ff18e4c\n",
            "Successfully built upsetplot\n",
            "Installing collected packages: upsetplot\n",
            "Successfully installed upsetplot-0.6.1\n"
          ]
        }
      ]
    },
    {
      "cell_type": "markdown",
      "metadata": {
        "id": "k4mKlAF1dCao"
      },
      "source": [
        "# Algumas manipulações de dados "
      ]
    },
    {
      "cell_type": "code",
      "metadata": {
        "colab": {
          "base_uri": "https://localhost:8080/"
        },
        "id": "pVEYzfyi8knM",
        "outputId": "79e9ea94-cfee-4c7e-c14e-2f33a8109287"
      },
      "source": [
        "df = pd.concat([spectra, octane], axis=1, join='inner')\n",
        "\n",
        "#wavelength = pd.DataFrame(label_spectra).to_numpy()\n",
        "wavelength = pd.DataFrame(label_spectra).to_numpy()\n",
        "absorbancia = preditoras.transpose()\n",
        "absorbancia.dtypes \n",
        "\n",
        "ave_absorption = np.mean(spectra, axis=0)\n",
        "print(type(ave_absorption))\n",
        "\n",
        "\n",
        "\n"
      ],
      "execution_count": 7,
      "outputs": [
        {
          "output_type": "stream",
          "name": "stdout",
          "text": [
            "<class 'pandas.core.series.Series'>\n"
          ]
        }
      ]
    },
    {
      "cell_type": "markdown",
      "metadata": {
        "id": "RDhk4C4zdLtj"
      },
      "source": [
        "# Conhecendo a comportmento geral dos dados"
      ]
    },
    {
      "cell_type": "code",
      "metadata": {
        "colab": {
          "base_uri": "https://localhost:8080/",
          "height": 789
        },
        "id": "vW4r9h25laWK",
        "outputId": "6f87eb03-6f12-4d3f-8088-d9f91933989e"
      },
      "source": [
        "ave_plot = plt.plot(wavelength,ave_absorption)\n",
        "plt.xlabel(\"wavelength\")\n",
        "plt.ylabel(\"ave. absorption\")\n",
        "plt.show()\n",
        "\n",
        "ave_plot = plt.plot(spectra.transpose())\n",
        "plt.xlabel(\"wavelength\")\n",
        "plt.ylabel(\"ave. absorption\")\n",
        "plt.show()\n",
        "\n",
        "#axes1 = fig.add_subplot(1, 3, 1)\n",
        "#axes2 = fig.add_subplot(1, 3, 2)\n",
        "#axes3 = fig.add_subplot(1, 3, 3)\n",
        "\n",
        "\n",
        "#axes1.set_ylabel('average')\n",
        "#axes1.set_xlabel('wavelength')\n",
        "#axes1.plot(wavelength_slice,numpy.mean(data_slice, axis=0))\n",
        "\n",
        "#axes2.set_ylabel('max')\n",
        "#axes2.set_xlabel('wavelength')\n",
        "#axes2.plot(wavelength_slice,numpy.max(data_slice, axis=0))\n",
        "\n",
        "#axes3.set_ylabel('min')\n",
        "#axes3.set_xlabel('wavelength')\n",
        "#axes3.plot(wavelength_slice,numpy.min(data_slice, axis=0))\n",
        "\n",
        "#fig.tight_layout()\n",
        "\n",
        "#matplotlib.pyplot.savefig('./group_plot.png')\n",
        "\n",
        "#matplotlib.pyplot.show()\n",
        "\n",
        "# Exemplo de variavel que claramente nao segue uma normal\n",
        "plt.hist(preditoras.loc[:,'V_1000'],bins=10)\n",
        "plt.show()\n",
        "\n"
      ],
      "execution_count": 8,
      "outputs": [
        {
          "output_type": "display_data",
          "data": {
            "text/plain": [
              "<Figure size 432x288 with 1 Axes>"
            ],
            "image/png": "[encoded data removed]"
          },
          "metadata": {
            "needs_background": "light"
          }
        },
        {
          "output_type": "display_data",
          "data": {
            "text/plain": [
              "<Figure size 432x288 with 1 Axes>"
            ],
            "image/png": "[encoded data removed]"
          },
          "metadata": {
            "needs_background": "light"
          }
        },
        {
          "output_type": "display_data",
          "data": {
            "text/plain": [
              "<Figure size 432x288 with 1 Axes>"
            ],
            "image/png": "[encoded data removed]"
          },
          "metadata": {
            "needs_background": "light"
          }
        }
      ]
    },
    {
      "cell_type": "markdown",
      "metadata": {
        "id": "GW4n-oAZdnFM"
      },
      "source": [
        "# Definição de variáveis preditoras e independentes"
      ]
    },
    {
      "cell_type": "code",
      "metadata": {
        "colab": {
          "base_uri": "https://localhost:8080/"
        },
        "id": "BfXT5aQ5raB4",
        "outputId": "6ac06f90-6721-4227-eefe-ca087d8399e1"
      },
      "source": [
        "# Variaveis preditoras \n",
        "preditoras\n",
        "# Variavel independente \n",
        "octane\n",
        "\n",
        "predit_train, predit_test, octane_train, octane_test = train_test_split(preditoras,octane,test_size=0.30)\n",
        "\n",
        "print(predit_train.shape)\n",
        "print(octane_train.shape)"
      ],
      "execution_count": 9,
      "outputs": [
        {
          "output_type": "stream",
          "name": "stdout",
          "text": [
            "(42, 401)\n",
            "(42, 1)\n"
          ]
        }
      ]
    },
    {
      "cell_type": "markdown",
      "metadata": {
        "id": "PGvcTo6Khios"
      },
      "source": [
        "# Regressão linear pelo método de otimização numérica "
      ]
    },
    {
      "cell_type": "code",
      "metadata": {
        "colab": {
          "base_uri": "https://localhost:8080/"
        },
        "id": "5cDxGtVsrvxo",
        "outputId": "018fbfa4-9d33-4480-eaf4-9c4f2a138d48"
      },
      "source": [
        "# Aplicacao da regressao linear classica\n",
        "linearreg = LinearRegression()\n",
        "linearreg.fit(predit_train,octane_train)\n",
        "\n",
        "\n",
        "# Calculo do erro quadratico medio Mean Squared Error (MSE)\n",
        "#linearreg_prediction = linearreg.predict(predit_test)\n",
        "octane_predicted_classical = linearreg.predict(predit_test)\n",
        "\n",
        "R_squared = r2_score(octane_predicted_classical,octane_test)\n",
        "\n",
        "print('Erro quadratico medio ou Mean Squared Error (MSE):', R_squared)\n",
        "\n"
      ],
      "execution_count": 10,
      "outputs": [
        {
          "output_type": "stream",
          "name": "stdout",
          "text": [
            "Erro quadratico medio ou Mean Squared Error (MSE): 0.9493465980905045\n"
          ]
        }
      ]
    },
    {
      "cell_type": "markdown",
      "metadata": {
        "id": "Nl9DE6Heh76i"
      },
      "source": [
        "# Visualização de coeficientes"
      ]
    },
    {
      "cell_type": "code",
      "metadata": {
        "colab": {
          "base_uri": "https://localhost:8080/",
          "height": 391
        },
        "id": "GMxCm7ECzSSl",
        "outputId": "77930ef3-2ff5-4850-8d8f-cf746e2995bd"
      },
      "source": [
        "# Reunindo o nome da variavel ao seu coeficiente correspondente\n",
        "#print(linearreg.coef_)\n",
        "coeficiente_df= pd.DataFrame()\n",
        "coeficiente_df[\"nomes_colunas\"] = spectra.columns\n",
        "coeficiente_df['valores'] = pd.DataFrame(linearreg.coef_).transpose()\n",
        "# Apresentar os 10 primeiros coeficientes\n",
        "coeficiente_df.head(10)\n",
        "\n",
        "plt.rcParams[\"figure.figsize\"] = (15,6)\n",
        "plt.bar(coeficiente_df[\"nomes_colunas\"],coeficiente_df['valores'])"
      ],
      "execution_count": 11,
      "outputs": [
        {
          "output_type": "execute_result",
          "data": {
            "text/plain": [
              "<BarContainer object of 401 artists>"
            ]
          },
          "metadata": {},
          "execution_count": 11
        },
        {
          "output_type": "display_data",
          "data": {
            "text/plain": [
              "<Figure size 1080x432 with 1 Axes>"
            ],
            "image/png": "[encoded data removed]"
          },
          "metadata": {
            "needs_background": "light"
          }
        }
      ]
    },
    {
      "cell_type": "markdown",
      "metadata": {
        "id": "RxSQiPWBiMOf"
      },
      "source": [
        "# Ridge Regression"
      ]
    },
    {
      "cell_type": "code",
      "metadata": {
        "colab": {
          "base_uri": "https://localhost:8080/"
        },
        "id": "mhHOIcHW9dcK",
        "outputId": "9c0f2f96-abc2-4d59-ff45-d07e07392802"
      },
      "source": [
        "# Importanto ridge regression \n",
        "\n",
        "from sklearn.linear_model import Ridge\n",
        "\n",
        "# Treinamento do modelo \n",
        "\n",
        "ridgeRegresssor = Ridge(alpha=0.001) # alpha eh equivalente ao lambda encontrado nas eqs analiticas\n",
        "\n",
        "ridgeRegresssor.fit(predit_train,octane_train)\n",
        "\n",
        "octane_predicted_ridge = ridgeRegresssor.predict(predit_test)\n",
        "\n",
        "\n",
        "# Calculo do erro quadratico medio Mean Squared Error (MSE) para Ridge\n",
        "R_squared_r = r2_score(octane_predicted_ridge,octane_test)\n",
        "\n",
        "print('Erro quadratico medio ou Mean Squared Error (MSE) ridge:', R_squared)\n",
        "\n",
        "\n"
      ],
      "execution_count": 12,
      "outputs": [
        {
          "output_type": "stream",
          "name": "stdout",
          "text": [
            "Erro quadratico medio ou Mean Squared Error (MSE) ridge: 0.9493465980905045\n"
          ]
        }
      ]
    },
    {
      "cell_type": "markdown",
      "metadata": {
        "id": "R3Kb06F9iVsA"
      },
      "source": [
        "Visualização de coeficientes obtidos por penalização ridge"
      ]
    },
    {
      "cell_type": "code",
      "metadata": {
        "colab": {
          "base_uri": "https://localhost:8080/",
          "height": 391
        },
        "id": "1BJDTzrpEaWU",
        "outputId": "e3656f1b-da40-404b-f252-9f0fbeb1b398"
      },
      "source": [
        "# Reunindo o nome da variavel ao seu coeficiente correspondente\n",
        "#print(linearreg.coef_)\n",
        "coeficiente_dfr = pd.DataFrame()\n",
        "coeficiente_dfr[\"nomes_colunas\"] = spectra.columns\n",
        "coeficiente_dfr['valores'] = pd.DataFrame(ridgeRegresssor.coef_).transpose()\n",
        "# Apresentar os 10 primeiros coeficientes\n",
        "coeficiente_dfr.head(10)\n",
        "\n",
        "plt.rcParams[\"figure.figsize\"] = (15,6)\n",
        "plt.bar(coeficiente_dfr[\"nomes_colunas\"],coeficiente_dfr['valores'])"
      ],
      "execution_count": 16,
      "outputs": [
        {
          "output_type": "execute_result",
          "data": {
            "text/plain": [
              "<BarContainer object of 401 artists>"
            ]
          },
          "metadata": {},
          "execution_count": 16
        },
        {
          "output_type": "display_data",
          "data": {
            "text/plain": [
              "<Figure size 1080x432 with 1 Axes>"
            ],
            "image/png": "[encoded data removed]"
          },
          "metadata": {
            "needs_background": "light"
          }
        }
      ]
    },
    {
      "cell_type": "markdown",
      "metadata": {
        "id": "4rfHnZn8ik8U"
      },
      "source": [
        "# Comparação de coeficientes obtidos por regularização ridge e regressão linear "
      ]
    },
    {
      "cell_type": "code",
      "metadata": {
        "colab": {
          "base_uri": "https://localhost:8080/",
          "height": 374
        },
        "id": "OM5DAuG3HwkF",
        "outputId": "f765dbdc-db6f-4e8d-8d2c-286e8e7a47ba"
      },
      "source": [
        "ax = plt.subplot(111)\n",
        "ax.bar(coeficiente_df[\"nomes_colunas\"],coeficiente_df['valores'], width=0.5, color='b', align='center')\n",
        "ax.bar(coeficiente_dfr[\"nomes_colunas\"],coeficiente_dfr['valores'], width=0.5, color='g', align='center')\n",
        "#ax.bar(coeficiente_df[\"nomes_colunas\"],coeficiente_df['valores'], width=0.5, color='r', align='center')\n",
        "#ax.xaxis_date()\n",
        "\n",
        "plt.show()"
      ],
      "execution_count": 17,
      "outputs": [
        {
          "output_type": "display_data",
          "data": {
            "text/plain": [
              "<Figure size 1080x432 with 1 Axes>"
            ],
            "image/png": "[encoded data removed]"
          },
          "metadata": {
            "needs_background": "light"
          }
        }
      ]
    },
    {
      "cell_type": "markdown",
      "metadata": {
        "id": "KQ_QbzC4jGVi"
      },
      "source": [
        "# Avaliação da distruição e relação com parâmetros obtidos por difeerentes abordagens"
      ]
    },
    {
      "cell_type": "code",
      "metadata": {
        "id": "WzExS6i8KOSI"
      },
      "source": [
        "# Grafico de dispersao da abordagem classica vs ridge\n",
        "\n",
        "\n",
        "\n",
        "def scatter_hist(x, y, ax, ax_histx, ax_histy):\n",
        "    # no labels\n",
        "    ax_histx.tick_params(axis=\"x\", labelbottom=False)\n",
        "    ax_histy.tick_params(axis=\"y\", labelleft=False)\n",
        "\n",
        "    # the scatter plot:\n",
        "    ax.scatter(x, y)\n",
        "\n",
        "    # now determine nice limits by hand:\n",
        "    binwidth = 0.25\n",
        "    xymax = max(np.max(np.abs(x)), np.max(np.abs(y)))\n",
        "    lim = (int(xymax/binwidth) + 1) * binwidth\n",
        "\n",
        "    bins = np.arange(-lim, lim + binwidth, binwidth)\n",
        "    ax_histx.hist(x, bins=bins)\n",
        "    ax_histy.hist(y, bins=bins, orientation='horizontal')\n",
        "\n",
        "\n",
        "\n",
        "    "
      ],
      "execution_count": 18,
      "outputs": []
    },
    {
      "cell_type": "code",
      "metadata": {
        "colab": {
          "base_uri": "https://localhost:8080/",
          "height": 540
        },
        "id": "m5sg_-t_N93i",
        "outputId": "391efb20-adec-4b8b-aecc-9ccfe4254514"
      },
      "source": [
        "# definitions for the axes\n",
        "left, width = 0.1, 0.65\n",
        "bottom, height = 0.1, 0.65\n",
        "spacing = 0.005\n",
        "\n",
        "\n",
        "rect_scatter = [left, bottom, width, height]\n",
        "rect_histx = [left, bottom + height + spacing, width, 0.2]\n",
        "rect_histy = [left + width + spacing, bottom, 0.2, height]\n",
        "\n",
        "# start with a square Figure\n",
        "fig = plt.figure(figsize=(8, 8))\n",
        "\n",
        "ax = fig.add_axes(rect_scatter)\n",
        "ax_histx = fig.add_axes(rect_histx, sharex=ax)\n",
        "ax_histy = fig.add_axes(rect_histy, sharey=ax)\n",
        "\n",
        "# use the previously defined function\n",
        "scatter_hist(coeficiente_df.valores, coeficiente_dfr.valores, ax, ax_histx, ax_histy)\n",
        "\n",
        "plt.show()"
      ],
      "execution_count": 19,
      "outputs": [
        {
          "output_type": "display_data",
          "data": {
            "text/plain": [
              "<Figure size 576x576 with 3 Axes>"
            ],
            "image/png": "[encoded data removed]"
          },
          "metadata": {
            "needs_background": "light"
          }
        }
      ]
    },
    {
      "cell_type": "markdown",
      "metadata": {
        "id": "ERqZV03pjoYh"
      },
      "source": [
        "# Regularização por LASSO "
      ]
    },
    {
      "cell_type": "markdown",
      "metadata": {
        "id": "K0e0Fv-BjoRS"
      },
      "source": []
    },
    {
      "cell_type": "code",
      "metadata": {
        "colab": {
          "base_uri": "https://localhost:8080/"
        },
        "id": "ukOn1q1sTFxn",
        "outputId": "7d292800-d738-48fa-d0a5-90a5472a78d8"
      },
      "source": [
        "# Importar LASSO da biblioteca sklearn\n",
        "from sklearn.linear_model import Lasso\n",
        "\n",
        "# treinamento do modelo   \n",
        "\n",
        "lassoRegressor = Lasso(alpha=0.0001)\n",
        "lassoRegressor.fit(predit_train ,octane_train)\n",
        "\n",
        "# Predicao\n",
        "octane_predicted_lasso = lassoRegressor.predict(predit_test)\n",
        "\n",
        "R_squared_l = r2_score(octane_predicted_lasso,octane_test)\n",
        "\n",
        "\n",
        "print(R_squared_l)\n",
        "print(lassoRegressor.coef_)\n"
      ],
      "execution_count": 20,
      "outputs": [
        {
          "output_type": "stream",
          "name": "stdout",
          "text": [
            "0.9695564181455774\n",
            "[  0.           0.           0.           0.           0.\n",
            "   0.           0.           0.           0.           0.\n",
            "   0.           0.           0.           0.           0.\n",
            "   0.           0.           0.           0.           0.\n",
            "   0.           0.           0.           0.           0.\n",
            "   0.           0.           0.           0.           0.\n",
            "   0.           0.           0.           0.           0.\n",
            "   0.           0.           0.           0.           0.\n",
            "   0.           0.           0.           0.           0.\n",
            "   0.           0.           0.           0.           0.\n",
            "   0.           0.           0.           0.           0.\n",
            "   0.           0.           0.           0.           0.\n",
            "   0.           0.           0.           0.           0.\n",
            "   0.           0.           0.           0.           0.\n",
            "   0.           0.           0.           0.           0.\n",
            "   0.           0.           0.           0.           0.\n",
            "   0.           0.           0.           0.           0.\n",
            "   0.           0.           0.           0.           0.\n",
            "   0.           0.           0.           0.           0.\n",
            "   0.           0.           0.           0.           0.\n",
            "   0.           0.           0.           0.           0.\n",
            "   0.           0.           0.           0.           0.\n",
            "   0.           0.           0.           0.           0.\n",
            "   0.           0.           0.           0.           0.\n",
            "   0.           0.           0.           0.           0.\n",
            "   0.           0.           0.           0.           0.\n",
            "   0.           0.          -0.           0.           0.\n",
            "  -0.           0.           0.           0.           0.\n",
            "   0.           0.           0.           0.           0.\n",
            "   0.           0.           0.           0.          -0.\n",
            "  -0.          -0.          -0.         -34.52468048  -0.\n",
            "  -0.          -0.          -0.          -0.         -18.22898784\n",
            "  -4.3012023   -0.         -34.75385231  -0.          -0.\n",
            "  -0.          -0.          -0.          -0.          -0.\n",
            "  -0.          -0.          -0.          -0.          -0.\n",
            "   0.          -0.           0.           0.           0.\n",
            "   0.           0.           0.           0.           0.\n",
            "  -0.          -0.          -0.          -0.          -0.\n",
            "   0.           0.           0.           0.           0.\n",
            "   0.           0.           0.           0.           0.\n",
            "   0.           0.           0.           0.           0.\n",
            "   0.           0.           0.           0.           0.\n",
            "   0.           0.           0.           0.           0.\n",
            "   0.           0.           0.           0.           0.\n",
            "   0.           0.           0.           0.           0.\n",
            "   0.           0.           0.           0.           0.\n",
            "   0.           0.           0.           0.           0.\n",
            "  17.7889643   19.38359964  32.1357331    0.           0.\n",
            "   0.           0.           0.           0.           0.\n",
            "   0.           0.           0.           0.           0.\n",
            "   0.           0.           0.           0.          -0.\n",
            "  -0.          -0.          -0.          -0.          -0.\n",
            "  -0.          -0.          -0.          -0.          -0.\n",
            "  -0.           0.           0.           0.          -0.\n",
            "   0.           0.           0.           0.           0.\n",
            "   0.          -0.          -0.          -0.          -0.\n",
            "  -0.          -0.          -0.          -0.          -0.\n",
            "  -0.          -0.          -0.          -0.          -0.\n",
            "  -0.          -0.          -0.           0.           0.\n",
            "   0.           0.           0.           0.           0.\n",
            "   0.          -0.           0.          -0.          -0.\n",
            "  -0.          -0.          -0.          -0.          -0.\n",
            "  -0.          -0.          -0.          -0.          -0.\n",
            "  -0.          -0.          -0.          -0.          -0.\n",
            "  -0.          -0.          -0.          -0.          -0.\n",
            "  -0.          -0.          -0.          -0.          -0.\n",
            "  -0.          -0.          -0.          -0.          -0.\n",
            "  -0.          -0.          -0.          -0.          -0.\n",
            "  -0.          -0.          -0.          -0.          -0.\n",
            "  -0.          -0.          -0.          -0.          -0.\n",
            "  -0.          -0.          -0.           0.           0.\n",
            "   0.           0.           0.           0.           0.\n",
            "   0.           0.           0.           0.          -0.\n",
            "  -0.          -0.          -0.          -0.          -0.72502894\n",
            "  -0.          -0.          -0.          -0.          -0.\n",
            "  -0.          -0.          -0.          -0.          -0.\n",
            "   0.           0.           0.           0.           0.\n",
            "  -0.          11.54145255  -2.23198806  -5.76414271  -2.71495585\n",
            "  -0.           0.           0.          -1.82015284   2.66812454\n",
            "  -1.95850183  -1.67084759   0.          -0.15502712  -0.\n",
            "  -0.04139788]\n"
          ]
        },
        {
          "output_type": "stream",
          "name": "stderr",
          "text": [
            "/usr/local/lib/python3.7/dist-packages/sklearn/linear_model/_coordinate_descent.py:648: ConvergenceWarning: Objective did not converge. You might want to increase the number of iterations, check the scale of the features or consider increasing regularisation. Duality gap: 5.302e-02, tolerance: 1.086e-02\n",
            "  coef_, l1_reg, l2_reg, X, y, max_iter, tol, rng, random, positive\n"
          ]
        }
      ]
    },
    {
      "cell_type": "code",
      "metadata": {
        "colab": {
          "base_uri": "https://localhost:8080/",
          "height": 1000
        },
        "id": "AbKQ_dT4pO2H",
        "outputId": "5dc2b422-9279-4448-bbde-fc9ca19b9920"
      },
      "source": [
        "# Reunindo o nome da variavel ao seu coeficiente correspondente\n",
        "#print(linearreg.coef_)\n",
        "coeficiente_dfl = pd.DataFrame()\n",
        "coeficiente_dfl[\"nomes_colunas\"] = spectra.columns\n",
        "\n",
        "lassoRegressor.coef_.shape\n",
        "print(lassoRegressor.coef_)\n",
        "\n",
        "coeficiente_dfl['valores'] = pd.DataFrame(lassoRegressor.coef_)\n",
        "# Apresentar os 10 primeiros coeficientes\n",
        "coeficiente_dfl.head(10)\n",
        "\n",
        "plt.rcParams[\"figure.figsize\"] = (15,6)\n",
        "plt.bar(coeficiente_dfl[\"nomes_colunas\"],coeficiente_dfl['valores'])"
      ],
      "execution_count": 21,
      "outputs": [
        {
          "output_type": "stream",
          "name": "stdout",
          "text": [
            "[  0.           0.           0.           0.           0.\n",
            "   0.           0.           0.           0.           0.\n",
            "   0.           0.           0.           0.           0.\n",
            "   0.           0.           0.           0.           0.\n",
            "   0.           0.           0.           0.           0.\n",
            "   0.           0.           0.           0.           0.\n",
            "   0.           0.           0.           0.           0.\n",
            "   0.           0.           0.           0.           0.\n",
            "   0.           0.           0.           0.           0.\n",
            "   0.           0.           0.           0.           0.\n",
            "   0.           0.           0.           0.           0.\n",
            "   0.           0.           0.           0.           0.\n",
            "   0.           0.           0.           0.           0.\n",
            "   0.           0.           0.           0.           0.\n",
            "   0.           0.           0.           0.           0.\n",
            "   0.           0.           0.           0.           0.\n",
            "   0.           0.           0.           0.           0.\n",
            "   0.           0.           0.           0.           0.\n",
            "   0.           0.           0.           0.           0.\n",
            "   0.           0.           0.           0.           0.\n",
            "   0.           0.           0.           0.           0.\n",
            "   0.           0.           0.           0.           0.\n",
            "   0.           0.           0.           0.           0.\n",
            "   0.           0.           0.           0.           0.\n",
            "   0.           0.           0.           0.           0.\n",
            "   0.           0.           0.           0.           0.\n",
            "   0.           0.          -0.           0.           0.\n",
            "  -0.           0.           0.           0.           0.\n",
            "   0.           0.           0.           0.           0.\n",
            "   0.           0.           0.           0.          -0.\n",
            "  -0.          -0.          -0.         -34.52468048  -0.\n",
            "  -0.          -0.          -0.          -0.         -18.22898784\n",
            "  -4.3012023   -0.         -34.75385231  -0.          -0.\n",
            "  -0.          -0.          -0.          -0.          -0.\n",
            "  -0.          -0.          -0.          -0.          -0.\n",
            "   0.          -0.           0.           0.           0.\n",
            "   0.           0.           0.           0.           0.\n",
            "  -0.          -0.          -0.          -0.          -0.\n",
            "   0.           0.           0.           0.           0.\n",
            "   0.           0.           0.           0.           0.\n",
            "   0.           0.           0.           0.           0.\n",
            "   0.           0.           0.           0.           0.\n",
            "   0.           0.           0.           0.           0.\n",
            "   0.           0.           0.           0.           0.\n",
            "   0.           0.           0.           0.           0.\n",
            "   0.           0.           0.           0.           0.\n",
            "   0.           0.           0.           0.           0.\n",
            "  17.7889643   19.38359964  32.1357331    0.           0.\n",
            "   0.           0.           0.           0.           0.\n",
            "   0.           0.           0.           0.           0.\n",
            "   0.           0.           0.           0.          -0.\n",
            "  -0.          -0.          -0.          -0.          -0.\n",
            "  -0.          -0.          -0.          -0.          -0.\n",
            "  -0.           0.           0.           0.          -0.\n",
            "   0.           0.           0.           0.           0.\n",
            "   0.          -0.          -0.          -0.          -0.\n",
            "  -0.          -0.          -0.          -0.          -0.\n",
            "  -0.          -0.          -0.          -0.          -0.\n",
            "  -0.          -0.          -0.           0.           0.\n",
            "   0.           0.           0.           0.           0.\n",
            "   0.          -0.           0.          -0.          -0.\n",
            "  -0.          -0.          -0.          -0.          -0.\n",
            "  -0.          -0.          -0.          -0.          -0.\n",
            "  -0.          -0.          -0.          -0.          -0.\n",
            "  -0.          -0.          -0.          -0.          -0.\n",
            "  -0.          -0.          -0.          -0.          -0.\n",
            "  -0.          -0.          -0.          -0.          -0.\n",
            "  -0.          -0.          -0.          -0.          -0.\n",
            "  -0.          -0.          -0.          -0.          -0.\n",
            "  -0.          -0.          -0.          -0.          -0.\n",
            "  -0.          -0.          -0.           0.           0.\n",
            "   0.           0.           0.           0.           0.\n",
            "   0.           0.           0.           0.          -0.\n",
            "  -0.          -0.          -0.          -0.          -0.72502894\n",
            "  -0.          -0.          -0.          -0.          -0.\n",
            "  -0.          -0.          -0.          -0.          -0.\n",
            "   0.           0.           0.           0.           0.\n",
            "  -0.          11.54145255  -2.23198806  -5.76414271  -2.71495585\n",
            "  -0.           0.           0.          -1.82015284   2.66812454\n",
            "  -1.95850183  -1.67084759   0.          -0.15502712  -0.\n",
            "  -0.04139788]\n"
          ]
        },
        {
          "output_type": "execute_result",
          "data": {
            "text/plain": [
              "<BarContainer object of 401 artists>"
            ]
          },
          "metadata": {},
          "execution_count": 21
        },
        {
          "output_type": "display_data",
          "data": {
            "text/plain": [
              "<Figure size 1080x432 with 1 Axes>"
            ],
            "image/png": "[encoded data removed]"
          },
          "metadata": {
            "needs_background": "light"
          }
        }
      ]
    },
    {
      "cell_type": "markdown",
      "metadata": {
        "id": "IBmBdxA2nBL_"
      },
      "source": [
        "# Comparação do resultado das abordagens "
      ]
    },
    {
      "cell_type": "code",
      "metadata": {
        "colab": {
          "base_uri": "https://localhost:8080/",
          "height": 374
        },
        "id": "gmWVlIKF1CCX",
        "outputId": "92b74b77-67cc-4863-b128-82170a3fe155"
      },
      "source": [
        "filled_marker_style = dict(marker='x', linestyle='none', markersize=5,\n",
        "                           color='darkgrey',\n",
        "                           markerfacecolor='none',\n",
        "                           markerfacecoloralt='none',\n",
        "                           markeredgecolor='brown')\n",
        "\n",
        "\n",
        "\n",
        "\n",
        "ax = plt.subplot(111)\n",
        "ax.bar(coeficiente_df[\"nomes_colunas\"],coeficiente_df['valores'], width=0.5, color='b', align='center')\n",
        "ax.bar(coeficiente_dfr[\"nomes_colunas\"],coeficiente_dfr['valores'], width=0.5, color='g', align='center')\n",
        "ax.plot(coeficiente_dfl[\"nomes_colunas\"],coeficiente_dfl['valores'],**filled_marker_style)\n",
        "\n",
        "\n",
        "\n",
        "plt.show()"
      ],
      "execution_count": 22,
      "outputs": [
        {
          "output_type": "display_data",
          "data": {
            "text/plain": [
              "<Figure size 1080x432 with 1 Axes>"
            ],
            "image/png": "[encoded data removed]"
          },
          "metadata": {
            "needs_background": "light"
          }
        }
      ]
    },
    {
      "cell_type": "markdown",
      "metadata": {
        "id": "kKgcAkiBFBwH"
      },
      "source": [
        "# Relatório "
      ]
    },
    {
      "cell_type": "code",
      "metadata": {
        "id": "_V4Df4G8RC4V",
        "colab": {
          "base_uri": "https://localhost:8080/"
        },
        "outputId": "8af83724-eb8f-4ba2-a560-c89d2c03c2ac"
      },
      "source": [
        "# Summarize the fit of the model\n",
        "\n",
        "\n",
        "#mse = np.mean((octane_predicted_ridge-octane_test)**2)\n",
        "print('Sem Regularização  ')\n",
        "print(linearreg.intercept_)\n",
        "print(linearreg.score(predit_train,octane_train))\n",
        "\n",
        "\n",
        "print('Sem Regularização  teste')\n",
        "print(linearreg.intercept_)\n",
        "print(linearreg.score(predit_test,octane_test))\n",
        "\n",
        "print('----------------------------')\n",
        "print('Regularização Ridge')\n",
        "print(ridgeRegresssor.intercept_)\n",
        "print(ridgeRegresssor.score(predit_train,octane_train))\n",
        "\n",
        "print('Regularização Ridge teste')\n",
        "print(ridgeRegresssor.intercept_)\n",
        "print(ridgeRegresssor.score(predit_test,octane_test))\n",
        "\n",
        "print('----------------------------')\n",
        "print('Regularização Lasso')\n",
        "print(lassoRegressor.intercept_)\n",
        "print(lassoRegressor.score(predit_train,octane_train))\n",
        "\n",
        "print('Regularização Lasso')\n",
        "print(lassoRegressor.intercept_)\n",
        "print(lassoRegressor.score(predit_test,octane_test))\n",
        "\n",
        "\n"
      ],
      "execution_count": 23,
      "outputs": [
        {
          "output_type": "stream",
          "name": "stdout",
          "text": [
            "Sem Regularização  \n",
            "[87.71373514]\n",
            "1.0\n",
            "Sem Regularização  teste\n",
            "[87.71373514]\n",
            "0.9447024861361566\n",
            "----------------------------\n",
            "Regularização Ridge\n",
            "[89.57392567]\n",
            "0.9924586174165957\n",
            "Regularização Ridge teste\n",
            "[89.57392567]\n",
            "0.9785186133056725\n",
            "----------------------------\n",
            "Regularização Lasso\n",
            "[91.91674194]\n",
            "0.9921607185117348\n",
            "Regularização Lasso\n",
            "[91.91674194]\n",
            "0.9661247918647449\n"
          ]
        }
      ]
    },
    {
      "cell_type": "markdown",
      "metadata": {
        "id": "-FUM8bQLaAq7"
      },
      "source": [
        "# Comparação das estimativas do conjunto teste em relação ao valor medido de RON\n"
      ]
    },
    {
      "cell_type": "markdown",
      "metadata": {
        "id": "NJ0DqUDAaAXk"
      },
      "source": []
    },
    {
      "cell_type": "code",
      "metadata": {
        "id": "SOwWBkrPFvzJ",
        "colab": {
          "base_uri": "https://localhost:8080/",
          "height": 1000
        },
        "outputId": "2255bb5e-eee6-491d-97e5-adc3016fca12"
      },
      "source": [
        "from functools import reduce\n",
        "\n",
        "RON_M_test = reduce(lambda x,y: list(x)+list(y), octane_test.values)\n",
        "RON_P_C = reduce(lambda x,y: list(x)+list(y), octane_predicted_classical)\n",
        "RON_P_R = reduce(lambda x,y: list(x)+list(y), octane_predicted_ridge)\n",
        "#RON_P_L = reduce(lambda x,y: list(x)+list(y), octane_predicted_lasso)\n",
        "\n",
        "#print(octane_predicted_lasso)\n",
        "\n",
        "RON_M_test = pd.Series(RON_M_test,name='RON_M')\n",
        "RON_P_C = pd.Series(RON_P_C,name='RON_P_C')\n",
        "RON_P_R = pd.Series(RON_P_R,name='RON_P_R')\n",
        "RON_P_L = pd.Series(octane_predicted_lasso,name='RON_P_L')\n",
        "\n",
        "df_P_all = pd.concat([RON_M_test,RON_P_C,RON_P_R,RON_P_L],axis=1,join='inner')\n",
        "\n",
        "print(pd.DataFrame(df_P_all))\n",
        "\n",
        "sns.set_theme(style=\"ticks\")\n",
        "sns.pairplot(df_P_all.loc[:,:])"
      ],
      "execution_count": 24,
      "outputs": [
        {
          "output_type": "stream",
          "name": "stdout",
          "text": [
            "    RON_M    RON_P_C    RON_P_R    RON_P_L\n",
            "0   86.85  86.783224  86.932598  86.931262\n",
            "1   88.25  88.575062  88.426456  88.440970\n",
            "2   88.20  88.543087  88.404620  88.285937\n",
            "3   88.40  88.207338  88.249934  88.141141\n",
            "4   87.10  87.199112  87.058062  87.159782\n",
            "5   85.50  85.817277  85.546602  85.529122\n",
            "6   86.00  86.027573  86.053035  86.115801\n",
            "7   87.15  87.608704  87.273001  87.010393\n",
            "8   88.45  88.626507  88.337352  88.375445\n",
            "9   84.50  84.461919  84.365871  84.374378\n",
            "10  88.30  88.473630  88.491446  88.454762\n",
            "11  87.90  87.550674  88.359171  88.633300\n",
            "12  88.10  87.933653  88.011538  88.005721\n",
            "13  88.25  88.713028  88.231453  88.302586\n",
            "14  87.30  88.073998  87.686381  87.719405\n",
            "15  88.40  88.360541  88.408404  88.363565\n",
            "16  84.60  84.504635  84.355948  84.355867\n",
            "17  86.30  86.387604  86.418550  86.413004\n"
          ]
        },
        {
          "output_type": "execute_result",
          "data": {
            "text/plain": [
              "<seaborn.axisgrid.PairGrid at 0x7f13423f5f90>"
            ]
          },
          "metadata": {},
          "execution_count": 24
        },
        {
          "output_type": "display_data",
          "data": {
            "text/plain": [
              "<Figure size 720x720 with 20 Axes>"
            ],
            "image/png": "[encoded data removed]"
          },
          "metadata": {}
        }
      ]
    },
    {
      "cell_type": "markdown",
      "metadata": {
        "id": "Dke9j4t7aVrr"
      },
      "source": [
        "# Desafio \n",
        "\n",
        "- Escolher uma propriedade do problema do milho disponível no link do repositório github:\n",
        "- [Propriedades do milho](https://github.com/rpessoa1983/regularization/blob/master/properties_corn.csv)\n",
        "e criar modelos de regressão utilizando regularização com as varriáveis preditoras dada pelo espectro infravermelho próximo também disponíveis no link do github:\n",
        "- [Espectro NIR](https://github.com/rpessoa1983/regularization/blob/master/spectro_corn.csv).\n",
        "\n",
        "Noo mesmo repositório está disponível o artigo que analisou estes dados originalmente [artigo](https://github.com/rpessoa1983/regularization/blob/master/1-s2.0-S0169743916302945-main.pdf).\n"
      ]
    }
  ]
}