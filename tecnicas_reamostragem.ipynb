{
  "nbformat": 4,
  "nbformat_minor": 0,
  "metadata": {
    "colab": {
      "provenance": [],
      "include_colab_link": true
    },
    "kernelspec": {
      "name": "python3",
      "display_name": "Python 3"
    },
    "language_info": {
      "name": "python"
    }
  },
  "cells": [
    {
      "cell_type": "markdown",
      "metadata": {
        "id": "view-in-github",
        "colab_type": "text"
      },
      "source": [
        "<a href=\"https://colab.research.google.com/github/yagomsv/aulas_ciencia_de_dados_UFBA/blob/main/tecnicas_reamostragem.ipynb\" target=\"_parent\"><img src=\"https://colab.research.google.com/assets/colab-badge.svg\" alt=\"Open In Colab\"/></a>"
      ]
    },
    {
      "cell_type": "markdown",
      "source": [
        "\n",
        "### **Estudo dirigido KNN e cross validation** \n",
        "\n",
        "---\n",
        "\n",
        "\n"
      ],
      "metadata": {
        "id": "1xAD5jv4Tozr"
      }
    },
    {
      "cell_type": "markdown",
      "source": [
        "### Objetivos:\n",
        "\n",
        "- Simular um conjunto de dados, constituído pelas variáveis X, Y e Z formado por três subconjuntos A, B e C\n",
        "- Desenvolver um classificador KNN para este conjunto. Refletir sobre os possíveis resultados e observar as consequências para:  \n",
        "  - Situação 1 - Os grupos devem estar completamente desconectados\n",
        "  - Situação 2 - Os grupos devem estar completamente misturados\n",
        "  - Situação 3 - Simule o grupo central de tal maneira que o conjunto tenha distribuição gaussiana paras as três variáveis e mantendo o desvio padrão da largura do intervalo de uma gaussiana.\n",
        "  - Testar Leave One out Cross Validation - LOOCV\n",
        "  - Testar aplicação K-Fold     \n",
        "  - Avaliar a importância do recurso shuffle no K-Fold\n",
        "\n",
        "---\n",
        "\n"
      ],
      "metadata": {
        "id": "aOXuTms6ETwb"
      }
    },
    {
      "cell_type": "markdown",
      "source": [
        "1. Importação de Bibliotecas "
      ],
      "metadata": {
        "id": "X-kEwT6mMYLF"
      }
    },
    {
      "cell_type": "code",
      "source": [
        "# Importando bibliotecas e metodos\n",
        "import pandas as pd \n",
        "import numpy as np\n",
        "import matplotlib.pyplot as plt\n",
        "\n"
      ],
      "metadata": {
        "id": "sNUheMrWeTi7"
      },
      "execution_count": null,
      "outputs": []
    },
    {
      "cell_type": "markdown",
      "source": [
        "2. Criacão de subconjuntos "
      ],
      "metadata": {
        "id": "QwCg3ju3MfMG"
      }
    },
    {
      "cell_type": "code",
      "execution_count": null,
      "metadata": {
        "colab": {
          "base_uri": "https://localhost:8080/"
        },
        "id": "xYmbE6q8TiPJ",
        "outputId": "baa5bcab-866f-4a16-f09c-bf6e5b00640e"
      },
      "outputs": [
        {
          "output_type": "stream",
          "name": "stdout",
          "text": [
            "Formato de saída X\n"
          ]
        },
        {
          "output_type": "execute_result",
          "data": {
            "text/plain": [
              "(20,)"
            ]
          },
          "metadata": {},
          "execution_count": 128
        }
      ],
      "source": [
        "# Medicoes A \n",
        "# Vetores vazios\n",
        "X = []\n",
        "Y = []\n",
        "Z = []\n",
        "nsamp = 20\n",
        "# Construcao de distribuicoes uniformes\n",
        "X = np.random.normal(0,1,nsamp)\n",
        "Y = np.random.normal(0,1,nsamp)\n",
        "Z = np.random.normal(0,1,nsamp)\n",
        "\n",
        "flag = ['A']*nsamp\n",
        "\n",
        "# Conhecendo a saida\n",
        "print(\"Formato de saída X\")\n",
        "X.shape \n",
        "\n"
      ]
    },
    {
      "cell_type": "code",
      "source": [
        "# Reunindo as tres variaveis\n",
        "medA = pd.DataFrame([X,Y,Z,flag])\n",
        "\n",
        "# transpondo o DataFrame\n",
        "medA = np.transpose(medA) \n",
        "\n",
        "# Conhecendo a saida\n",
        "print(\"Formato de saída medA\")\n",
        "medA.shape  "
      ],
      "metadata": {
        "colab": {
          "base_uri": "https://localhost:8080/"
        },
        "id": "TWUvj-kbeHHc",
        "outputId": "3b515b03-de01-4c9b-8eab-f7ab071de102"
      },
      "execution_count": null,
      "outputs": [
        {
          "output_type": "stream",
          "name": "stdout",
          "text": [
            "Formato de saída medA\n"
          ]
        },
        {
          "output_type": "execute_result",
          "data": {
            "text/plain": [
              "(20, 4)"
            ]
          },
          "metadata": {},
          "execution_count": 129
        }
      ]
    },
    {
      "cell_type": "code",
      "source": [
        "# Medicoes B \n",
        "# Vetores vazios\n",
        "\n",
        "X = []\n",
        "Y = []\n",
        "Z = []\n",
        "\n",
        "# Construcao de distribuicoes uniformes\n",
        "X = np.random.normal(2,1,nsamp)\n",
        "Y = np.random.normal(2,1,nsamp)\n",
        "Z = np.random.normal(2,1,nsamp)\n",
        "#X = np.random.normal(2,2,nsamp)\n",
        "#Y = np.random.normal(2,2,nsamp)\n",
        "#Z = np.random.normal(2,2,nsamp)\n",
        "\n",
        "flag = ['B']*nsamp\n",
        "\n",
        "# Reunindo as tres variaveis\n",
        "medB = pd.DataFrame([X,Y,Z,flag])\n",
        "\n",
        "# transpondo o DataFrame\n",
        "medB = np.transpose(medB) "
      ],
      "metadata": {
        "id": "qPmYRCFHeOY6"
      },
      "execution_count": null,
      "outputs": []
    },
    {
      "cell_type": "code",
      "source": [
        "# Medicoes C \n",
        "# Vetores vazios\n",
        "X = []\n",
        "Y = []\n",
        "Z = []\n",
        "\n",
        "# Construcao de distribuicoes uniformes\n",
        "X = np.random.normal(4,1,nsamp)\n",
        "Y = np.random.normal(4,1,nsamp)\n",
        "Z = np.random.normal(4,1,nsamp)\n",
        "flag = ['C']*nsamp\n",
        "\n",
        "\n",
        "# Reunindo as tres variaveis\n",
        "medC = pd.DataFrame([X,Y,Z,flag])\n",
        "\n",
        "# transpondo o DataFrame\n",
        "medC = np.transpose(medC) \n"
      ],
      "metadata": {
        "id": "lyN2oGmcfb6b"
      },
      "execution_count": null,
      "outputs": []
    },
    {
      "cell_type": "markdown",
      "source": [
        "3. Concatenar subconjuntos"
      ],
      "metadata": {
        "id": "PAI-809hMstX"
      }
    },
    {
      "cell_type": "code",
      "source": [
        "# Concatenar DataFrames\n",
        "\n",
        "data = pd.concat([medA, medB, medC], ignore_index=True,axis=0, join='inner')\n",
        "data.shape\n",
        "data = data.rename(columns={0:'X', 1: 'Y',2:'Z',3:'flag'}) "
      ],
      "metadata": {
        "id": "soQx8sMegKXc"
      },
      "execution_count": null,
      "outputs": []
    },
    {
      "cell_type": "code",
      "source": [
        "data"
      ],
      "metadata": {
        "colab": {
          "base_uri": "https://localhost:8080/",
          "height": 1000
        },
        "id": "V5dSCX0WX03W",
        "outputId": "e44f737f-7d1a-4405-85e1-976e2ab89e2f"
      },
      "execution_count": null,
      "outputs": [
        {
          "output_type": "execute_result",
          "data": {
            "text/plain": [
              "           X         Y         Z flag\n",
              "0   0.295497  0.036176  0.935636    A\n",
              "1   0.228037 -0.730128 -0.622253    A\n",
              "2   0.039297  1.205826 -1.052375    A\n",
              "3  -1.207377  0.303998  -0.26836    A\n",
              "4  -0.728303  0.347354 -1.665821    A\n",
              "5   0.276333  0.854619  -0.30659    A\n",
              "6  -0.573299 -0.133236 -0.250311    A\n",
              "7  -0.854742  0.580325  0.950194    A\n",
              "8   0.428712 -0.170205 -1.585478    A\n",
              "9   1.968005 -1.785216 -0.180353    A\n",
              "10 -0.906012  1.201246 -0.815102    A\n",
              "11  0.386603 -0.476775 -1.513767    A\n",
              "12  0.290439 -0.133089   -0.0839    A\n",
              "13  -0.30108  0.474543  1.347745    A\n",
              "14  1.508429 -0.602522  1.156581    A\n",
              "15 -0.231255  0.642618  0.759584    A\n",
              "16  2.452581  1.725026  0.523527    A\n",
              "17 -0.909211   1.99663 -0.060962    A\n",
              "18 -1.363865  0.986931 -0.742288    A\n",
              "19  1.310544 -0.055635  0.700042    A\n",
              "20  1.573824  2.233954  2.579633    B\n",
              "21  0.930613  2.686864  1.646671    B\n",
              "22  0.548926  0.920654  1.871077    B\n",
              "23   3.13015  3.446769   1.90992    B\n",
              "24  2.630505  1.792651  1.438638    B\n",
              "25  3.288976  0.248336  1.171089    B\n",
              "26  1.551792  3.744952  2.154746    B\n",
              "27  2.690407  3.605794  2.336459    B\n",
              "28   3.23407  3.239679  1.386806    B\n",
              "29  0.134812  0.670072   2.53367    B\n",
              "30  2.323328  2.579034  1.381297    B\n",
              "31  0.795865  2.445527  2.723755    B\n",
              "32  1.893719  1.729618  0.709362    B\n",
              "33  2.303069  2.858148  1.604393    B\n",
              "34  3.094689  2.984945  3.986626    B\n",
              "35   2.34637  3.700142  2.346757    B\n",
              "36  1.147365  2.137851  2.978271    B\n",
              "37  2.292609   2.25058  3.332197    B\n",
              "38  1.348018  2.332511  3.766444    B\n",
              "39  1.669786  0.665317  1.487145    B\n",
              "40  3.423826  2.769821  5.047033    C\n",
              "41  1.655818  5.208404   3.37579    C\n",
              "42  4.850317  3.916931  4.071085    C\n",
              "43  4.985758   3.04998  4.193676    C\n",
              "44  5.179184  2.703776  2.959632    C\n",
              "45  3.126924  4.184301  4.208617    C\n",
              "46  4.065432  3.116939  3.978721    C\n",
              "47  2.561432  2.594989  4.394602    C\n",
              "48  2.887098  5.355118  4.061889    C\n",
              "49  5.178436  4.217701  5.166437    C\n",
              "50  3.731731  4.118323  4.180538    C\n",
              "51  3.189841  3.915794  5.598216    C\n",
              "52  3.135233  3.400198  4.139049    C\n",
              "53  3.451593  3.731197  3.670153    C\n",
              "54  4.786104  6.238696  4.162226    C\n",
              "55  3.790422  3.764459  3.244755    C\n",
              "56  2.662249  2.550277  3.778281    C\n",
              "57  4.284305  2.602708  1.546238    C\n",
              "58  5.846114  2.965639   2.23717    C\n",
              "59  5.555616    3.8407  4.279865    C"
            ],
            "text/html": [
              "\n",
              "  <div id=\"df-f243d55a-50bb-4598-874a-719fb25f5881\">\n",
              "    <div class=\"colab-df-container\">\n",
              "      <div>\n",
              "<style scoped>\n",
              "    .dataframe tbody tr th:only-of-type {\n",
              "        vertical-align: middle;\n",
              "    }\n",
              "\n",
              "    .dataframe tbody tr th {\n",
              "        vertical-align: top;\n",
              "    }\n",
              "\n",
              "    .dataframe thead th {\n",
              "        text-align: right;\n",
              "    }\n",
              "</style>\n",
              "<table border=\"1\" class=\"dataframe\">\n",
              "  <thead>\n",
              "    <tr style=\"text-align: right;\">\n",
              "      <th></th>\n",
              "      <th>X</th>\n",
              "      <th>Y</th>\n",
              "      <th>Z</th>\n",
              "      <th>flag</th>\n",
              "    </tr>\n",
              "  </thead>\n",
              "  <tbody>\n",
              "    <tr>\n",
              "      <th>0</th>\n",
              "      <td>0.295497</td>\n",
              "      <td>0.036176</td>\n",
              "      <td>0.935636</td>\n",
              "      <td>A</td>\n",
              "    </tr>\n",
              "    <tr>\n",
              "      <th>1</th>\n",
              "      <td>0.228037</td>\n",
              "      <td>-0.730128</td>\n",
              "      <td>-0.622253</td>\n",
              "      <td>A</td>\n",
              "    </tr>\n",
              "    <tr>\n",
              "      <th>2</th>\n",
              "      <td>0.039297</td>\n",
              "      <td>1.205826</td>\n",
              "      <td>-1.052375</td>\n",
              "      <td>A</td>\n",
              "    </tr>\n",
              "    <tr>\n",
              "      <th>3</th>\n",
              "      <td>-1.207377</td>\n",
              "      <td>0.303998</td>\n",
              "      <td>-0.26836</td>\n",
              "      <td>A</td>\n",
              "    </tr>\n",
              "    <tr>\n",
              "      <th>4</th>\n",
              "      <td>-0.728303</td>\n",
              "      <td>0.347354</td>\n",
              "      <td>-1.665821</td>\n",
              "      <td>A</td>\n",
              "    </tr>\n",
              "    <tr>\n",
              "      <th>5</th>\n",
              "      <td>0.276333</td>\n",
              "      <td>0.854619</td>\n",
              "      <td>-0.30659</td>\n",
              "      <td>A</td>\n",
              "    </tr>\n",
              "    <tr>\n",
              "      <th>6</th>\n",
              "      <td>-0.573299</td>\n",
              "      <td>-0.133236</td>\n",
              "      <td>-0.250311</td>\n",
              "      <td>A</td>\n",
              "    </tr>\n",
              "    <tr>\n",
              "      <th>7</th>\n",
              "      <td>-0.854742</td>\n",
              "      <td>0.580325</td>\n",
              "      <td>0.950194</td>\n",
              "      <td>A</td>\n",
              "    </tr>\n",
              "    <tr>\n",
              "      <th>8</th>\n",
              "      <td>0.428712</td>\n",
              "      <td>-0.170205</td>\n",
              "      <td>-1.585478</td>\n",
              "      <td>A</td>\n",
              "    </tr>\n",
              "    <tr>\n",
              "      <th>9</th>\n",
              "      <td>1.968005</td>\n",
              "      <td>-1.785216</td>\n",
              "      <td>-0.180353</td>\n",
              "      <td>A</td>\n",
              "    </tr>\n",
              "    <tr>\n",
              "      <th>10</th>\n",
              "      <td>-0.906012</td>\n",
              "      <td>1.201246</td>\n",
              "      <td>-0.815102</td>\n",
              "      <td>A</td>\n",
              "    </tr>\n",
              "    <tr>\n",
              "      <th>11</th>\n",
              "      <td>0.386603</td>\n",
              "      <td>-0.476775</td>\n",
              "      <td>-1.513767</td>\n",
              "      <td>A</td>\n",
              "    </tr>\n",
              "    <tr>\n",
              "      <th>12</th>\n",
              "      <td>0.290439</td>\n",
              "      <td>-0.133089</td>\n",
              "      <td>-0.0839</td>\n",
              "      <td>A</td>\n",
              "    </tr>\n",
              "    <tr>\n",
              "      <th>13</th>\n",
              "      <td>-0.30108</td>\n",
              "      <td>0.474543</td>\n",
              "      <td>1.347745</td>\n",
              "      <td>A</td>\n",
              "    </tr>\n",
              "    <tr>\n",
              "      <th>14</th>\n",
              "      <td>1.508429</td>\n",
              "      <td>-0.602522</td>\n",
              "      <td>1.156581</td>\n",
              "      <td>A</td>\n",
              "    </tr>\n",
              "    <tr>\n",
              "      <th>15</th>\n",
              "      <td>-0.231255</td>\n",
              "      <td>0.642618</td>\n",
              "      <td>0.759584</td>\n",
              "      <td>A</td>\n",
              "    </tr>\n",
              "    <tr>\n",
              "      <th>16</th>\n",
              "      <td>2.452581</td>\n",
              "      <td>1.725026</td>\n",
              "      <td>0.523527</td>\n",
              "      <td>A</td>\n",
              "    </tr>\n",
              "    <tr>\n",
              "      <th>17</th>\n",
              "      <td>-0.909211</td>\n",
              "      <td>1.99663</td>\n",
              "      <td>-0.060962</td>\n",
              "      <td>A</td>\n",
              "    </tr>\n",
              "    <tr>\n",
              "      <th>18</th>\n",
              "      <td>-1.363865</td>\n",
              "      <td>0.986931</td>\n",
              "      <td>-0.742288</td>\n",
              "      <td>A</td>\n",
              "    </tr>\n",
              "    <tr>\n",
              "      <th>19</th>\n",
              "      <td>1.310544</td>\n",
              "      <td>-0.055635</td>\n",
              "      <td>0.700042</td>\n",
              "      <td>A</td>\n",
              "    </tr>\n",
              "    <tr>\n",
              "      <th>20</th>\n",
              "      <td>1.573824</td>\n",
              "      <td>2.233954</td>\n",
              "      <td>2.579633</td>\n",
              "      <td>B</td>\n",
              "    </tr>\n",
              "    <tr>\n",
              "      <th>21</th>\n",
              "      <td>0.930613</td>\n",
              "      <td>2.686864</td>\n",
              "      <td>1.646671</td>\n",
              "      <td>B</td>\n",
              "    </tr>\n",
              "    <tr>\n",
              "      <th>22</th>\n",
              "      <td>0.548926</td>\n",
              "      <td>0.920654</td>\n",
              "      <td>1.871077</td>\n",
              "      <td>B</td>\n",
              "    </tr>\n",
              "    <tr>\n",
              "      <th>23</th>\n",
              "      <td>3.13015</td>\n",
              "      <td>3.446769</td>\n",
              "      <td>1.90992</td>\n",
              "      <td>B</td>\n",
              "    </tr>\n",
              "    <tr>\n",
              "      <th>24</th>\n",
              "      <td>2.630505</td>\n",
              "      <td>1.792651</td>\n",
              "      <td>1.438638</td>\n",
              "      <td>B</td>\n",
              "    </tr>\n",
              "    <tr>\n",
              "      <th>25</th>\n",
              "      <td>3.288976</td>\n",
              "      <td>0.248336</td>\n",
              "      <td>1.171089</td>\n",
              "      <td>B</td>\n",
              "    </tr>\n",
              "    <tr>\n",
              "      <th>26</th>\n",
              "      <td>1.551792</td>\n",
              "      <td>3.744952</td>\n",
              "      <td>2.154746</td>\n",
              "      <td>B</td>\n",
              "    </tr>\n",
              "    <tr>\n",
              "      <th>27</th>\n",
              "      <td>2.690407</td>\n",
              "      <td>3.605794</td>\n",
              "      <td>2.336459</td>\n",
              "      <td>B</td>\n",
              "    </tr>\n",
              "    <tr>\n",
              "      <th>28</th>\n",
              "      <td>3.23407</td>\n",
              "      <td>3.239679</td>\n",
              "      <td>1.386806</td>\n",
              "      <td>B</td>\n",
              "    </tr>\n",
              "    <tr>\n",
              "      <th>29</th>\n",
              "      <td>0.134812</td>\n",
              "      <td>0.670072</td>\n",
              "      <td>2.53367</td>\n",
              "      <td>B</td>\n",
              "    </tr>\n",
              "    <tr>\n",
              "      <th>30</th>\n",
              "      <td>2.323328</td>\n",
              "      <td>2.579034</td>\n",
              "      <td>1.381297</td>\n",
              "      <td>B</td>\n",
              "    </tr>\n",
              "    <tr>\n",
              "      <th>31</th>\n",
              "      <td>0.795865</td>\n",
              "      <td>2.445527</td>\n",
              "      <td>2.723755</td>\n",
              "      <td>B</td>\n",
              "    </tr>\n",
              "    <tr>\n",
              "      <th>32</th>\n",
              "      <td>1.893719</td>\n",
              "      <td>1.729618</td>\n",
              "      <td>0.709362</td>\n",
              "      <td>B</td>\n",
              "    </tr>\n",
              "    <tr>\n",
              "      <th>33</th>\n",
              "      <td>2.303069</td>\n",
              "      <td>2.858148</td>\n",
              "      <td>1.604393</td>\n",
              "      <td>B</td>\n",
              "    </tr>\n",
              "    <tr>\n",
              "      <th>34</th>\n",
              "      <td>3.094689</td>\n",
              "      <td>2.984945</td>\n",
              "      <td>3.986626</td>\n",
              "      <td>B</td>\n",
              "    </tr>\n",
              "    <tr>\n",
              "      <th>35</th>\n",
              "      <td>2.34637</td>\n",
              "      <td>3.700142</td>\n",
              "      <td>2.346757</td>\n",
              "      <td>B</td>\n",
              "    </tr>\n",
              "    <tr>\n",
              "      <th>36</th>\n",
              "      <td>1.147365</td>\n",
              "      <td>2.137851</td>\n",
              "      <td>2.978271</td>\n",
              "      <td>B</td>\n",
              "    </tr>\n",
              "    <tr>\n",
              "      <th>37</th>\n",
              "      <td>2.292609</td>\n",
              "      <td>2.25058</td>\n",
              "      <td>3.332197</td>\n",
              "      <td>B</td>\n",
              "    </tr>\n",
              "    <tr>\n",
              "      <th>38</th>\n",
              "      <td>1.348018</td>\n",
              "      <td>2.332511</td>\n",
              "      <td>3.766444</td>\n",
              "      <td>B</td>\n",
              "    </tr>\n",
              "    <tr>\n",
              "      <th>39</th>\n",
              "      <td>1.669786</td>\n",
              "      <td>0.665317</td>\n",
              "      <td>1.487145</td>\n",
              "      <td>B</td>\n",
              "    </tr>\n",
              "    <tr>\n",
              "      <th>40</th>\n",
              "      <td>3.423826</td>\n",
              "      <td>2.769821</td>\n",
              "      <td>5.047033</td>\n",
              "      <td>C</td>\n",
              "    </tr>\n",
              "    <tr>\n",
              "      <th>41</th>\n",
              "      <td>1.655818</td>\n",
              "      <td>5.208404</td>\n",
              "      <td>3.37579</td>\n",
              "      <td>C</td>\n",
              "    </tr>\n",
              "    <tr>\n",
              "      <th>42</th>\n",
              "      <td>4.850317</td>\n",
              "      <td>3.916931</td>\n",
              "      <td>4.071085</td>\n",
              "      <td>C</td>\n",
              "    </tr>\n",
              "    <tr>\n",
              "      <th>43</th>\n",
              "      <td>4.985758</td>\n",
              "      <td>3.04998</td>\n",
              "      <td>4.193676</td>\n",
              "      <td>C</td>\n",
              "    </tr>\n",
              "    <tr>\n",
              "      <th>44</th>\n",
              "      <td>5.179184</td>\n",
              "      <td>2.703776</td>\n",
              "      <td>2.959632</td>\n",
              "      <td>C</td>\n",
              "    </tr>\n",
              "    <tr>\n",
              "      <th>45</th>\n",
              "      <td>3.126924</td>\n",
              "      <td>4.184301</td>\n",
              "      <td>4.208617</td>\n",
              "      <td>C</td>\n",
              "    </tr>\n",
              "    <tr>\n",
              "      <th>46</th>\n",
              "      <td>4.065432</td>\n",
              "      <td>3.116939</td>\n",
              "      <td>3.978721</td>\n",
              "      <td>C</td>\n",
              "    </tr>\n",
              "    <tr>\n",
              "      <th>47</th>\n",
              "      <td>2.561432</td>\n",
              "      <td>2.594989</td>\n",
              "      <td>4.394602</td>\n",
              "      <td>C</td>\n",
              "    </tr>\n",
              "    <tr>\n",
              "      <th>48</th>\n",
              "      <td>2.887098</td>\n",
              "      <td>5.355118</td>\n",
              "      <td>4.061889</td>\n",
              "      <td>C</td>\n",
              "    </tr>\n",
              "    <tr>\n",
              "      <th>49</th>\n",
              "      <td>5.178436</td>\n",
              "      <td>4.217701</td>\n",
              "      <td>5.166437</td>\n",
              "      <td>C</td>\n",
              "    </tr>\n",
              "    <tr>\n",
              "      <th>50</th>\n",
              "      <td>3.731731</td>\n",
              "      <td>4.118323</td>\n",
              "      <td>4.180538</td>\n",
              "      <td>C</td>\n",
              "    </tr>\n",
              "    <tr>\n",
              "      <th>51</th>\n",
              "      <td>3.189841</td>\n",
              "      <td>3.915794</td>\n",
              "      <td>5.598216</td>\n",
              "      <td>C</td>\n",
              "    </tr>\n",
              "    <tr>\n",
              "      <th>52</th>\n",
              "      <td>3.135233</td>\n",
              "      <td>3.400198</td>\n",
              "      <td>4.139049</td>\n",
              "      <td>C</td>\n",
              "    </tr>\n",
              "    <tr>\n",
              "      <th>53</th>\n",
              "      <td>3.451593</td>\n",
              "      <td>3.731197</td>\n",
              "      <td>3.670153</td>\n",
              "      <td>C</td>\n",
              "    </tr>\n",
              "    <tr>\n",
              "      <th>54</th>\n",
              "      <td>4.786104</td>\n",
              "      <td>6.238696</td>\n",
              "      <td>4.162226</td>\n",
              "      <td>C</td>\n",
              "    </tr>\n",
              "    <tr>\n",
              "      <th>55</th>\n",
              "      <td>3.790422</td>\n",
              "      <td>3.764459</td>\n",
              "      <td>3.244755</td>\n",
              "      <td>C</td>\n",
              "    </tr>\n",
              "    <tr>\n",
              "      <th>56</th>\n",
              "      <td>2.662249</td>\n",
              "      <td>2.550277</td>\n",
              "      <td>3.778281</td>\n",
              "      <td>C</td>\n",
              "    </tr>\n",
              "    <tr>\n",
              "      <th>57</th>\n",
              "      <td>4.284305</td>\n",
              "      <td>2.602708</td>\n",
              "      <td>1.546238</td>\n",
              "      <td>C</td>\n",
              "    </tr>\n",
              "    <tr>\n",
              "      <th>58</th>\n",
              "      <td>5.846114</td>\n",
              "      <td>2.965639</td>\n",
              "      <td>2.23717</td>\n",
              "      <td>C</td>\n",
              "    </tr>\n",
              "    <tr>\n",
              "      <th>59</th>\n",
              "      <td>5.555616</td>\n",
              "      <td>3.8407</td>\n",
              "      <td>4.279865</td>\n",
              "      <td>C</td>\n",
              "    </tr>\n",
              "  </tbody>\n",
              "</table>\n",
              "</div>\n",
              "      <button class=\"colab-df-convert\" onclick=\"convertToInteractive('df-f243d55a-50bb-4598-874a-719fb25f5881')\"\n",
              "              title=\"Convert this dataframe to an interactive table.\"\n",
              "              style=\"display:none;\">\n",
              "        \n",
              "  <svg xmlns=\"http://www.w3.org/2000/svg\" height=\"24px\"viewBox=\"0 0 24 24\"\n",
              "       width=\"24px\">\n",
              "    <path d=\"M0 0h24v24H0V0z\" fill=\"none\"/>\n",
              "    <path d=\"M18.56 5.44l.94 2.06.94-2.06 2.06-.94-2.06-.94-.94-2.06-.94 2.06-2.06.94zm-11 1L8.5 8.5l.94-2.06 2.06-.94-2.06-.94L8.5 2.5l-.94 2.06-2.06.94zm10 10l.94 2.06.94-2.06 2.06-.94-2.06-.94-.94-2.06-.94 2.06-2.06.94z\"/><path d=\"M17.41 7.96l-1.37-1.37c-.4-.4-.92-.59-1.43-.59-.52 0-1.04.2-1.43.59L10.3 9.45l-7.72 7.72c-.78.78-.78 2.05 0 2.83L4 21.41c.39.39.9.59 1.41.59.51 0 1.02-.2 1.41-.59l7.78-7.78 2.81-2.81c.8-.78.8-2.07 0-2.86zM5.41 20L4 18.59l7.72-7.72 1.47 1.35L5.41 20z\"/>\n",
              "  </svg>\n",
              "      </button>\n",
              "      \n",
              "  <style>\n",
              "    .colab-df-container {\n",
              "      display:flex;\n",
              "      flex-wrap:wrap;\n",
              "      gap: 12px;\n",
              "    }\n",
              "\n",
              "    .colab-df-convert {\n",
              "      background-color: #E8F0FE;\n",
              "      border: none;\n",
              "      border-radius: 50%;\n",
              "      cursor: pointer;\n",
              "      display: none;\n",
              "      fill: #1967D2;\n",
              "      height: 32px;\n",
              "      padding: 0 0 0 0;\n",
              "      width: 32px;\n",
              "    }\n",
              "\n",
              "    .colab-df-convert:hover {\n",
              "      background-color: #E2EBFA;\n",
              "      box-shadow: 0px 1px 2px rgba(60, 64, 67, 0.3), 0px 1px 3px 1px rgba(60, 64, 67, 0.15);\n",
              "      fill: #174EA6;\n",
              "    }\n",
              "\n",
              "    [theme=dark] .colab-df-convert {\n",
              "      background-color: #3B4455;\n",
              "      fill: #D2E3FC;\n",
              "    }\n",
              "\n",
              "    [theme=dark] .colab-df-convert:hover {\n",
              "      background-color: #434B5C;\n",
              "      box-shadow: 0px 1px 3px 1px rgba(0, 0, 0, 0.15);\n",
              "      filter: drop-shadow(0px 1px 2px rgba(0, 0, 0, 0.3));\n",
              "      fill: #FFFFFF;\n",
              "    }\n",
              "  </style>\n",
              "\n",
              "      <script>\n",
              "        const buttonEl =\n",
              "          document.querySelector('#df-f243d55a-50bb-4598-874a-719fb25f5881 button.colab-df-convert');\n",
              "        buttonEl.style.display =\n",
              "          google.colab.kernel.accessAllowed ? 'block' : 'none';\n",
              "\n",
              "        async function convertToInteractive(key) {\n",
              "          const element = document.querySelector('#df-f243d55a-50bb-4598-874a-719fb25f5881');\n",
              "          const dataTable =\n",
              "            await google.colab.kernel.invokeFunction('convertToInteractive',\n",
              "                                                     [key], {});\n",
              "          if (!dataTable) return;\n",
              "\n",
              "          const docLinkHtml = 'Like what you see? Visit the ' +\n",
              "            '<a target=\"_blank\" href=https://colab.research.google.com/notebooks/data_table.ipynb>data table notebook</a>'\n",
              "            + ' to learn more about interactive tables.';\n",
              "          element.innerHTML = '';\n",
              "          dataTable['output_type'] = 'display_data';\n",
              "          await google.colab.output.renderOutput(dataTable, element);\n",
              "          const docLink = document.createElement('div');\n",
              "          docLink.innerHTML = docLinkHtml;\n",
              "          element.appendChild(docLink);\n",
              "        }\n",
              "      </script>\n",
              "    </div>\n",
              "  </div>\n",
              "  "
            ]
          },
          "metadata": {},
          "execution_count": 133
        }
      ]
    },
    {
      "cell_type": "markdown",
      "source": [
        "4. Visualização de Dados"
      ],
      "metadata": {
        "id": "pYTghIJQMzJt"
      }
    },
    {
      "cell_type": "code",
      "source": [
        "# Sugestao de visualizacao do video https://www.youtube.com/watch?v=DeAuVrhKw58 \n",
        "import plotly.express as px\n",
        "  \n",
        "fig = px.scatter_3d(data,x = \"X\",y = 'Y',z = 'Z',color='flag')\n",
        "fig.show()"
      ],
      "metadata": {
        "colab": {
          "base_uri": "https://localhost:8080/",
          "height": 542
        },
        "id": "qTl2e02amZxc",
        "outputId": "75fdbe92-2d5b-42c5-ce1f-9bbe966584db"
      },
      "execution_count": null,
      "outputs": [
        {
          "output_type": "display_data",
          "data": {
            "text/html": [
              "<html>\n",
              "<head><meta charset=\"utf-8\" /></head>\n",
              "<body>\n",
              "    <div>            <script src=\"https://cdnjs.cloudflare.com/ajax/libs/mathjax/2.7.5/MathJax.js?config=TeX-AMS-MML_SVG\"></script><script type=\"text/javascript\">if (window.MathJax) {MathJax.Hub.Config({SVG: {font: \"STIX-Web\"}});}</script>                <script type=\"text/javascript\">window.PlotlyConfig = {MathJaxConfig: 'local'};</script>\n",
              "        <script src=\"https://cdn.plot.ly/plotly-2.8.3.min.js\"></script>                <div id=\"0434569b-2cd6-4017-987b-eaf8dfa7df2e\" class=\"plotly-graph-div\" style=\"height:525px; width:100%;\"></div>            <script type=\"text/javascript\">                                    window.PLOTLYENV=window.PLOTLYENV || {};                                    if (document.getElementById(\"0434569b-2cd6-4017-987b-eaf8dfa7df2e\")) {                    Plotly.newPlot(                        \"0434569b-2cd6-4017-987b-eaf8dfa7df2e\",                        [{\"hovertemplate\":\"flag=A<br>X=%{x}<br>Y=%{y}<br>Z=%{z}<extra></extra>\",\"legendgroup\":\"A\",\"marker\":{\"color\":\"#636efa\",\"symbol\":\"circle\"},\"mode\":\"markers\",\"name\":\"A\",\"scene\":\"scene\",\"showlegend\":true,\"x\":[0.29549668781337296,0.2280365388955656,0.039296881139250076,-1.2073767570293557,-0.7283025915246072,0.2763328868741648,-0.5732988685089043,-0.8547420842497698,0.4287124497432794,1.9680046914308889,-0.9060122567382045,0.38660304466624124,0.29043919630867326,-0.30108016625224515,1.5084292361143496,-0.23125548270478327,2.4525814022307686,-0.9092113441466901,-1.363865448238893,1.31054379603311],\"y\":[0.03617646098265862,-0.7301283673933485,1.2058262290101422,0.3039980528727694,0.34735418851821326,0.8546185515074721,-0.13323594262469038,0.5803254272817313,-0.17020520717671903,-1.7852160039739955,1.2012459074868131,-0.476775372715174,-0.13308858391905315,0.47454307891139796,-0.6025218593147935,0.6426178002502341,1.725025818537272,1.9966295779505316,0.9869305801924786,-0.05563499187308796],\"z\":[0.9356357600996281,-0.622252788674817,-1.0523748516595934,-0.2683598896480381,-1.6658207924111192,-0.30659018906619007,-0.2503110800760974,0.950193958173743,-1.58547830043965,-0.18035289751412423,-0.8151019072468071,-1.5137668694622939,-0.08390003659661063,1.3477448405744175,1.1565810169361221,0.7595840257439868,0.5235271546433643,-0.06096176759471245,-0.7422876112016449,0.7000423891340672],\"type\":\"scatter3d\"},{\"hovertemplate\":\"flag=B<br>X=%{x}<br>Y=%{y}<br>Z=%{z}<extra></extra>\",\"legendgroup\":\"B\",\"marker\":{\"color\":\"#EF553B\",\"symbol\":\"circle\"},\"mode\":\"markers\",\"name\":\"B\",\"scene\":\"scene\",\"showlegend\":true,\"x\":[1.57382371017561,0.9306129463139334,0.5489264768744644,3.1301499886141215,2.630504944646188,3.2889759185155523,1.5517924543711847,2.690407385578889,3.234069761410524,0.13481222984701158,2.3233277923596525,0.7958645582993611,1.8937189965078465,2.3030688928131045,3.0946890290812172,2.3463696106780048,1.1473649969791306,2.2926094773298678,1.3480179877878,1.6697859864672235],\"y\":[2.2339544661313946,2.686864467035953,0.9206542260911255,3.4467686287089565,1.7926508915049404,0.24833594792697067,3.744952102197331,3.605794207610627,3.2396794435245218,0.6700719139699509,2.57903443764812,2.4455270180117,1.7296175600636787,2.8581482280060575,2.9849447066894914,3.700142381575974,2.1378508803372043,2.2505802325880824,2.3325114169749406,0.6653172768294799],\"z\":[2.579632870309255,1.6466710926616472,1.8710769790692017,1.9099197797593326,1.4386376580939508,1.1710892337067844,2.1547459248801646,2.336458947441211,1.386805747533048,2.533670131367809,1.38129716489316,2.723755363920882,0.7093619238888409,1.6043934556745345,3.9866261597673467,2.346757344020028,2.978270563030546,3.332196718487321,3.7664444022121004,1.487144808110118],\"type\":\"scatter3d\"},{\"hovertemplate\":\"flag=C<br>X=%{x}<br>Y=%{y}<br>Z=%{z}<extra></extra>\",\"legendgroup\":\"C\",\"marker\":{\"color\":\"#00cc96\",\"symbol\":\"circle\"},\"mode\":\"markers\",\"name\":\"C\",\"scene\":\"scene\",\"showlegend\":true,\"x\":[3.4238262638736465,1.655818211684009,4.850316696054385,4.985757803819422,5.17918375591822,3.1269243385610097,4.065431746992214,2.5614318516833636,2.887098470657198,5.178435519599642,3.731731226982892,3.1898407902193955,3.1352328745310047,3.451592814413447,4.7861042006750205,3.7904222450758254,2.662249356782098,4.284304942706668,5.84611360240903,5.555615706420988],\"y\":[2.7698211581954375,5.208404364859282,3.9169306556734664,3.0499800002093824,2.7037763029858524,4.1843013034750935,3.1169387152420107,2.59498922992078,5.355117773502245,4.217701149547332,4.118322672746962,3.915794336598066,3.4001981190155197,3.7311971033817137,6.238695639685291,3.7644587173989796,2.550276740150959,2.6027075241122204,2.9656391476369626,3.8406998118922027],\"z\":[5.0470332492042225,3.3757899100844972,4.071085274786111,4.1936757501811694,2.9596319726780633,4.208616991554786,3.978720866744025,4.3946021303851825,4.061889388366543,5.166436656084865,4.180537746860123,5.598216016617748,4.139049280622217,3.6701527557424596,4.162225608843193,3.2447550146974202,3.7782806359767753,1.5462384622134064,2.237170284061705,4.279865325589365],\"type\":\"scatter3d\"}],                        {\"template\":{\"data\":{\"bar\":[{\"error_x\":{\"color\":\"#2a3f5f\"},\"error_y\":{\"color\":\"#2a3f5f\"},\"marker\":{\"line\":{\"color\":\"#E5ECF6\",\"width\":0.5},\"pattern\":{\"fillmode\":\"overlay\",\"size\":10,\"solidity\":0.2}},\"type\":\"bar\"}],\"barpolar\":[{\"marker\":{\"line\":{\"color\":\"#E5ECF6\",\"width\":0.5},\"pattern\":{\"fillmode\":\"overlay\",\"size\":10,\"solidity\":0.2}},\"type\":\"barpolar\"}],\"carpet\":[{\"aaxis\":{\"endlinecolor\":\"#2a3f5f\",\"gridcolor\":\"white\",\"linecolor\":\"white\",\"minorgridcolor\":\"white\",\"startlinecolor\":\"#2a3f5f\"},\"baxis\":{\"endlinecolor\":\"#2a3f5f\",\"gridcolor\":\"white\",\"linecolor\":\"white\",\"minorgridcolor\":\"white\",\"startlinecolor\":\"#2a3f5f\"},\"type\":\"carpet\"}],\"choropleth\":[{\"colorbar\":{\"outlinewidth\":0,\"ticks\":\"\"},\"type\":\"choropleth\"}],\"contour\":[{\"colorbar\":{\"outlinewidth\":0,\"ticks\":\"\"},\"colorscale\":[[0.0,\"#0d0887\"],[0.1111111111111111,\"#46039f\"],[0.2222222222222222,\"#7201a8\"],[0.3333333333333333,\"#9c179e\"],[0.4444444444444444,\"#bd3786\"],[0.5555555555555556,\"#d8576b\"],[0.6666666666666666,\"#ed7953\"],[0.7777777777777778,\"#fb9f3a\"],[0.8888888888888888,\"#fdca26\"],[1.0,\"#f0f921\"]],\"type\":\"contour\"}],\"contourcarpet\":[{\"colorbar\":{\"outlinewidth\":0,\"ticks\":\"\"},\"type\":\"contourcarpet\"}],\"heatmap\":[{\"colorbar\":{\"outlinewidth\":0,\"ticks\":\"\"},\"colorscale\":[[0.0,\"#0d0887\"],[0.1111111111111111,\"#46039f\"],[0.2222222222222222,\"#7201a8\"],[0.3333333333333333,\"#9c179e\"],[0.4444444444444444,\"#bd3786\"],[0.5555555555555556,\"#d8576b\"],[0.6666666666666666,\"#ed7953\"],[0.7777777777777778,\"#fb9f3a\"],[0.8888888888888888,\"#fdca26\"],[1.0,\"#f0f921\"]],\"type\":\"heatmap\"}],\"heatmapgl\":[{\"colorbar\":{\"outlinewidth\":0,\"ticks\":\"\"},\"colorscale\":[[0.0,\"#0d0887\"],[0.1111111111111111,\"#46039f\"],[0.2222222222222222,\"#7201a8\"],[0.3333333333333333,\"#9c179e\"],[0.4444444444444444,\"#bd3786\"],[0.5555555555555556,\"#d8576b\"],[0.6666666666666666,\"#ed7953\"],[0.7777777777777778,\"#fb9f3a\"],[0.8888888888888888,\"#fdca26\"],[1.0,\"#f0f921\"]],\"type\":\"heatmapgl\"}],\"histogram\":[{\"marker\":{\"pattern\":{\"fillmode\":\"overlay\",\"size\":10,\"solidity\":0.2}},\"type\":\"histogram\"}],\"histogram2d\":[{\"colorbar\":{\"outlinewidth\":0,\"ticks\":\"\"},\"colorscale\":[[0.0,\"#0d0887\"],[0.1111111111111111,\"#46039f\"],[0.2222222222222222,\"#7201a8\"],[0.3333333333333333,\"#9c179e\"],[0.4444444444444444,\"#bd3786\"],[0.5555555555555556,\"#d8576b\"],[0.6666666666666666,\"#ed7953\"],[0.7777777777777778,\"#fb9f3a\"],[0.8888888888888888,\"#fdca26\"],[1.0,\"#f0f921\"]],\"type\":\"histogram2d\"}],\"histogram2dcontour\":[{\"colorbar\":{\"outlinewidth\":0,\"ticks\":\"\"},\"colorscale\":[[0.0,\"#0d0887\"],[0.1111111111111111,\"#46039f\"],[0.2222222222222222,\"#7201a8\"],[0.3333333333333333,\"#9c179e\"],[0.4444444444444444,\"#bd3786\"],[0.5555555555555556,\"#d8576b\"],[0.6666666666666666,\"#ed7953\"],[0.7777777777777778,\"#fb9f3a\"],[0.8888888888888888,\"#fdca26\"],[1.0,\"#f0f921\"]],\"type\":\"histogram2dcontour\"}],\"mesh3d\":[{\"colorbar\":{\"outlinewidth\":0,\"ticks\":\"\"},\"type\":\"mesh3d\"}],\"parcoords\":[{\"line\":{\"colorbar\":{\"outlinewidth\":0,\"ticks\":\"\"}},\"type\":\"parcoords\"}],\"pie\":[{\"automargin\":true,\"type\":\"pie\"}],\"scatter\":[{\"marker\":{\"colorbar\":{\"outlinewidth\":0,\"ticks\":\"\"}},\"type\":\"scatter\"}],\"scatter3d\":[{\"line\":{\"colorbar\":{\"outlinewidth\":0,\"ticks\":\"\"}},\"marker\":{\"colorbar\":{\"outlinewidth\":0,\"ticks\":\"\"}},\"type\":\"scatter3d\"}],\"scattercarpet\":[{\"marker\":{\"colorbar\":{\"outlinewidth\":0,\"ticks\":\"\"}},\"type\":\"scattercarpet\"}],\"scattergeo\":[{\"marker\":{\"colorbar\":{\"outlinewidth\":0,\"ticks\":\"\"}},\"type\":\"scattergeo\"}],\"scattergl\":[{\"marker\":{\"colorbar\":{\"outlinewidth\":0,\"ticks\":\"\"}},\"type\":\"scattergl\"}],\"scattermapbox\":[{\"marker\":{\"colorbar\":{\"outlinewidth\":0,\"ticks\":\"\"}},\"type\":\"scattermapbox\"}],\"scatterpolar\":[{\"marker\":{\"colorbar\":{\"outlinewidth\":0,\"ticks\":\"\"}},\"type\":\"scatterpolar\"}],\"scatterpolargl\":[{\"marker\":{\"colorbar\":{\"outlinewidth\":0,\"ticks\":\"\"}},\"type\":\"scatterpolargl\"}],\"scatterternary\":[{\"marker\":{\"colorbar\":{\"outlinewidth\":0,\"ticks\":\"\"}},\"type\":\"scatterternary\"}],\"surface\":[{\"colorbar\":{\"outlinewidth\":0,\"ticks\":\"\"},\"colorscale\":[[0.0,\"#0d0887\"],[0.1111111111111111,\"#46039f\"],[0.2222222222222222,\"#7201a8\"],[0.3333333333333333,\"#9c179e\"],[0.4444444444444444,\"#bd3786\"],[0.5555555555555556,\"#d8576b\"],[0.6666666666666666,\"#ed7953\"],[0.7777777777777778,\"#fb9f3a\"],[0.8888888888888888,\"#fdca26\"],[1.0,\"#f0f921\"]],\"type\":\"surface\"}],\"table\":[{\"cells\":{\"fill\":{\"color\":\"#EBF0F8\"},\"line\":{\"color\":\"white\"}},\"header\":{\"fill\":{\"color\":\"#C8D4E3\"},\"line\":{\"color\":\"white\"}},\"type\":\"table\"}]},\"layout\":{\"annotationdefaults\":{\"arrowcolor\":\"#2a3f5f\",\"arrowhead\":0,\"arrowwidth\":1},\"autotypenumbers\":\"strict\",\"coloraxis\":{\"colorbar\":{\"outlinewidth\":0,\"ticks\":\"\"}},\"colorscale\":{\"diverging\":[[0,\"#8e0152\"],[0.1,\"#c51b7d\"],[0.2,\"#de77ae\"],[0.3,\"#f1b6da\"],[0.4,\"#fde0ef\"],[0.5,\"#f7f7f7\"],[0.6,\"#e6f5d0\"],[0.7,\"#b8e186\"],[0.8,\"#7fbc41\"],[0.9,\"#4d9221\"],[1,\"#276419\"]],\"sequential\":[[0.0,\"#0d0887\"],[0.1111111111111111,\"#46039f\"],[0.2222222222222222,\"#7201a8\"],[0.3333333333333333,\"#9c179e\"],[0.4444444444444444,\"#bd3786\"],[0.5555555555555556,\"#d8576b\"],[0.6666666666666666,\"#ed7953\"],[0.7777777777777778,\"#fb9f3a\"],[0.8888888888888888,\"#fdca26\"],[1.0,\"#f0f921\"]],\"sequentialminus\":[[0.0,\"#0d0887\"],[0.1111111111111111,\"#46039f\"],[0.2222222222222222,\"#7201a8\"],[0.3333333333333333,\"#9c179e\"],[0.4444444444444444,\"#bd3786\"],[0.5555555555555556,\"#d8576b\"],[0.6666666666666666,\"#ed7953\"],[0.7777777777777778,\"#fb9f3a\"],[0.8888888888888888,\"#fdca26\"],[1.0,\"#f0f921\"]]},\"colorway\":[\"#636efa\",\"#EF553B\",\"#00cc96\",\"#ab63fa\",\"#FFA15A\",\"#19d3f3\",\"#FF6692\",\"#B6E880\",\"#FF97FF\",\"#FECB52\"],\"font\":{\"color\":\"#2a3f5f\"},\"geo\":{\"bgcolor\":\"white\",\"lakecolor\":\"white\",\"landcolor\":\"#E5ECF6\",\"showlakes\":true,\"showland\":true,\"subunitcolor\":\"white\"},\"hoverlabel\":{\"align\":\"left\"},\"hovermode\":\"closest\",\"mapbox\":{\"style\":\"light\"},\"paper_bgcolor\":\"white\",\"plot_bgcolor\":\"#E5ECF6\",\"polar\":{\"angularaxis\":{\"gridcolor\":\"white\",\"linecolor\":\"white\",\"ticks\":\"\"},\"bgcolor\":\"#E5ECF6\",\"radialaxis\":{\"gridcolor\":\"white\",\"linecolor\":\"white\",\"ticks\":\"\"}},\"scene\":{\"xaxis\":{\"backgroundcolor\":\"#E5ECF6\",\"gridcolor\":\"white\",\"gridwidth\":2,\"linecolor\":\"white\",\"showbackground\":true,\"ticks\":\"\",\"zerolinecolor\":\"white\"},\"yaxis\":{\"backgroundcolor\":\"#E5ECF6\",\"gridcolor\":\"white\",\"gridwidth\":2,\"linecolor\":\"white\",\"showbackground\":true,\"ticks\":\"\",\"zerolinecolor\":\"white\"},\"zaxis\":{\"backgroundcolor\":\"#E5ECF6\",\"gridcolor\":\"white\",\"gridwidth\":2,\"linecolor\":\"white\",\"showbackground\":true,\"ticks\":\"\",\"zerolinecolor\":\"white\"}},\"shapedefaults\":{\"line\":{\"color\":\"#2a3f5f\"}},\"ternary\":{\"aaxis\":{\"gridcolor\":\"white\",\"linecolor\":\"white\",\"ticks\":\"\"},\"baxis\":{\"gridcolor\":\"white\",\"linecolor\":\"white\",\"ticks\":\"\"},\"bgcolor\":\"#E5ECF6\",\"caxis\":{\"gridcolor\":\"white\",\"linecolor\":\"white\",\"ticks\":\"\"}},\"title\":{\"x\":0.05},\"xaxis\":{\"automargin\":true,\"gridcolor\":\"white\",\"linecolor\":\"white\",\"ticks\":\"\",\"title\":{\"standoff\":15},\"zerolinecolor\":\"white\",\"zerolinewidth\":2},\"yaxis\":{\"automargin\":true,\"gridcolor\":\"white\",\"linecolor\":\"white\",\"ticks\":\"\",\"title\":{\"standoff\":15},\"zerolinecolor\":\"white\",\"zerolinewidth\":2}}},\"scene\":{\"domain\":{\"x\":[0.0,1.0],\"y\":[0.0,1.0]},\"xaxis\":{\"title\":{\"text\":\"X\"}},\"yaxis\":{\"title\":{\"text\":\"Y\"}},\"zaxis\":{\"title\":{\"text\":\"Z\"}}},\"legend\":{\"title\":{\"text\":\"flag\"},\"tracegroupgap\":0},\"margin\":{\"t\":60}},                        {\"responsive\": true}                    ).then(function(){\n",
              "                            \n",
              "var gd = document.getElementById('0434569b-2cd6-4017-987b-eaf8dfa7df2e');\n",
              "var x = new MutationObserver(function (mutations, observer) {{\n",
              "        var display = window.getComputedStyle(gd).display;\n",
              "        if (!display || display === 'none') {{\n",
              "            console.log([gd, 'removed!']);\n",
              "            Plotly.purge(gd);\n",
              "            observer.disconnect();\n",
              "        }}\n",
              "}});\n",
              "\n",
              "// Listen for the removal of the full notebook cells\n",
              "var notebookContainer = gd.closest('#notebook-container');\n",
              "if (notebookContainer) {{\n",
              "    x.observe(notebookContainer, {childList: true});\n",
              "}}\n",
              "\n",
              "// Listen for the clearing of the current output cell\n",
              "var outputEl = gd.closest('.output');\n",
              "if (outputEl) {{\n",
              "    x.observe(outputEl, {childList: true});\n",
              "}}\n",
              "\n",
              "                        })                };                            </script>        </div>\n",
              "</body>\n",
              "</html>"
            ]
          },
          "metadata": {}
        }
      ]
    },
    {
      "cell_type": "markdown",
      "source": [
        "5. Separação de subconjuntos de treinamento e validação"
      ],
      "metadata": {
        "id": "XEJnDr6OM5jL"
      }
    },
    {
      "cell_type": "code",
      "source": [
        "from sklearn.neighbors import KNeighborsClassifier\n",
        "from sklearn.model_selection import train_test_split\n",
        "\n",
        "# Preditoras \n",
        "X = data.iloc[:, 0:3]\n",
        "# Independente \n",
        "y = data.iloc[:, -1]\n",
        "\n",
        "X_train,  X_test,Y_train, Y_test = train_test_split(X,y,test_size=0.3, random_state=13)\n"
      ],
      "metadata": {
        "id": "jMZNTvwGo_eN"
      },
      "execution_count": null,
      "outputs": []
    },
    {
      "cell_type": "markdown",
      "source": [
        "6. Ajuste de modelo de classificação"
      ],
      "metadata": {
        "id": "wEG3KBu_NJ7T"
      }
    },
    {
      "cell_type": "code",
      "source": [
        "# Definicao do numero de vizinhos \n",
        "n_neighbors = 10\n",
        "# Classificador\n",
        "clf = KNeighborsClassifier(n_neighbors=n_neighbors)\n",
        "\n",
        "# Modelo no conjunto de treinamento \n",
        "clf.fit(X_train, Y_train)\n"
      ],
      "metadata": {
        "colab": {
          "base_uri": "https://localhost:8080/"
        },
        "id": "FL5S3CFVyN4f",
        "outputId": "0b4fb72e-5cc8-4b80-b38e-118f528c5cd8"
      },
      "execution_count": null,
      "outputs": [
        {
          "output_type": "execute_result",
          "data": {
            "text/plain": [
              "KNeighborsClassifier(n_neighbors=10)"
            ]
          },
          "metadata": {},
          "execution_count": 136
        }
      ]
    },
    {
      "cell_type": "code",
      "source": [],
      "metadata": {
        "id": "vjp20rDONXZA"
      },
      "execution_count": null,
      "outputs": []
    },
    {
      "cell_type": "markdown",
      "source": [
        "7. Classificação de dados de validação/teste"
      ],
      "metadata": {
        "id": "54WgQneUOavy"
      }
    },
    {
      "cell_type": "code",
      "source": [
        "# Prevendo a classificacao do conjunto de treinamento\n",
        "y_pred = clf.predict(X_test)\n",
        "y_pred"
      ],
      "metadata": {
        "colab": {
          "base_uri": "https://localhost:8080/"
        },
        "id": "EloAQbOZ0q3k",
        "outputId": "644a6795-ee19-477b-e169-b38a800ea161"
      },
      "execution_count": null,
      "outputs": [
        {
          "output_type": "execute_result",
          "data": {
            "text/plain": [
              "array(['B', 'A', 'B', 'B', 'A', 'A', 'C', 'B', 'B', 'A', 'B', 'B', 'C',\n",
              "       'B', 'A', 'C', 'C', 'C'], dtype=object)"
            ]
          },
          "metadata": {},
          "execution_count": 137
        }
      ]
    },
    {
      "cell_type": "code",
      "source": [],
      "metadata": {
        "id": "AEqnindMNks9"
      },
      "execution_count": null,
      "outputs": []
    },
    {
      "cell_type": "markdown",
      "source": [
        "8. Relatório do desempenho do modelo"
      ],
      "metadata": {
        "id": "N0ydcyBbOYf-"
      }
    },
    {
      "cell_type": "code",
      "source": [
        "# Avaliando as metricas \n",
        "#from sklearn.metrics import classification_report\n",
        "## Metrics\n",
        "from sklearn.metrics import classification_report, confusion_matrix\n",
        "#Install -> !pip install scikit-plot\n",
        "!pip install scikit-plot\n",
        "import scikitplot as skplt\n",
        "\n",
        "print(classification_report(Y_test,y_pred))\n",
        "\n",
        "##Confusion Matrix\n",
        "skplt.metrics.plot_confusion_matrix(Y_test, y_pred, normalize=False, title='Confusion Matrix')\n",
        "plt.tight_layout()\n",
        "plt.show();\n"
      ],
      "metadata": {
        "colab": {
          "base_uri": "https://localhost:8080/",
          "height": 734
        },
        "id": "zg5J1PGj2L3N",
        "outputId": "b91e8c28-0944-497b-887f-89c82bce4ed5"
      },
      "execution_count": null,
      "outputs": [
        {
          "output_type": "stream",
          "name": "stdout",
          "text": [
            "Looking in indexes: https://pypi.org/simple, https://us-python.pkg.dev/colab-wheels/public/simple/\n",
            "Requirement already satisfied: scikit-plot in /usr/local/lib/python3.7/dist-packages (0.3.7)\n",
            "Requirement already satisfied: scipy>=0.9 in /usr/local/lib/python3.7/dist-packages (from scikit-plot) (1.7.3)\n",
            "Requirement already satisfied: joblib>=0.10 in /usr/local/lib/python3.7/dist-packages (from scikit-plot) (1.2.0)\n",
            "Requirement already satisfied: scikit-learn>=0.18 in /usr/local/lib/python3.7/dist-packages (from scikit-plot) (1.0.2)\n",
            "Requirement already satisfied: matplotlib>=1.4.0 in /usr/local/lib/python3.7/dist-packages (from scikit-plot) (3.2.2)\n",
            "Requirement already satisfied: cycler>=0.10 in /usr/local/lib/python3.7/dist-packages (from matplotlib>=1.4.0->scikit-plot) (0.11.0)\n",
            "Requirement already satisfied: numpy>=1.11 in /usr/local/lib/python3.7/dist-packages (from matplotlib>=1.4.0->scikit-plot) (1.21.6)\n",
            "Requirement already satisfied: python-dateutil>=2.1 in /usr/local/lib/python3.7/dist-packages (from matplotlib>=1.4.0->scikit-plot) (2.8.2)\n",
            "Requirement already satisfied: kiwisolver>=1.0.1 in /usr/local/lib/python3.7/dist-packages (from matplotlib>=1.4.0->scikit-plot) (1.4.4)\n",
            "Requirement already satisfied: pyparsing!=2.0.4,!=2.1.2,!=2.1.6,>=2.0.1 in /usr/local/lib/python3.7/dist-packages (from matplotlib>=1.4.0->scikit-plot) (3.0.9)\n",
            "Requirement already satisfied: typing-extensions in /usr/local/lib/python3.7/dist-packages (from kiwisolver>=1.0.1->matplotlib>=1.4.0->scikit-plot) (4.1.1)\n",
            "Requirement already satisfied: six>=1.5 in /usr/local/lib/python3.7/dist-packages (from python-dateutil>=2.1->matplotlib>=1.4.0->scikit-plot) (1.15.0)\n",
            "Requirement already satisfied: threadpoolctl>=2.0.0 in /usr/local/lib/python3.7/dist-packages (from scikit-learn>=0.18->scikit-plot) (3.1.0)\n",
            "              precision    recall  f1-score   support\n",
            "\n",
            "           A       1.00      1.00      1.00         5\n",
            "           B       0.75      1.00      0.86         6\n",
            "           C       1.00      0.71      0.83         7\n",
            "\n",
            "    accuracy                           0.89        18\n",
            "   macro avg       0.92      0.90      0.90        18\n",
            "weighted avg       0.92      0.89      0.89        18\n",
            "\n"
          ]
        },
        {
          "output_type": "display_data",
          "data": {
            "text/plain": [
              "<Figure size 432x288 with 2 Axes>"
            ],
            "image/png": "[encoded data removed]"
          },
          "metadata": {
            "needs_background": "light"
          }
        }
      ]
    },
    {
      "cell_type": "code",
      "source": [
        "5/6"
      ],
      "metadata": {
        "colab": {
          "base_uri": "https://localhost:8080/"
        },
        "id": "88oJVZFCgfq5",
        "outputId": "f9b010a4-5bc9-42ce-9f96-c67294ca9638"
      },
      "execution_count": null,
      "outputs": [
        {
          "output_type": "execute_result",
          "data": {
            "text/plain": [
              "0.8333333333333334"
            ]
          },
          "metadata": {},
          "execution_count": 139
        }
      ]
    },
    {
      "cell_type": "markdown",
      "source": [
        "# Reamostragem\n",
        "## Validacao Cruzada"
      ],
      "metadata": {
        "id": "RWTS-3-z8vTI"
      }
    },
    {
      "cell_type": "markdown",
      "source": [
        "### Leave One Out Cross Validation - LOOCV"
      ],
      "metadata": {
        "id": "eYLtcuQkh3wH"
      }
    },
    {
      "cell_type": "markdown",
      "source": [
        "9. Conversão DataFrame em Array"
      ],
      "metadata": {
        "id": "GXC4orcOOi1O"
      }
    },
    {
      "cell_type": "code",
      "source": [
        "# Leave One Out Cross Validation - LOOCV \n",
        "from sklearn.model_selection import LeaveOneOut   \n",
        "\n",
        "Xcv = X.to_numpy()\n",
        "Ycv = y.to_numpy()\n",
        "\n",
        "loo = LeaveOneOut()\n",
        "loo.get_n_splits(Xcv)\n",
        "\n"
      ],
      "metadata": {
        "colab": {
          "base_uri": "https://localhost:8080/"
        },
        "id": "nCo0FSdn8ueT",
        "outputId": "fa1acb19-1904-40cc-8f72-bb72eb18aa8a"
      },
      "execution_count": null,
      "outputs": [
        {
          "output_type": "execute_result",
          "data": {
            "text/plain": [
              "60"
            ]
          },
          "metadata": {},
          "execution_count": 140
        }
      ]
    },
    {
      "cell_type": "code",
      "source": [
        "# check structure \n",
        "Xcv"
      ],
      "metadata": {
        "colab": {
          "base_uri": "https://localhost:8080/"
        },
        "id": "AsZkdKBjrwc0",
        "outputId": "44741f5e-33d3-40d7-916c-cfa68fca061a"
      },
      "execution_count": null,
      "outputs": [
        {
          "output_type": "execute_result",
          "data": {
            "text/plain": [
              "array([[0.29549668781337296, 0.03617646098265862, 0.9356357600996281],\n",
              "       [0.2280365388955656, -0.7301283673933485, -0.622252788674817],\n",
              "       [0.039296881139250076, 1.2058262290101422, -1.0523748516595934],\n",
              "       [-1.2073767570293557, 0.3039980528727694, -0.2683598896480381],\n",
              "       [-0.7283025915246072, 0.34735418851821326, -1.6658207924111192],\n",
              "       [0.2763328868741648, 0.8546185515074721, -0.30659018906619007],\n",
              "       [-0.5732988685089043, -0.13323594262469038, -0.2503110800760974],\n",
              "       [-0.8547420842497698, 0.5803254272817313, 0.950193958173743],\n",
              "       [0.4287124497432794, -0.17020520717671903, -1.58547830043965],\n",
              "       [1.9680046914308889, -1.7852160039739955, -0.18035289751412423],\n",
              "       [-0.9060122567382045, 1.2012459074868131, -0.8151019072468071],\n",
              "       [0.38660304466624124, -0.476775372715174, -1.5137668694622939],\n",
              "       [0.29043919630867326, -0.13308858391905315, -0.08390003659661063],\n",
              "       [-0.30108016625224515, 0.47454307891139796, 1.3477448405744175],\n",
              "       [1.5084292361143496, -0.6025218593147935, 1.1565810169361221],\n",
              "       [-0.23125548270478327, 0.6426178002502341, 0.7595840257439868],\n",
              "       [2.4525814022307686, 1.725025818537272, 0.5235271546433643],\n",
              "       [-0.9092113441466901, 1.9966295779505316, -0.06096176759471245],\n",
              "       [-1.363865448238893, 0.9869305801924786, -0.7422876112016449],\n",
              "       [1.31054379603311, -0.05563499187308796, 0.7000423891340672],\n",
              "       [1.57382371017561, 2.2339544661313946, 2.579632870309255],\n",
              "       [0.9306129463139334, 2.686864467035953, 1.6466710926616472],\n",
              "       [0.5489264768744644, 0.9206542260911255, 1.8710769790692017],\n",
              "       [3.1301499886141215, 3.4467686287089565, 1.9099197797593326],\n",
              "       [2.630504944646188, 1.7926508915049404, 1.4386376580939508],\n",
              "       [3.2889759185155523, 0.24833594792697067, 1.1710892337067844],\n",
              "       [1.5517924543711847, 3.744952102197331, 2.1547459248801646],\n",
              "       [2.690407385578889, 3.605794207610627, 2.336458947441211],\n",
              "       [3.234069761410524, 3.2396794435245218, 1.386805747533048],\n",
              "       [0.13481222984701158, 0.6700719139699509, 2.533670131367809],\n",
              "       [2.3233277923596525, 2.57903443764812, 1.38129716489316],\n",
              "       [0.7958645582993611, 2.4455270180117, 2.723755363920882],\n",
              "       [1.8937189965078465, 1.7296175600636787, 0.7093619238888409],\n",
              "       [2.3030688928131045, 2.8581482280060575, 1.6043934556745345],\n",
              "       [3.0946890290812172, 2.9849447066894914, 3.9866261597673467],\n",
              "       [2.3463696106780048, 3.700142381575974, 2.346757344020028],\n",
              "       [1.1473649969791306, 2.1378508803372043, 2.978270563030546],\n",
              "       [2.2926094773298678, 2.2505802325880824, 3.332196718487321],\n",
              "       [1.3480179877878, 2.3325114169749406, 3.7664444022121004],\n",
              "       [1.6697859864672235, 0.6653172768294799, 1.487144808110118],\n",
              "       [3.4238262638736465, 2.7698211581954375, 5.0470332492042225],\n",
              "       [1.655818211684009, 5.208404364859282, 3.3757899100844972],\n",
              "       [4.850316696054385, 3.9169306556734664, 4.071085274786111],\n",
              "       [4.985757803819422, 3.0499800002093824, 4.1936757501811694],\n",
              "       [5.17918375591822, 2.7037763029858524, 2.9596319726780633],\n",
              "       [3.1269243385610097, 4.1843013034750935, 4.208616991554786],\n",
              "       [4.065431746992214, 3.1169387152420107, 3.978720866744025],\n",
              "       [2.5614318516833636, 2.59498922992078, 4.3946021303851825],\n",
              "       [2.887098470657198, 5.355117773502245, 4.061889388366543],\n",
              "       [5.178435519599642, 4.217701149547332, 5.166436656084865],\n",
              "       [3.731731226982892, 4.118322672746962, 4.180537746860123],\n",
              "       [3.1898407902193955, 3.915794336598066, 5.598216016617748],\n",
              "       [3.1352328745310047, 3.4001981190155197, 4.139049280622217],\n",
              "       [3.451592814413447, 3.7311971033817137, 3.6701527557424596],\n",
              "       [4.7861042006750205, 6.238695639685291, 4.162225608843193],\n",
              "       [3.7904222450758254, 3.7644587173989796, 3.2447550146974202],\n",
              "       [2.662249356782098, 2.550276740150959, 3.7782806359767753],\n",
              "       [4.284304942706668, 2.6027075241122204, 1.5462384622134064],\n",
              "       [5.84611360240903, 2.9656391476369626, 2.237170284061705],\n",
              "       [5.555615706420988, 3.8406998118922027, 4.279865325589365]],\n",
              "      dtype=object)"
            ]
          },
          "metadata": {},
          "execution_count": 145
        }
      ]
    },
    {
      "cell_type": "markdown",
      "source": [
        "10. Definição de métrica e aplicação do LOOCV"
      ],
      "metadata": {
        "id": "EMGM5W6AOrPX"
      }
    },
    {
      "cell_type": "code",
      "source": [
        "from sklearn.metrics import accuracy_score\n",
        "criterio = []\n",
        "# Definicao do numero de vizinhos \n",
        "n_neighbors = 10\n",
        "# Classificador\n",
        "clf = KNeighborsClassifier(n_neighbors=n_neighbors)\n",
        "for train_index, test_index in loo.split(Xcv):\n",
        "  print(\"TRAIN:\", train_index, \"TEST:\", test_index)\n",
        "  X_train, X_test = Xcv[train_index], Xcv[test_index]\n",
        "  y_train, y_test = Ycv[train_index], Ycv[test_index]\n",
        "#  print(X_train, X_test, y_train, y_test)\n",
        "  clf.fit(X_train, y_train)\n",
        "  y_pred = clf.predict(X_test)\n",
        "  criterio.append(accuracy_score(y_pred, y_test)) \n",
        "\n",
        "print(sum(criterio))\n"
      ],
      "metadata": {
        "colab": {
          "base_uri": "https://localhost:8080/"
        },
        "id": "ajPJa7N2oyz5",
        "outputId": "0c38cf33-8627-463d-e035-3b65ee52a236"
      },
      "execution_count": null,
      "outputs": [
        {
          "output_type": "stream",
          "name": "stdout",
          "text": [
            "TRAIN: [ 1  2  3  4  5  6  7  8  9 10 11 12 13 14 15 16 17 18 19 20 21 22 23 24\n",
            " 25 26 27 28 29 30 31 32 33 34 35 36 37 38 39 40 41 42 43 44 45 46 47 48\n",
            " 49 50 51 52 53 54 55 56 57 58 59] TEST: [0]\n",
            "TRAIN: [ 0  2  3  4  5  6  7  8  9 10 11 12 13 14 15 16 17 18 19 20 21 22 23 24\n",
            " 25 26 27 28 29 30 31 32 33 34 35 36 37 38 39 40 41 42 43 44 45 46 47 48\n",
            " 49 50 51 52 53 54 55 56 57 58 59] TEST: [1]\n",
            "TRAIN: [ 0  1  3  4  5  6  7  8  9 10 11 12 13 14 15 16 17 18 19 20 21 22 23 24\n",
            " 25 26 27 28 29 30 31 32 33 34 35 36 37 38 39 40 41 42 43 44 45 46 47 48\n",
            " 49 50 51 52 53 54 55 56 57 58 59] TEST: [2]\n",
            "TRAIN: [ 0  1  2  4  5  6  7  8  9 10 11 12 13 14 15 16 17 18 19 20 21 22 23 24\n",
            " 25 26 27 28 29 30 31 32 33 34 35 36 37 38 39 40 41 42 43 44 45 46 47 48\n",
            " 49 50 51 52 53 54 55 56 57 58 59] TEST: [3]\n",
            "TRAIN: [ 0  1  2  3  5  6  7  8  9 10 11 12 13 14 15 16 17 18 19 20 21 22 23 24\n",
            " 25 26 27 28 29 30 31 32 33 34 35 36 37 38 39 40 41 42 43 44 45 46 47 48\n",
            " 49 50 51 52 53 54 55 56 57 58 59] TEST: [4]\n",
            "TRAIN: [ 0  1  2  3  4  6  7  8  9 10 11 12 13 14 15 16 17 18 19 20 21 22 23 24\n",
            " 25 26 27 28 29 30 31 32 33 34 35 36 37 38 39 40 41 42 43 44 45 46 47 48\n",
            " 49 50 51 52 53 54 55 56 57 58 59] TEST: [5]\n",
            "TRAIN: [ 0  1  2  3  4  5  7  8  9 10 11 12 13 14 15 16 17 18 19 20 21 22 23 24\n",
            " 25 26 27 28 29 30 31 32 33 34 35 36 37 38 39 40 41 42 43 44 45 46 47 48\n",
            " 49 50 51 52 53 54 55 56 57 58 59] TEST: [6]\n",
            "TRAIN: [ 0  1  2  3  4  5  6  8  9 10 11 12 13 14 15 16 17 18 19 20 21 22 23 24\n",
            " 25 26 27 28 29 30 31 32 33 34 35 36 37 38 39 40 41 42 43 44 45 46 47 48\n",
            " 49 50 51 52 53 54 55 56 57 58 59] TEST: [7]\n",
            "TRAIN: [ 0  1  2  3  4  5  6  7  9 10 11 12 13 14 15 16 17 18 19 20 21 22 23 24\n",
            " 25 26 27 28 29 30 31 32 33 34 35 36 37 38 39 40 41 42 43 44 45 46 47 48\n",
            " 49 50 51 52 53 54 55 56 57 58 59] TEST: [8]\n",
            "TRAIN: [ 0  1  2  3  4  5  6  7  8 10 11 12 13 14 15 16 17 18 19 20 21 22 23 24\n",
            " 25 26 27 28 29 30 31 32 33 34 35 36 37 38 39 40 41 42 43 44 45 46 47 48\n",
            " 49 50 51 52 53 54 55 56 57 58 59] TEST: [9]\n",
            "TRAIN: [ 0  1  2  3  4  5  6  7  8  9 11 12 13 14 15 16 17 18 19 20 21 22 23 24\n",
            " 25 26 27 28 29 30 31 32 33 34 35 36 37 38 39 40 41 42 43 44 45 46 47 48\n",
            " 49 50 51 52 53 54 55 56 57 58 59] TEST: [10]\n",
            "TRAIN: [ 0  1  2  3  4  5  6  7  8  9 10 12 13 14 15 16 17 18 19 20 21 22 23 24\n",
            " 25 26 27 28 29 30 31 32 33 34 35 36 37 38 39 40 41 42 43 44 45 46 47 48\n",
            " 49 50 51 52 53 54 55 56 57 58 59] TEST: [11]\n",
            "TRAIN: [ 0  1  2  3  4  5  6  7  8  9 10 11 13 14 15 16 17 18 19 20 21 22 23 24\n",
            " 25 26 27 28 29 30 31 32 33 34 35 36 37 38 39 40 41 42 43 44 45 46 47 48\n",
            " 49 50 51 52 53 54 55 56 57 58 59] TEST: [12]\n",
            "TRAIN: [ 0  1  2  3  4  5  6  7  8  9 10 11 12 14 15 16 17 18 19 20 21 22 23 24\n",
            " 25 26 27 28 29 30 31 32 33 34 35 36 37 38 39 40 41 42 43 44 45 46 47 48\n",
            " 49 50 51 52 53 54 55 56 57 58 59] TEST: [13]\n",
            "TRAIN: [ 0  1  2  3  4  5  6  7  8  9 10 11 12 13 15 16 17 18 19 20 21 22 23 24\n",
            " 25 26 27 28 29 30 31 32 33 34 35 36 37 38 39 40 41 42 43 44 45 46 47 48\n",
            " 49 50 51 52 53 54 55 56 57 58 59] TEST: [14]\n",
            "TRAIN: [ 0  1  2  3  4  5  6  7  8  9 10 11 12 13 14 16 17 18 19 20 21 22 23 24\n",
            " 25 26 27 28 29 30 31 32 33 34 35 36 37 38 39 40 41 42 43 44 45 46 47 48\n",
            " 49 50 51 52 53 54 55 56 57 58 59] TEST: [15]\n",
            "TRAIN: [ 0  1  2  3  4  5  6  7  8  9 10 11 12 13 14 15 17 18 19 20 21 22 23 24\n",
            " 25 26 27 28 29 30 31 32 33 34 35 36 37 38 39 40 41 42 43 44 45 46 47 48\n",
            " 49 50 51 52 53 54 55 56 57 58 59] TEST: [16]\n",
            "TRAIN: [ 0  1  2  3  4  5  6  7  8  9 10 11 12 13 14 15 16 18 19 20 21 22 23 24\n",
            " 25 26 27 28 29 30 31 32 33 34 35 36 37 38 39 40 41 42 43 44 45 46 47 48\n",
            " 49 50 51 52 53 54 55 56 57 58 59] TEST: [17]\n",
            "TRAIN: [ 0  1  2  3  4  5  6  7  8  9 10 11 12 13 14 15 16 17 19 20 21 22 23 24\n",
            " 25 26 27 28 29 30 31 32 33 34 35 36 37 38 39 40 41 42 43 44 45 46 47 48\n",
            " 49 50 51 52 53 54 55 56 57 58 59] TEST: [18]\n",
            "TRAIN: [ 0  1  2  3  4  5  6  7  8  9 10 11 12 13 14 15 16 17 18 20 21 22 23 24\n",
            " 25 26 27 28 29 30 31 32 33 34 35 36 37 38 39 40 41 42 43 44 45 46 47 48\n",
            " 49 50 51 52 53 54 55 56 57 58 59] TEST: [19]\n",
            "TRAIN: [ 0  1  2  3  4  5  6  7  8  9 10 11 12 13 14 15 16 17 18 19 21 22 23 24\n",
            " 25 26 27 28 29 30 31 32 33 34 35 36 37 38 39 40 41 42 43 44 45 46 47 48\n",
            " 49 50 51 52 53 54 55 56 57 58 59] TEST: [20]\n",
            "TRAIN: [ 0  1  2  3  4  5  6  7  8  9 10 11 12 13 14 15 16 17 18 19 20 22 23 24\n",
            " 25 26 27 28 29 30 31 32 33 34 35 36 37 38 39 40 41 42 43 44 45 46 47 48\n",
            " 49 50 51 52 53 54 55 56 57 58 59] TEST: [21]\n",
            "TRAIN: [ 0  1  2  3  4  5  6  7  8  9 10 11 12 13 14 15 16 17 18 19 20 21 23 24\n",
            " 25 26 27 28 29 30 31 32 33 34 35 36 37 38 39 40 41 42 43 44 45 46 47 48\n",
            " 49 50 51 52 53 54 55 56 57 58 59] TEST: [22]\n",
            "TRAIN: [ 0  1  2  3  4  5  6  7  8  9 10 11 12 13 14 15 16 17 18 19 20 21 22 24\n",
            " 25 26 27 28 29 30 31 32 33 34 35 36 37 38 39 40 41 42 43 44 45 46 47 48\n",
            " 49 50 51 52 53 54 55 56 57 58 59] TEST: [23]\n",
            "TRAIN: [ 0  1  2  3  4  5  6  7  8  9 10 11 12 13 14 15 16 17 18 19 20 21 22 23\n",
            " 25 26 27 28 29 30 31 32 33 34 35 36 37 38 39 40 41 42 43 44 45 46 47 48\n",
            " 49 50 51 52 53 54 55 56 57 58 59] TEST: [24]\n",
            "TRAIN: [ 0  1  2  3  4  5  6  7  8  9 10 11 12 13 14 15 16 17 18 19 20 21 22 23\n",
            " 24 26 27 28 29 30 31 32 33 34 35 36 37 38 39 40 41 42 43 44 45 46 47 48\n",
            " 49 50 51 52 53 54 55 56 57 58 59] TEST: [25]\n",
            "TRAIN: [ 0  1  2  3  4  5  6  7  8  9 10 11 12 13 14 15 16 17 18 19 20 21 22 23\n",
            " 24 25 27 28 29 30 31 32 33 34 35 36 37 38 39 40 41 42 43 44 45 46 47 48\n",
            " 49 50 51 52 53 54 55 56 57 58 59] TEST: [26]\n",
            "TRAIN: [ 0  1  2  3  4  5  6  7  8  9 10 11 12 13 14 15 16 17 18 19 20 21 22 23\n",
            " 24 25 26 28 29 30 31 32 33 34 35 36 37 38 39 40 41 42 43 44 45 46 47 48\n",
            " 49 50 51 52 53 54 55 56 57 58 59] TEST: [27]\n",
            "TRAIN: [ 0  1  2  3  4  5  6  7  8  9 10 11 12 13 14 15 16 17 18 19 20 21 22 23\n",
            " 24 25 26 27 29 30 31 32 33 34 35 36 37 38 39 40 41 42 43 44 45 46 47 48\n",
            " 49 50 51 52 53 54 55 56 57 58 59] TEST: [28]\n",
            "TRAIN: [ 0  1  2  3  4  5  6  7  8  9 10 11 12 13 14 15 16 17 18 19 20 21 22 23\n",
            " 24 25 26 27 28 30 31 32 33 34 35 36 37 38 39 40 41 42 43 44 45 46 47 48\n",
            " 49 50 51 52 53 54 55 56 57 58 59] TEST: [29]\n",
            "TRAIN: [ 0  1  2  3  4  5  6  7  8  9 10 11 12 13 14 15 16 17 18 19 20 21 22 23\n",
            " 24 25 26 27 28 29 31 32 33 34 35 36 37 38 39 40 41 42 43 44 45 46 47 48\n",
            " 49 50 51 52 53 54 55 56 57 58 59] TEST: [30]\n",
            "TRAIN: [ 0  1  2  3  4  5  6  7  8  9 10 11 12 13 14 15 16 17 18 19 20 21 22 23\n",
            " 24 25 26 27 28 29 30 32 33 34 35 36 37 38 39 40 41 42 43 44 45 46 47 48\n",
            " 49 50 51 52 53 54 55 56 57 58 59] TEST: [31]\n",
            "TRAIN: [ 0  1  2  3  4  5  6  7  8  9 10 11 12 13 14 15 16 17 18 19 20 21 22 23\n",
            " 24 25 26 27 28 29 30 31 33 34 35 36 37 38 39 40 41 42 43 44 45 46 47 48\n",
            " 49 50 51 52 53 54 55 56 57 58 59] TEST: [32]\n",
            "TRAIN: [ 0  1  2  3  4  5  6  7  8  9 10 11 12 13 14 15 16 17 18 19 20 21 22 23\n",
            " 24 25 26 27 28 29 30 31 32 34 35 36 37 38 39 40 41 42 43 44 45 46 47 48\n",
            " 49 50 51 52 53 54 55 56 57 58 59] TEST: [33]\n",
            "TRAIN: [ 0  1  2  3  4  5  6  7  8  9 10 11 12 13 14 15 16 17 18 19 20 21 22 23\n",
            " 24 25 26 27 28 29 30 31 32 33 35 36 37 38 39 40 41 42 43 44 45 46 47 48\n",
            " 49 50 51 52 53 54 55 56 57 58 59] TEST: [34]\n",
            "TRAIN: [ 0  1  2  3  4  5  6  7  8  9 10 11 12 13 14 15 16 17 18 19 20 21 22 23\n",
            " 24 25 26 27 28 29 30 31 32 33 34 36 37 38 39 40 41 42 43 44 45 46 47 48\n",
            " 49 50 51 52 53 54 55 56 57 58 59] TEST: [35]\n",
            "TRAIN: [ 0  1  2  3  4  5  6  7  8  9 10 11 12 13 14 15 16 17 18 19 20 21 22 23\n",
            " 24 25 26 27 28 29 30 31 32 33 34 35 37 38 39 40 41 42 43 44 45 46 47 48\n",
            " 49 50 51 52 53 54 55 56 57 58 59] TEST: [36]\n",
            "TRAIN: [ 0  1  2  3  4  5  6  7  8  9 10 11 12 13 14 15 16 17 18 19 20 21 22 23\n",
            " 24 25 26 27 28 29 30 31 32 33 34 35 36 38 39 40 41 42 43 44 45 46 47 48\n",
            " 49 50 51 52 53 54 55 56 57 58 59] TEST: [37]\n",
            "TRAIN: [ 0  1  2  3  4  5  6  7  8  9 10 11 12 13 14 15 16 17 18 19 20 21 22 23\n",
            " 24 25 26 27 28 29 30 31 32 33 34 35 36 37 39 40 41 42 43 44 45 46 47 48\n",
            " 49 50 51 52 53 54 55 56 57 58 59] TEST: [38]\n",
            "TRAIN: [ 0  1  2  3  4  5  6  7  8  9 10 11 12 13 14 15 16 17 18 19 20 21 22 23\n",
            " 24 25 26 27 28 29 30 31 32 33 34 35 36 37 38 40 41 42 43 44 45 46 47 48\n",
            " 49 50 51 52 53 54 55 56 57 58 59] TEST: [39]\n",
            "TRAIN: [ 0  1  2  3  4  5  6  7  8  9 10 11 12 13 14 15 16 17 18 19 20 21 22 23\n",
            " 24 25 26 27 28 29 30 31 32 33 34 35 36 37 38 39 41 42 43 44 45 46 47 48\n",
            " 49 50 51 52 53 54 55 56 57 58 59] TEST: [40]\n",
            "TRAIN: [ 0  1  2  3  4  5  6  7  8  9 10 11 12 13 14 15 16 17 18 19 20 21 22 23\n",
            " 24 25 26 27 28 29 30 31 32 33 34 35 36 37 38 39 40 42 43 44 45 46 47 48\n",
            " 49 50 51 52 53 54 55 56 57 58 59] TEST: [41]\n",
            "TRAIN: [ 0  1  2  3  4  5  6  7  8  9 10 11 12 13 14 15 16 17 18 19 20 21 22 23\n",
            " 24 25 26 27 28 29 30 31 32 33 34 35 36 37 38 39 40 41 43 44 45 46 47 48\n",
            " 49 50 51 52 53 54 55 56 57 58 59] TEST: [42]\n",
            "TRAIN: [ 0  1  2  3  4  5  6  7  8  9 10 11 12 13 14 15 16 17 18 19 20 21 22 23\n",
            " 24 25 26 27 28 29 30 31 32 33 34 35 36 37 38 39 40 41 42 44 45 46 47 48\n",
            " 49 50 51 52 53 54 55 56 57 58 59] TEST: [43]\n",
            "TRAIN: [ 0  1  2  3  4  5  6  7  8  9 10 11 12 13 14 15 16 17 18 19 20 21 22 23\n",
            " 24 25 26 27 28 29 30 31 32 33 34 35 36 37 38 39 40 41 42 43 45 46 47 48\n",
            " 49 50 51 52 53 54 55 56 57 58 59] TEST: [44]\n",
            "TRAIN: [ 0  1  2  3  4  5  6  7  8  9 10 11 12 13 14 15 16 17 18 19 20 21 22 23\n",
            " 24 25 26 27 28 29 30 31 32 33 34 35 36 37 38 39 40 41 42 43 44 46 47 48\n",
            " 49 50 51 52 53 54 55 56 57 58 59] TEST: [45]\n",
            "TRAIN: [ 0  1  2  3  4  5  6  7  8  9 10 11 12 13 14 15 16 17 18 19 20 21 22 23\n",
            " 24 25 26 27 28 29 30 31 32 33 34 35 36 37 38 39 40 41 42 43 44 45 47 48\n",
            " 49 50 51 52 53 54 55 56 57 58 59] TEST: [46]\n",
            "TRAIN: [ 0  1  2  3  4  5  6  7  8  9 10 11 12 13 14 15 16 17 18 19 20 21 22 23\n",
            " 24 25 26 27 28 29 30 31 32 33 34 35 36 37 38 39 40 41 42 43 44 45 46 48\n",
            " 49 50 51 52 53 54 55 56 57 58 59] TEST: [47]\n",
            "TRAIN: [ 0  1  2  3  4  5  6  7  8  9 10 11 12 13 14 15 16 17 18 19 20 21 22 23\n",
            " 24 25 26 27 28 29 30 31 32 33 34 35 36 37 38 39 40 41 42 43 44 45 46 47\n",
            " 49 50 51 52 53 54 55 56 57 58 59] TEST: [48]\n",
            "TRAIN: [ 0  1  2  3  4  5  6  7  8  9 10 11 12 13 14 15 16 17 18 19 20 21 22 23\n",
            " 24 25 26 27 28 29 30 31 32 33 34 35 36 37 38 39 40 41 42 43 44 45 46 47\n",
            " 48 50 51 52 53 54 55 56 57 58 59] TEST: [49]\n",
            "TRAIN: [ 0  1  2  3  4  5  6  7  8  9 10 11 12 13 14 15 16 17 18 19 20 21 22 23\n",
            " 24 25 26 27 28 29 30 31 32 33 34 35 36 37 38 39 40 41 42 43 44 45 46 47\n",
            " 48 49 51 52 53 54 55 56 57 58 59] TEST: [50]\n",
            "TRAIN: [ 0  1  2  3  4  5  6  7  8  9 10 11 12 13 14 15 16 17 18 19 20 21 22 23\n",
            " 24 25 26 27 28 29 30 31 32 33 34 35 36 37 38 39 40 41 42 43 44 45 46 47\n",
            " 48 49 50 52 53 54 55 56 57 58 59] TEST: [51]\n",
            "TRAIN: [ 0  1  2  3  4  5  6  7  8  9 10 11 12 13 14 15 16 17 18 19 20 21 22 23\n",
            " 24 25 26 27 28 29 30 31 32 33 34 35 36 37 38 39 40 41 42 43 44 45 46 47\n",
            " 48 49 50 51 53 54 55 56 57 58 59] TEST: [52]\n",
            "TRAIN: [ 0  1  2  3  4  5  6  7  8  9 10 11 12 13 14 15 16 17 18 19 20 21 22 23\n",
            " 24 25 26 27 28 29 30 31 32 33 34 35 36 37 38 39 40 41 42 43 44 45 46 47\n",
            " 48 49 50 51 52 54 55 56 57 58 59] TEST: [53]\n",
            "TRAIN: [ 0  1  2  3  4  5  6  7  8  9 10 11 12 13 14 15 16 17 18 19 20 21 22 23\n",
            " 24 25 26 27 28 29 30 31 32 33 34 35 36 37 38 39 40 41 42 43 44 45 46 47\n",
            " 48 49 50 51 52 53 55 56 57 58 59] TEST: [54]\n",
            "TRAIN: [ 0  1  2  3  4  5  6  7  8  9 10 11 12 13 14 15 16 17 18 19 20 21 22 23\n",
            " 24 25 26 27 28 29 30 31 32 33 34 35 36 37 38 39 40 41 42 43 44 45 46 47\n",
            " 48 49 50 51 52 53 54 56 57 58 59] TEST: [55]\n",
            "TRAIN: [ 0  1  2  3  4  5  6  7  8  9 10 11 12 13 14 15 16 17 18 19 20 21 22 23\n",
            " 24 25 26 27 28 29 30 31 32 33 34 35 36 37 38 39 40 41 42 43 44 45 46 47\n",
            " 48 49 50 51 52 53 54 55 57 58 59] TEST: [56]\n",
            "TRAIN: [ 0  1  2  3  4  5  6  7  8  9 10 11 12 13 14 15 16 17 18 19 20 21 22 23\n",
            " 24 25 26 27 28 29 30 31 32 33 34 35 36 37 38 39 40 41 42 43 44 45 46 47\n",
            " 48 49 50 51 52 53 54 55 56 58 59] TEST: [57]\n",
            "TRAIN: [ 0  1  2  3  4  5  6  7  8  9 10 11 12 13 14 15 16 17 18 19 20 21 22 23\n",
            " 24 25 26 27 28 29 30 31 32 33 34 35 36 37 38 39 40 41 42 43 44 45 46 47\n",
            " 48 49 50 51 52 53 54 55 56 57 59] TEST: [58]\n",
            "TRAIN: [ 0  1  2  3  4  5  6  7  8  9 10 11 12 13 14 15 16 17 18 19 20 21 22 23\n",
            " 24 25 26 27 28 29 30 31 32 33 34 35 36 37 38 39 40 41 42 43 44 45 46 47\n",
            " 48 49 50 51 52 53 54 55 56 57 58] TEST: [59]\n",
            "55.0\n"
          ]
        }
      ]
    },
    {
      "cell_type": "markdown",
      "source": [
        "### K-Fold"
      ],
      "metadata": {
        "id": "k3lY8acsMA5l"
      }
    },
    {
      "cell_type": "code",
      "source": [
        "import numpy as np\n",
        "from sklearn.model_selection import KFold\n",
        "\n",
        "criterio = []\n",
        "# Definicao do numero de vizinhos \n",
        "n_neighbors = 10\n",
        "\n",
        "kf = KFold(n_splits=4,shuffle=True)\n",
        "kf.get_n_splits(Xcv)\n",
        "#print(kf)\n",
        "#KFold(n_splits=5, random_state=None, shuffle=False)\n",
        "for train_index, test_index in kf.split(Xcv):\n",
        "  print(\"TRAIN:\", train_index, \"TEST:\", test_index)\n",
        "  X_train, X_test = Xcv[train_index], Xcv[test_index]\n",
        "  y_train, y_test = Ycv[train_index], Ycv[test_index]\n",
        "  clf.fit(X_train, y_train)\n",
        "  y_pred = clf.predict(X_test)\n",
        "  criterio.append(accuracy_score(y_pred, y_test))\n",
        "\n",
        "print(criterio)\n"
      ],
      "metadata": {
        "colab": {
          "base_uri": "https://localhost:8080/"
        },
        "id": "IvOcbCHXPPdX",
        "outputId": "d2037879-e4ab-4210-a4b6-5d9677c6eda7"
      },
      "execution_count": null,
      "outputs": [
        {
          "output_type": "stream",
          "name": "stdout",
          "text": [
            "TRAIN: [ 0  2  4  5  6  8 10 11 12 14 15 16 17 19 22 24 25 26 27 28 30 31 32 33\n",
            " 36 37 38 40 41 42 43 45 46 47 48 49 50 51 52 54 55 56 57 58 59] TEST: [ 1  3  7  9 13 18 20 21 23 29 34 35 39 44 53]\n",
            "TRAIN: [ 0  1  2  3  4  7  9 11 13 14 15 16 18 20 21 23 24 25 26 27 29 30 31 33\n",
            " 34 35 36 38 39 40 41 43 44 46 47 49 50 51 52 53 54 56 57 58 59] TEST: [ 5  6  8 10 12 17 19 22 28 32 37 42 45 48 55]\n",
            "TRAIN: [ 0  1  3  4  5  6  7  8  9 10 11 12 13 15 16 17 18 19 20 21 22 23 26 28\n",
            " 29 32 34 35 37 38 39 41 42 43 44 45 47 48 49 52 53 54 55 57 59] TEST: [ 2 14 24 25 27 30 31 33 36 40 46 50 51 56 58]\n",
            "TRAIN: [ 1  2  3  5  6  7  8  9 10 12 13 14 17 18 19 20 21 22 23 24 25 27 28 29\n",
            " 30 31 32 33 34 35 36 37 39 40 42 44 45 46 48 50 51 53 55 56 58] TEST: [ 0  4 11 15 16 26 38 41 43 47 49 52 54 57 59]\n",
            "[0.8, 1.0, 0.9333333333333333, 0.8666666666666667]\n"
          ]
        }
      ]
    }
  ]
}